{
 "cells": [
  {
   "cell_type": "markdown",
   "metadata": {},
   "source": [
    "\n",
    "# Mass Mobilization Project\n",
    "<img style=\"float: right;\" src=\"../images/man_with_hammer.png\">\n",
    "\n",
    "\n",
    "### 0.2 Collecting external data, add Global Population and Population Density\n",
    "\n",
    "Data provided by the United Nations<br>\n",
    "https://population.un.org/wpp/Download/Standard/CSV/\n",
    "\n",
    "* Total population by sex, annually from 1950 to 2100.\n",
    "* PopMale: Total male population (thousands)\n",
    "* PopFemale: Total female population (thousands)\n",
    "* PopTotal: Total population, both sexes (thousands)\n",
    "* PopDensity: Population per square kilometre (thousands)\n",
    "\n",
    "A lot of work in this notebook is renaming country names in the downloaded U.N. file to match the names of the protest rows in the Mass Protest data.\n",
    "\n",
    "Once that is completed, merge the data."
   ]
  },
  {
   "cell_type": "code",
   "execution_count": 14,
   "metadata": {},
   "outputs": [],
   "source": [
    "import numpy as np\n",
    "import pandas as pd\n",
    "import pickle"
   ]
  },
  {
   "cell_type": "markdown",
   "metadata": {},
   "source": [
    "#### Load Mass Protest data pickled dataframe"
   ]
  },
  {
   "cell_type": "code",
   "execution_count": 15,
   "metadata": {},
   "outputs": [],
   "source": [
    "mass = pd.read_pickle('../data/01_EDA_participant_numbers.pkl')\n"
   ]
  },
  {
   "cell_type": "code",
   "execution_count": 16,
   "metadata": {},
   "outputs": [
    {
     "data": {
      "text/html": [
       "<div>\n",
       "<style scoped>\n",
       "    .dataframe tbody tr th:only-of-type {\n",
       "        vertical-align: middle;\n",
       "    }\n",
       "\n",
       "    .dataframe tbody tr th {\n",
       "        vertical-align: top;\n",
       "    }\n",
       "\n",
       "    .dataframe thead th {\n",
       "        text-align: right;\n",
       "    }\n",
       "</style>\n",
       "<table border=\"1\" class=\"dataframe\">\n",
       "  <thead>\n",
       "    <tr style=\"text-align: right;\">\n",
       "      <th></th>\n",
       "      <th>id</th>\n",
       "      <th>country</th>\n",
       "      <th>ccode</th>\n",
       "      <th>year</th>\n",
       "      <th>region</th>\n",
       "      <th>protestnumber</th>\n",
       "      <th>startday</th>\n",
       "      <th>startmonth</th>\n",
       "      <th>startyear</th>\n",
       "      <th>endday</th>\n",
       "      <th>...</th>\n",
       "      <th>stateresponse3</th>\n",
       "      <th>stateresponse4</th>\n",
       "      <th>stateresponse5</th>\n",
       "      <th>stateresponse6</th>\n",
       "      <th>stateresponse7</th>\n",
       "      <th>sources</th>\n",
       "      <th>notes</th>\n",
       "      <th>protester_id_type</th>\n",
       "      <th>partipants_number</th>\n",
       "      <th>protest_size_category</th>\n",
       "    </tr>\n",
       "  </thead>\n",
       "  <tbody>\n",
       "    <tr>\n",
       "      <th>0</th>\n",
       "      <td>201990001</td>\n",
       "      <td>Canada</td>\n",
       "      <td>20</td>\n",
       "      <td>1990</td>\n",
       "      <td>North America</td>\n",
       "      <td>1</td>\n",
       "      <td>15.0</td>\n",
       "      <td>1.0</td>\n",
       "      <td>1990.0</td>\n",
       "      <td>15.0</td>\n",
       "      <td>...</td>\n",
       "      <td>NaN</td>\n",
       "      <td>NaN</td>\n",
       "      <td>NaN</td>\n",
       "      <td>NaN</td>\n",
       "      <td>NaN</td>\n",
       "      <td>1. great canadian train journeys into history;...</td>\n",
       "      <td>canada s railway passenger system was finally ...</td>\n",
       "      <td>workers_unions</td>\n",
       "      <td>1000</td>\n",
       "      <td>1,000-4,999</td>\n",
       "    </tr>\n",
       "    <tr>\n",
       "      <th>1</th>\n",
       "      <td>201990002</td>\n",
       "      <td>Canada</td>\n",
       "      <td>20</td>\n",
       "      <td>1990</td>\n",
       "      <td>North America</td>\n",
       "      <td>2</td>\n",
       "      <td>25.0</td>\n",
       "      <td>6.0</td>\n",
       "      <td>1990.0</td>\n",
       "      <td>25.0</td>\n",
       "      <td>...</td>\n",
       "      <td>NaN</td>\n",
       "      <td>NaN</td>\n",
       "      <td>NaN</td>\n",
       "      <td>NaN</td>\n",
       "      <td>NaN</td>\n",
       "      <td>1. autonomy s cry revived in quebec the new yo...</td>\n",
       "      <td>protestors were only identified as young peopl...</td>\n",
       "      <td>students_youth</td>\n",
       "      <td>1000</td>\n",
       "      <td>1,000-4,999</td>\n",
       "    </tr>\n",
       "    <tr>\n",
       "      <th>2</th>\n",
       "      <td>201990003</td>\n",
       "      <td>Canada</td>\n",
       "      <td>20</td>\n",
       "      <td>1990</td>\n",
       "      <td>North America</td>\n",
       "      <td>3</td>\n",
       "      <td>1.0</td>\n",
       "      <td>7.0</td>\n",
       "      <td>1990.0</td>\n",
       "      <td>1.0</td>\n",
       "      <td>...</td>\n",
       "      <td>NaN</td>\n",
       "      <td>NaN</td>\n",
       "      <td>NaN</td>\n",
       "      <td>NaN</td>\n",
       "      <td>NaN</td>\n",
       "      <td>1. quebec protest after queen calls for unity ...</td>\n",
       "      <td>the queen, after calling on canadians to remai...</td>\n",
       "      <td>political_group</td>\n",
       "      <td>500</td>\n",
       "      <td>100-999</td>\n",
       "    </tr>\n",
       "  </tbody>\n",
       "</table>\n",
       "<p>3 rows × 31 columns</p>\n",
       "</div>"
      ],
      "text/plain": [
       "          id country  ccode  year         region  protestnumber  startday  \\\n",
       "0  201990001  Canada     20  1990  North America              1      15.0   \n",
       "1  201990002  Canada     20  1990  North America              2      25.0   \n",
       "2  201990003  Canada     20  1990  North America              3       1.0   \n",
       "\n",
       "   startmonth  startyear  endday  ...  stateresponse3  stateresponse4  \\\n",
       "0         1.0     1990.0    15.0  ...             NaN             NaN   \n",
       "1         6.0     1990.0    25.0  ...             NaN             NaN   \n",
       "2         7.0     1990.0     1.0  ...             NaN             NaN   \n",
       "\n",
       "   stateresponse5 stateresponse6 stateresponse7  \\\n",
       "0             NaN            NaN            NaN   \n",
       "1             NaN            NaN            NaN   \n",
       "2             NaN            NaN            NaN   \n",
       "\n",
       "                                             sources  \\\n",
       "0  1. great canadian train journeys into history;...   \n",
       "1  1. autonomy s cry revived in quebec the new yo...   \n",
       "2  1. quebec protest after queen calls for unity ...   \n",
       "\n",
       "                                               notes protester_id_type  \\\n",
       "0  canada s railway passenger system was finally ...    workers_unions   \n",
       "1  protestors were only identified as young peopl...    students_youth   \n",
       "2  the queen, after calling on canadians to remai...   political_group   \n",
       "\n",
       "  partipants_number protest_size_category  \n",
       "0              1000           1,000-4,999  \n",
       "1              1000           1,000-4,999  \n",
       "2               500               100-999  \n",
       "\n",
       "[3 rows x 31 columns]"
      ]
     },
     "execution_count": 16,
     "metadata": {},
     "output_type": "execute_result"
    }
   ],
   "source": [
    "mass.head(3)"
   ]
  },
  {
   "cell_type": "code",
   "execution_count": 17,
   "metadata": {},
   "outputs": [
    {
     "data": {
      "text/html": [
       "<div>\n",
       "<style scoped>\n",
       "    .dataframe tbody tr th:only-of-type {\n",
       "        vertical-align: middle;\n",
       "    }\n",
       "\n",
       "    .dataframe tbody tr th {\n",
       "        vertical-align: top;\n",
       "    }\n",
       "\n",
       "    .dataframe thead th {\n",
       "        text-align: right;\n",
       "    }\n",
       "</style>\n",
       "<table border=\"1\" class=\"dataframe\">\n",
       "  <thead>\n",
       "    <tr style=\"text-align: right;\">\n",
       "      <th></th>\n",
       "      <th>LocID</th>\n",
       "      <th>Location</th>\n",
       "      <th>VarID</th>\n",
       "      <th>Variant</th>\n",
       "      <th>Time</th>\n",
       "      <th>MidPeriod</th>\n",
       "      <th>PopMale</th>\n",
       "      <th>PopFemale</th>\n",
       "      <th>PopTotal</th>\n",
       "      <th>PopDensity</th>\n",
       "    </tr>\n",
       "  </thead>\n",
       "  <tbody>\n",
       "    <tr>\n",
       "      <th>0</th>\n",
       "      <td>4</td>\n",
       "      <td>Afghanistan</td>\n",
       "      <td>2</td>\n",
       "      <td>Medium</td>\n",
       "      <td>1950</td>\n",
       "      <td>1950.5</td>\n",
       "      <td>4099.243</td>\n",
       "      <td>3652.874</td>\n",
       "      <td>7752.117</td>\n",
       "      <td>11.874</td>\n",
       "    </tr>\n",
       "    <tr>\n",
       "      <th>1</th>\n",
       "      <td>4</td>\n",
       "      <td>Afghanistan</td>\n",
       "      <td>2</td>\n",
       "      <td>Medium</td>\n",
       "      <td>1951</td>\n",
       "      <td>1951.5</td>\n",
       "      <td>4134.756</td>\n",
       "      <td>3705.395</td>\n",
       "      <td>7840.151</td>\n",
       "      <td>12.009</td>\n",
       "    </tr>\n",
       "    <tr>\n",
       "      <th>2</th>\n",
       "      <td>4</td>\n",
       "      <td>Afghanistan</td>\n",
       "      <td>2</td>\n",
       "      <td>Medium</td>\n",
       "      <td>1952</td>\n",
       "      <td>1952.5</td>\n",
       "      <td>4174.450</td>\n",
       "      <td>3761.546</td>\n",
       "      <td>7935.996</td>\n",
       "      <td>12.156</td>\n",
       "    </tr>\n",
       "  </tbody>\n",
       "</table>\n",
       "</div>"
      ],
      "text/plain": [
       "   LocID     Location  VarID Variant  Time  MidPeriod   PopMale  PopFemale  \\\n",
       "0      4  Afghanistan      2  Medium  1950     1950.5  4099.243   3652.874   \n",
       "1      4  Afghanistan      2  Medium  1951     1951.5  4134.756   3705.395   \n",
       "2      4  Afghanistan      2  Medium  1952     1952.5  4174.450   3761.546   \n",
       "\n",
       "   PopTotal  PopDensity  \n",
       "0  7752.117      11.874  \n",
       "1  7840.151      12.009  \n",
       "2  7935.996      12.156  "
      ]
     },
     "execution_count": 17,
     "metadata": {},
     "output_type": "execute_result"
    }
   ],
   "source": [
    "pop_df = pd.read_csv('../source/WPP2019_TotalPopulationBySex.csv')\n",
    "pop_df.head(3)"
   ]
  },
  {
   "cell_type": "markdown",
   "metadata": {},
   "source": [
    "The United Nations global population estimate data contains several projection models based on Fertility, Mortality, etc.\n",
    "For our purposes, we will use the Medium variant.\n",
    "\n",
    "From the [U.N. web site:](https://population.un.org/wpp/DefinitionOfProjectionVariants/)\n",
    "\n",
    ">Medium-variant projection: in projecting future levels of fertility and mortality, probabilistic methods were used to reflect the uncertainty of the projections based on the historical variability of changes in each variable. The method takes into account the past experience of each country, while also reflecting uncertainty about future changes based on the past experience of other countries under similar conditions.  The medium-variant projection corresponds to the median of several thousand distinct trajectories of each demographic component derived using the probabilistic model of the variability in changes over time. "
   ]
  },
  {
   "cell_type": "code",
   "execution_count": 18,
   "metadata": {},
   "outputs": [
    {
     "data": {
      "text/html": [
       "<div>\n",
       "<style scoped>\n",
       "    .dataframe tbody tr th:only-of-type {\n",
       "        vertical-align: middle;\n",
       "    }\n",
       "\n",
       "    .dataframe tbody tr th {\n",
       "        vertical-align: top;\n",
       "    }\n",
       "\n",
       "    .dataframe thead th {\n",
       "        text-align: right;\n",
       "    }\n",
       "</style>\n",
       "<table border=\"1\" class=\"dataframe\">\n",
       "  <thead>\n",
       "    <tr style=\"text-align: right;\">\n",
       "      <th></th>\n",
       "      <th>country</th>\n",
       "      <th>year</th>\n",
       "      <th>PopMale</th>\n",
       "      <th>PopFemale</th>\n",
       "      <th>PopTotal</th>\n",
       "      <th>PopDensity</th>\n",
       "    </tr>\n",
       "  </thead>\n",
       "  <tbody>\n",
       "    <tr>\n",
       "      <th>0</th>\n",
       "      <td>Afghanistan</td>\n",
       "      <td>1950</td>\n",
       "      <td>4099.243</td>\n",
       "      <td>3652.874</td>\n",
       "      <td>7752.117</td>\n",
       "      <td>11.874</td>\n",
       "    </tr>\n",
       "    <tr>\n",
       "      <th>1</th>\n",
       "      <td>Afghanistan</td>\n",
       "      <td>1951</td>\n",
       "      <td>4134.756</td>\n",
       "      <td>3705.395</td>\n",
       "      <td>7840.151</td>\n",
       "      <td>12.009</td>\n",
       "    </tr>\n",
       "    <tr>\n",
       "      <th>2</th>\n",
       "      <td>Afghanistan</td>\n",
       "      <td>1952</td>\n",
       "      <td>4174.450</td>\n",
       "      <td>3761.546</td>\n",
       "      <td>7935.996</td>\n",
       "      <td>12.156</td>\n",
       "    </tr>\n",
       "    <tr>\n",
       "      <th>3</th>\n",
       "      <td>Afghanistan</td>\n",
       "      <td>1953</td>\n",
       "      <td>4218.336</td>\n",
       "      <td>3821.348</td>\n",
       "      <td>8039.684</td>\n",
       "      <td>12.315</td>\n",
       "    </tr>\n",
       "    <tr>\n",
       "      <th>4</th>\n",
       "      <td>Afghanistan</td>\n",
       "      <td>1954</td>\n",
       "      <td>4266.484</td>\n",
       "      <td>3884.832</td>\n",
       "      <td>8151.316</td>\n",
       "      <td>12.486</td>\n",
       "    </tr>\n",
       "  </tbody>\n",
       "</table>\n",
       "</div>"
      ],
      "text/plain": [
       "       country  year   PopMale  PopFemale  PopTotal  PopDensity\n",
       "0  Afghanistan  1950  4099.243   3652.874  7752.117      11.874\n",
       "1  Afghanistan  1951  4134.756   3705.395  7840.151      12.009\n",
       "2  Afghanistan  1952  4174.450   3761.546  7935.996      12.156\n",
       "3  Afghanistan  1953  4218.336   3821.348  8039.684      12.315\n",
       "4  Afghanistan  1954  4266.484   3884.832  8151.316      12.486"
      ]
     },
     "execution_count": 18,
     "metadata": {},
     "output_type": "execute_result"
    }
   ],
   "source": [
    "pop_df = pop_df[pop_df['Variant']=='Medium']\n",
    "\n",
    "#Drop Variant column since all rows are now 'Medium' variant. VarID is a numeric code for the variant. Also unnecessary\n",
    "# Drop LocID (numeric): numeric code for the location - not used in any of our purposes.\n",
    "# Drop MidPeriod - not used in any of our analysis\n",
    "pop_df.drop(columns=['LocID','Variant', 'VarID','MidPeriod'], inplace=True)\n",
    "pop_df.rename(columns = {'Location':'country', 'Time':'year'}, inplace = True) \n",
    "pop_df.head()"
   ]
  },
  {
   "cell_type": "markdown",
   "metadata": {},
   "source": [
    "Calculate a list of all country names that might be in the Mass protest dataframe, but do not have an exact match in the global population data."
   ]
  },
  {
   "cell_type": "code",
   "execution_count": 19,
   "metadata": {},
   "outputs": [
    {
     "data": {
      "text/plain": [
       "30"
      ]
     },
     "execution_count": 19,
     "metadata": {},
     "output_type": "execute_result"
    }
   ],
   "source": [
    "global_pop_countries = sorted(set(list(pop_df['country'])))\n",
    "mass_countries = sorted(set(list(mass['country'].value_counts().index)))\n",
    "\n",
    "mass_not_global_pop = []\n",
    "\n",
    "for country in mass_countries:\n",
    "    if country not in global_pop_countries:\n",
    "        mass_not_global_pop.append(country)\n",
    "        \n",
    "len(mass_not_global_pop)"
   ]
  },
  {
   "cell_type": "code",
   "execution_count": 20,
   "metadata": {},
   "outputs": [
    {
     "data": {
      "text/plain": [
       "['Bolivia',\n",
       " 'Bosnia',\n",
       " 'Cape Verde',\n",
       " 'Congo Brazzaville',\n",
       " 'Congo Kinshasa',\n",
       " 'Czech Republic',\n",
       " 'Czechoslovakia',\n",
       " 'Germany East',\n",
       " 'Germany West',\n",
       " 'Iran',\n",
       " 'Ivory Coast',\n",
       " 'Kosovo',\n",
       " 'Laos',\n",
       " 'Macedonia',\n",
       " 'Moldova',\n",
       " 'North Korea',\n",
       " 'Russia',\n",
       " 'Serbia and Montenegro',\n",
       " 'Slovak Republic',\n",
       " 'South Korea',\n",
       " 'Swaziland',\n",
       " 'Syria',\n",
       " 'Taiwan',\n",
       " 'Tanzania',\n",
       " 'Timor Leste',\n",
       " 'USSR',\n",
       " 'United Arab Emirate',\n",
       " 'Venezuela',\n",
       " 'Vietnam',\n",
       " 'Yugoslavia']"
      ]
     },
     "execution_count": 20,
     "metadata": {},
     "output_type": "execute_result"
    }
   ],
   "source": [
    "mass_not_global_pop"
   ]
  },
  {
   "cell_type": "code",
   "execution_count": 21,
   "metadata": {},
   "outputs": [],
   "source": [
    "#global_pop_countries"
   ]
  },
  {
   "cell_type": "markdown",
   "metadata": {},
   "source": [
    "30 countries are labeled differently in the Mass Protest dataframe.\n",
    "\n",
    "Update every row in the global population dataframe to have a matching label.\n",
    "\n",
    "Once all rows of U.N. population are cleaned, merge with Mass Protest data."
   ]
  },
  {
   "cell_type": "markdown",
   "metadata": {},
   "source": [
    "---\n",
    "Create function to create population data that is missing from the U.N. population data set.\n",
    "\n",
    "This happens when countries were broken up, and the previous country name is no longer is tracked in the U.N. population data, but does still exist as a recorded protest.\n",
    "\n",
    "For example, Czechoslovakia was split into the Czech Republic (also referred to as Czechia) and Slovakia in 1993. \n",
    "\n",
    "Unfortunately, the U.N. population data no longer contains population information under the 'Czechoslovakia' label."
   ]
  },
  {
   "cell_type": "code",
   "execution_count": 22,
   "metadata": {},
   "outputs": [],
   "source": [
    "# This code is used in several places - creating records for Czechoslovakia, Yugoslavia, Serbia and Montenegro and the Soviet Union. \n",
    "\n",
    "def create_country_population_data (parent, child_countries, year_start, year_end):\n",
    "    # must use global to change the main dataframe\n",
    "    global pop_df\n",
    "    \n",
    "    # child_countries should be a list of countries to combine into one.\n",
    "\n",
    "    # Create a list of Populations for male, female and total to add together for a combined total.\n",
    "    # Create an average of all of the countries PopDensity.\n",
    "\n",
    "    for year in range (year_start, year_end):\n",
    "\n",
    "        all_males = 0\n",
    "        all_females = 0\n",
    "        total_pop = 0\n",
    "\n",
    "        total_pop_density = 0\n",
    "\n",
    "        # for all countries in this group\n",
    "        for country in child_countries:\n",
    "\n",
    "            # Keep running totals of populations in this block of countries\n",
    "            all_males = all_males + pop_df[(pop_df['country']==country) & (pop_df['year']==year)]['PopMale'].item()\n",
    "            all_females = all_females + pop_df[(pop_df['country']==country) & (pop_df['year']==year)]['PopFemale'].item()\n",
    "            total_pop = total_pop + pop_df[(pop_df['country']==country) & (pop_df['year']==year)]['PopTotal'].item()\n",
    "\n",
    "            # Keep running totals of all population densities. Will divide later for an average\n",
    "            total_pop_density = total_pop_density + pop_df[(pop_df['country']==country) & (pop_df['year']==year)]['PopDensity'].item()\n",
    "\n",
    "        # Create row for the parent country for this year\n",
    "        new_row = {'country': parent, 'year':year,\n",
    "                    'PopMale': all_males,\n",
    "                    'PopFemale': all_females,\n",
    "                    'PopTotal': total_pop,\n",
    "                    'PopDensity': total_pop_density / len(child_countries)}\n",
    "        \n",
    "        #append row to the dataframe\n",
    "        pop_df = pop_df.append(new_row, ignore_index=True)\n",
    "   \n"
   ]
  },
  {
   "cell_type": "markdown",
   "metadata": {},
   "source": [
    "---\n",
    "Rename 'Bolivia (Plurinational State of)' in Global Population to **'Bolivia'**"
   ]
  },
  {
   "cell_type": "code",
   "execution_count": 23,
   "metadata": {},
   "outputs": [],
   "source": [
    "pop_df.loc[pop_df['country'] == 'Bolivia (Plurinational State of)' , 'country'] = 'Bolivia'\n",
    "\n",
    "#Population data also exists for Bolivarian Alliance for the Americas (ALBA), but just ignore. \n",
    "#This is an alliance of 10 countries, not the country of Bolivia"
   ]
  },
  {
   "cell_type": "markdown",
   "metadata": {},
   "source": [
    "Rename Bosnia and Herzegovina to just **Bosnia** to match mass protest dataframe."
   ]
  },
  {
   "cell_type": "code",
   "execution_count": 24,
   "metadata": {},
   "outputs": [],
   "source": [
    "pop_df.loc[pop_df['country'] == 'Bosnia and Herzegovina' , 'country'] = 'Bosnia'"
   ]
  },
  {
   "cell_type": "markdown",
   "metadata": {},
   "source": [
    "**Cape Verde** is identified as Cabo Verde in the U.N. population data set. Rename to merge correctly with the mass protest dataframe."
   ]
  },
  {
   "cell_type": "code",
   "execution_count": 25,
   "metadata": {},
   "outputs": [],
   "source": [
    "pop_df.loc[pop_df['country'] == 'Cabo Verde' , 'country'] = 'Cape Verde'"
   ]
  },
  {
   "cell_type": "markdown",
   "metadata": {},
   "source": [
    "**Czech Republic** is identified as Czechia in the U.N. population data set. Rename to merge correctly with the mass protest dataframe."
   ]
  },
  {
   "cell_type": "code",
   "execution_count": 26,
   "metadata": {},
   "outputs": [],
   "source": [
    "pop_df.loc[pop_df['country'] == 'Czechia' , 'country'] = 'Czech Republic'"
   ]
  },
  {
   "cell_type": "markdown",
   "metadata": {},
   "source": [
    "#### Congo values:\n",
    "Mass protest dataframe contains both:\n",
    "* Congo Brazzaville\n",
    "* Congo Kinshasa\n",
    "\n",
    "The Global Population data contains values for:\n",
    "* Congo\n",
    "* Democratic Republic of the Congo\n",
    "\n",
    "Since Kinshasa is the capital of the Democratic Republic of the Congo, rename the Global Population label as Congo Kinshasa.\n",
    "\n",
    "Brazzaville is the capital of the Republic of the Congo, so rename the Global Population label to Congo Brazzaville"
   ]
  },
  {
   "cell_type": "code",
   "execution_count": 27,
   "metadata": {},
   "outputs": [],
   "source": [
    "pop_df.loc[pop_df['country'] == 'Congo' , 'country'] = 'Congo Brazzaville'\n",
    "                \n",
    "pop_df['country'] = pop_df['country'].str.replace('Democratic Republic of the Congo', 'Congo Kinshasa')"
   ]
  },
  {
   "cell_type": "markdown",
   "metadata": {},
   "source": [
    "**Germany**\n",
    "\n",
    "Create population data for East and West Germany in 1990.\n",
    "\n",
    "The mass protest dataset contains several rows for East and West Germany in 1990, before unifying later that same year.  Unfortunately the U.N. population data only pertains to a unified Germany.\n",
    "\n",
    "East Germany's [wikipedia page](https://en.wikipedia.org/wiki/East_Germany) provides some necessary data, but we have to estimate the male/female breakdown.  Use 1990 ratios for Germany as a guideline.\n",
    "\n",
    "Data for West Germany's population in 1990 found on [Wikipedia](https://en.wikipedia.org/wiki/West_Germany)"
   ]
  },
  {
   "cell_type": "code",
   "execution_count": 28,
   "metadata": {},
   "outputs": [
    {
     "data": {
      "text/html": [
       "<div>\n",
       "<style scoped>\n",
       "    .dataframe tbody tr th:only-of-type {\n",
       "        vertical-align: middle;\n",
       "    }\n",
       "\n",
       "    .dataframe tbody tr th {\n",
       "        vertical-align: top;\n",
       "    }\n",
       "\n",
       "    .dataframe thead th {\n",
       "        text-align: right;\n",
       "    }\n",
       "</style>\n",
       "<table border=\"1\" class=\"dataframe\">\n",
       "  <thead>\n",
       "    <tr style=\"text-align: right;\">\n",
       "      <th></th>\n",
       "      <th>country</th>\n",
       "      <th>year</th>\n",
       "      <th>PopMale</th>\n",
       "      <th>PopFemale</th>\n",
       "      <th>PopTotal</th>\n",
       "      <th>PopDensity</th>\n",
       "    </tr>\n",
       "  </thead>\n",
       "  <tbody>\n",
       "    <tr>\n",
       "      <th>99098</th>\n",
       "      <td>Germany</td>\n",
       "      <td>1990</td>\n",
       "      <td>38145.562</td>\n",
       "      <td>40908.422</td>\n",
       "      <td>79053.984</td>\n",
       "      <td>226.802</td>\n",
       "    </tr>\n",
       "  </tbody>\n",
       "</table>\n",
       "</div>"
      ],
      "text/plain": [
       "       country  year    PopMale  PopFemale   PopTotal  PopDensity\n",
       "99098  Germany  1990  38145.562  40908.422  79053.984     226.802"
      ]
     },
     "execution_count": 28,
     "metadata": {},
     "output_type": "execute_result"
    }
   ],
   "source": [
    "pop_df[(pop_df['country']=='Germany') & (pop_df['year']==1990)]"
   ]
  },
  {
   "cell_type": "markdown",
   "metadata": {},
   "source": [
    "U.N. Population values are in thousands, convert East Germany's population in 1990 of 16,111,000 to 16111 for our dataset.\n",
    "\n",
    "West Germany's 1990 population of 63,254,000 becomes 63254"
   ]
  },
  {
   "cell_type": "code",
   "execution_count": 29,
   "metadata": {},
   "outputs": [
    {
     "data": {
      "text/html": [
       "<div>\n",
       "<style scoped>\n",
       "    .dataframe tbody tr th:only-of-type {\n",
       "        vertical-align: middle;\n",
       "    }\n",
       "\n",
       "    .dataframe tbody tr th {\n",
       "        vertical-align: top;\n",
       "    }\n",
       "\n",
       "    .dataframe thead th {\n",
       "        text-align: right;\n",
       "    }\n",
       "</style>\n",
       "<table border=\"1\" class=\"dataframe\">\n",
       "  <thead>\n",
       "    <tr style=\"text-align: right;\">\n",
       "      <th></th>\n",
       "      <th>country</th>\n",
       "      <th>year</th>\n",
       "      <th>PopMale</th>\n",
       "      <th>PopFemale</th>\n",
       "      <th>PopTotal</th>\n",
       "      <th>PopDensity</th>\n",
       "    </tr>\n",
       "  </thead>\n",
       "  <tbody>\n",
       "    <tr>\n",
       "      <th>72026</th>\n",
       "      <td>Zimbabwe</td>\n",
       "      <td>2100</td>\n",
       "      <td>15001.252000</td>\n",
       "      <td>15964.169000</td>\n",
       "      <td>30965.421</td>\n",
       "      <td>80.045</td>\n",
       "    </tr>\n",
       "    <tr>\n",
       "      <th>72027</th>\n",
       "      <td>Germany East</td>\n",
       "      <td>1990</td>\n",
       "      <td>7773.968095</td>\n",
       "      <td>8337.031905</td>\n",
       "      <td>16111.000</td>\n",
       "      <td>149.000</td>\n",
       "    </tr>\n",
       "    <tr>\n",
       "      <th>72028</th>\n",
       "      <td>Germany West</td>\n",
       "      <td>1990</td>\n",
       "      <td>30521.667052</td>\n",
       "      <td>32732.332948</td>\n",
       "      <td>63254.000</td>\n",
       "      <td>254.000</td>\n",
       "    </tr>\n",
       "  </tbody>\n",
       "</table>\n",
       "</div>"
      ],
      "text/plain": [
       "            country  year       PopMale     PopFemale   PopTotal  PopDensity\n",
       "72026      Zimbabwe  2100  15001.252000  15964.169000  30965.421      80.045\n",
       "72027  Germany East  1990   7773.968095   8337.031905  16111.000     149.000\n",
       "72028  Germany West  1990  30521.667052  32732.332948  63254.000     254.000"
      ]
     },
     "execution_count": 29,
     "metadata": {},
     "output_type": "execute_result"
    }
   ],
   "source": [
    "germany_1990_total_pop = pop_df[(pop_df['country']=='Germany') & (pop_df['year']==1990)]['PopTotal'].item()\n",
    "germany_1990_male_pop = pop_df[(pop_df['country']=='Germany') & (pop_df['year']==1990)]['PopMale'].item()\n",
    "\n",
    "# Assume the male/female ratio is the same for East Germany and West Germany in 1990, which might not be the case.  \n",
    "# Unable this specific data.\n",
    "germany_1990_male_ratio = germany_1990_male_pop / germany_1990_total_pop\n",
    "\n",
    "east_germany_1990_total_pop = 16111  # Per Wikipedia\n",
    "east_germany_1990_male_pop = east_germany_1990_total_pop * germany_1990_male_ratio\n",
    "east_germany_1990_female_pop = east_germany_1990_total_pop * (1 - germany_1990_male_ratio)\n",
    "east_germany_1990_pop_density = 149  # Per Wikipedia, in /km^2\n",
    "\n",
    "west_germany_1990_total_pop = 63254  # Per Wikipedia\n",
    "west_germany_1990_male_pop = west_germany_1990_total_pop * germany_1990_male_ratio\n",
    "west_germany_1990_female_pop = west_germany_1990_total_pop * (1 - germany_1990_male_ratio)\n",
    "west_germany_1990_pop_density = 254  # Per Wikipedia, in /km^2\n",
    "\n",
    "# Create row for East Germany\n",
    "east_germany_row = {'country':'Germany East', 'year':1990, 'PopMale':east_germany_1990_male_pop,\n",
    "           'PopFemale':east_germany_1990_female_pop, 'PopTotal':east_germany_1990_total_pop,\n",
    "          'PopDensity':east_germany_1990_pop_density}\n",
    "\n",
    "# Create row for West Germany\n",
    "west_germany_row = {'country':'Germany West', 'year':1990, 'PopMale':west_germany_1990_male_pop,\n",
    "           'PopFemale':west_germany_1990_female_pop, 'PopTotal':west_germany_1990_total_pop,\n",
    "          'PopDensity':west_germany_1990_pop_density}\n",
    "\n",
    "\n",
    "#append row to the dataframe\n",
    "pop_df = pop_df.append(east_germany_row, ignore_index=True)\n",
    "pop_df = pop_df.append(west_germany_row, ignore_index=True)\n",
    "pop_df.tail(3)"
   ]
  },
  {
   "cell_type": "markdown",
   "metadata": {},
   "source": [
    "Mass protest data uses the common name **Iran**, while U.N. population uses 'Iran (Islamic Republic of)'"
   ]
  },
  {
   "cell_type": "code",
   "execution_count": 30,
   "metadata": {},
   "outputs": [],
   "source": [
    "pop_df.loc[pop_df['country'] == 'Iran (Islamic Republic of)', 'country'] = 'Iran'"
   ]
  },
  {
   "cell_type": "markdown",
   "metadata": {},
   "source": [
    "**Ivory Coast** is identified as Côte d'Ivoire in the U.N. population data set. Rename to merge correctly with the mass protest dataframe."
   ]
  },
  {
   "cell_type": "code",
   "execution_count": 31,
   "metadata": {},
   "outputs": [],
   "source": [
    "pop_df.loc[pop_df['country'] == \"Côte d'Ivoire\", 'country'] = 'Ivory Coast'"
   ]
  },
  {
   "cell_type": "markdown",
   "metadata": {},
   "source": [
    "**Kosovo** is in Mass protest data but has no U.N population data.\n",
    "\n",
    "Independence of Kosovo is disputed, but it declared independence from Serbia's in 2008.\n",
    "\n",
    "https://en.wikipedia.org/wiki/International_recognition_of_Kosovo\n",
    "\n",
    "Copy all of Serbia's Population data, and create new rows with that same data labeled as 'Kosovo'."
   ]
  },
  {
   "cell_type": "code",
   "execution_count": 32,
   "metadata": {},
   "outputs": [
    {
     "data": {
      "text/html": [
       "<div>\n",
       "<style scoped>\n",
       "    .dataframe tbody tr th:only-of-type {\n",
       "        vertical-align: middle;\n",
       "    }\n",
       "\n",
       "    .dataframe tbody tr th {\n",
       "        vertical-align: top;\n",
       "    }\n",
       "\n",
       "    .dataframe thead th {\n",
       "        text-align: right;\n",
       "    }\n",
       "</style>\n",
       "<table border=\"1\" class=\"dataframe\">\n",
       "  <thead>\n",
       "    <tr style=\"text-align: right;\">\n",
       "      <th></th>\n",
       "      <th>country</th>\n",
       "      <th>year</th>\n",
       "      <th>PopMale</th>\n",
       "      <th>PopFemale</th>\n",
       "      <th>PopTotal</th>\n",
       "      <th>PopDensity</th>\n",
       "    </tr>\n",
       "  </thead>\n",
       "  <tbody>\n",
       "    <tr>\n",
       "      <th>72057</th>\n",
       "      <td>Kosovo</td>\n",
       "      <td>2018</td>\n",
       "      <td>4313.121</td>\n",
       "      <td>4489.620</td>\n",
       "      <td>8802.741</td>\n",
       "      <td>100.649</td>\n",
       "    </tr>\n",
       "    <tr>\n",
       "      <th>72058</th>\n",
       "      <td>Kosovo</td>\n",
       "      <td>2019</td>\n",
       "      <td>4297.444</td>\n",
       "      <td>4474.784</td>\n",
       "      <td>8772.228</td>\n",
       "      <td>100.300</td>\n",
       "    </tr>\n",
       "    <tr>\n",
       "      <th>72059</th>\n",
       "      <td>Kosovo</td>\n",
       "      <td>2020</td>\n",
       "      <td>4279.651</td>\n",
       "      <td>4457.719</td>\n",
       "      <td>8737.370</td>\n",
       "      <td>99.901</td>\n",
       "    </tr>\n",
       "  </tbody>\n",
       "</table>\n",
       "</div>"
      ],
      "text/plain": [
       "      country  year   PopMale  PopFemale  PopTotal  PopDensity\n",
       "72057  Kosovo  2018  4313.121   4489.620  8802.741     100.649\n",
       "72058  Kosovo  2019  4297.444   4474.784  8772.228     100.300\n",
       "72059  Kosovo  2020  4279.651   4457.719  8737.370      99.901"
      ]
     },
     "execution_count": 32,
     "metadata": {},
     "output_type": "execute_result"
    }
   ],
   "source": [
    "create_country_population_data('Kosovo', ['Serbia'], 1990, 2021)\n",
    "pop_df.tail(3)"
   ]
  },
  {
   "cell_type": "code",
   "execution_count": 33,
   "metadata": {},
   "outputs": [
    {
     "name": "stdout",
     "output_type": "stream",
     "text": [
      "There are 151 rows for Serbia.\n",
      "There are 31 rows for Kosovo.\n"
     ]
    }
   ],
   "source": [
    "print (f'There are {pop_df.loc[pop_df[\"country\"] == \"Serbia\"].shape[0]} rows for Serbia.')\n",
    "print (f'There are {pop_df.loc[pop_df[\"country\"] == \"Kosovo\"].shape[0]} rows for Kosovo.')"
   ]
  },
  {
   "cell_type": "markdown",
   "metadata": {},
   "source": [
    "**Laos** is identified as Lao People's Democratic Republic in the U.N. population data set. Rename to merge correctly with the mass protest dataframe."
   ]
  },
  {
   "cell_type": "code",
   "execution_count": 34,
   "metadata": {},
   "outputs": [],
   "source": [
    "pop_df.loc[pop_df['country'] == \"Lao People's Democratic Republic\", 'country'] = 'Laos'"
   ]
  },
  {
   "cell_type": "markdown",
   "metadata": {},
   "source": [
    "**North Macedonia** was known as Macedonia until February 2019.  Rename North Macedonia in U.N. population to Macedonia to match with mass protest dataframe.\n",
    "https://en.wikipedia.org/wiki/North_Macedonia"
   ]
  },
  {
   "cell_type": "code",
   "execution_count": 35,
   "metadata": {},
   "outputs": [],
   "source": [
    "pop_df.loc[pop_df['country'] == 'North Macedonia', 'country'] = 'Macedonia'"
   ]
  },
  {
   "cell_type": "markdown",
   "metadata": {},
   "source": [
    "**Moldova** is identified as Republic of Moldova in the U.N. population data set. Rename to merge correctly with the mass protest dataframe."
   ]
  },
  {
   "cell_type": "code",
   "execution_count": 36,
   "metadata": {},
   "outputs": [],
   "source": [
    "pop_df.loc[pop_df['country'] == 'Republic of Moldova', 'country'] = 'Moldova'"
   ]
  },
  {
   "cell_type": "markdown",
   "metadata": {},
   "source": [
    "**North Korea** is identified as Dem. People's Republic of Korea in the U.N. population data set. Rename to merge correctly with the mass protest dataframe."
   ]
  },
  {
   "cell_type": "code",
   "execution_count": 37,
   "metadata": {},
   "outputs": [],
   "source": [
    "pop_df.loc[pop_df['country'] == \"Dem. People's Republic of Korea\", 'country'] = 'North Korea'"
   ]
  },
  {
   "cell_type": "markdown",
   "metadata": {},
   "source": [
    "**Russia** is identified as Russian Federation in the U.N. population data set. Rename to merge correctly with the mass protest dataframe."
   ]
  },
  {
   "cell_type": "code",
   "execution_count": 38,
   "metadata": {},
   "outputs": [],
   "source": [
    "pop_df.loc[pop_df['country'] == 'Russian Federation', 'country'] = 'Russia'"
   ]
  },
  {
   "cell_type": "markdown",
   "metadata": {},
   "source": [
    "**Serbia and Montenegro** only existed 2003-2006.  It has two protests, both of which were in 2003.\n",
    "\n",
    "Unfortunately, the U.N. population data contains separate rows for Serbia and Montenegro.\n",
    "\n",
    "We can add the populations together, and create an average of the population density using our *create_country_population_data* function"
   ]
  },
  {
   "cell_type": "code",
   "execution_count": 39,
   "metadata": {},
   "outputs": [
    {
     "data": {
      "text/html": [
       "<div>\n",
       "<style scoped>\n",
       "    .dataframe tbody tr th:only-of-type {\n",
       "        vertical-align: middle;\n",
       "    }\n",
       "\n",
       "    .dataframe tbody tr th {\n",
       "        vertical-align: top;\n",
       "    }\n",
       "\n",
       "    .dataframe thead th {\n",
       "        text-align: right;\n",
       "    }\n",
       "</style>\n",
       "<table border=\"1\" class=\"dataframe\">\n",
       "  <thead>\n",
       "    <tr style=\"text-align: right;\">\n",
       "      <th></th>\n",
       "      <th>country</th>\n",
       "      <th>year</th>\n",
       "      <th>PopMale</th>\n",
       "      <th>PopFemale</th>\n",
       "      <th>PopTotal</th>\n",
       "      <th>PopDensity</th>\n",
       "    </tr>\n",
       "  </thead>\n",
       "  <tbody>\n",
       "    <tr>\n",
       "      <th>72058</th>\n",
       "      <td>Kosovo</td>\n",
       "      <td>2019</td>\n",
       "      <td>4297.444</td>\n",
       "      <td>4474.784</td>\n",
       "      <td>8772.228</td>\n",
       "      <td>100.3000</td>\n",
       "    </tr>\n",
       "    <tr>\n",
       "      <th>72059</th>\n",
       "      <td>Kosovo</td>\n",
       "      <td>2020</td>\n",
       "      <td>4279.651</td>\n",
       "      <td>4457.719</td>\n",
       "      <td>8737.370</td>\n",
       "      <td>99.9010</td>\n",
       "    </tr>\n",
       "    <tr>\n",
       "      <th>72060</th>\n",
       "      <td>Serbia and Montenegro</td>\n",
       "      <td>2003</td>\n",
       "      <td>4854.293</td>\n",
       "      <td>5052.020</td>\n",
       "      <td>9906.313</td>\n",
       "      <td>75.9515</td>\n",
       "    </tr>\n",
       "  </tbody>\n",
       "</table>\n",
       "</div>"
      ],
      "text/plain": [
       "                     country  year   PopMale  PopFemale  PopTotal  PopDensity\n",
       "72058                 Kosovo  2019  4297.444   4474.784  8772.228    100.3000\n",
       "72059                 Kosovo  2020  4279.651   4457.719  8737.370     99.9010\n",
       "72060  Serbia and Montenegro  2003  4854.293   5052.020  9906.313     75.9515"
      ]
     },
     "execution_count": 39,
     "metadata": {},
     "output_type": "execute_result"
    }
   ],
   "source": [
    "# Combine the populations of Serbia and Montenegro\n",
    "\n",
    "create_country_population_data ('Serbia and Montenegro', ['Serbia', 'Montenegro'], 2003, 2004)\n",
    "\n",
    "pop_df.tail(3)"
   ]
  },
  {
   "cell_type": "markdown",
   "metadata": {},
   "source": [
    "**Slovak Republic** is identified as Slovakia in the U.N. population data set. Rename to merge correctly with the mass protest dataframe."
   ]
  },
  {
   "cell_type": "code",
   "execution_count": 40,
   "metadata": {},
   "outputs": [],
   "source": [
    "pop_df.loc[pop_df['country'] == 'Slovakia', 'country'] = 'Slovak Republic'"
   ]
  },
  {
   "cell_type": "markdown",
   "metadata": {},
   "source": [
    "#### Create Czechoslovakia records in U.N. Population\n",
    "Now that Czechia and Slovak Republic have been renamed, we can use both to recreate values for Czechoslovakia in 1990."
   ]
  },
  {
   "cell_type": "code",
   "execution_count": 41,
   "metadata": {},
   "outputs": [
    {
     "data": {
      "text/html": [
       "<div>\n",
       "<style scoped>\n",
       "    .dataframe tbody tr th:only-of-type {\n",
       "        vertical-align: middle;\n",
       "    }\n",
       "\n",
       "    .dataframe tbody tr th {\n",
       "        vertical-align: top;\n",
       "    }\n",
       "\n",
       "    .dataframe thead th {\n",
       "        text-align: right;\n",
       "    }\n",
       "</style>\n",
       "<table border=\"1\" class=\"dataframe\">\n",
       "  <thead>\n",
       "    <tr style=\"text-align: right;\">\n",
       "      <th></th>\n",
       "      <th>country</th>\n",
       "      <th>year</th>\n",
       "      <th>PopMale</th>\n",
       "      <th>PopFemale</th>\n",
       "      <th>PopTotal</th>\n",
       "      <th>PopDensity</th>\n",
       "    </tr>\n",
       "  </thead>\n",
       "  <tbody>\n",
       "    <tr>\n",
       "      <th>72059</th>\n",
       "      <td>Kosovo</td>\n",
       "      <td>2020</td>\n",
       "      <td>4279.651</td>\n",
       "      <td>4457.719</td>\n",
       "      <td>8737.370</td>\n",
       "      <td>99.9010</td>\n",
       "    </tr>\n",
       "    <tr>\n",
       "      <th>72060</th>\n",
       "      <td>Serbia and Montenegro</td>\n",
       "      <td>2003</td>\n",
       "      <td>4854.293</td>\n",
       "      <td>5052.020</td>\n",
       "      <td>9906.313</td>\n",
       "      <td>75.9515</td>\n",
       "    </tr>\n",
       "    <tr>\n",
       "      <th>72061</th>\n",
       "      <td>Czechoslovakia</td>\n",
       "      <td>1990</td>\n",
       "      <td>7601.148</td>\n",
       "      <td>8028.184</td>\n",
       "      <td>15629.332</td>\n",
       "      <td>121.9275</td>\n",
       "    </tr>\n",
       "  </tbody>\n",
       "</table>\n",
       "</div>"
      ],
      "text/plain": [
       "                     country  year   PopMale  PopFemale   PopTotal  PopDensity\n",
       "72059                 Kosovo  2020  4279.651   4457.719   8737.370     99.9010\n",
       "72060  Serbia and Montenegro  2003  4854.293   5052.020   9906.313     75.9515\n",
       "72061         Czechoslovakia  1990  7601.148   8028.184  15629.332    121.9275"
      ]
     },
     "execution_count": 41,
     "metadata": {},
     "output_type": "execute_result"
    }
   ],
   "source": [
    "# This only needs to be done for 1990, because that is the only year there were recorded protests in Czechoslovakia.\n",
    "create_country_population_data ('Czechoslovakia', ['Czech Republic', 'Slovak Republic'], 1990, 1991)\n",
    "pop_df.tail(3)"
   ]
  },
  {
   "cell_type": "markdown",
   "metadata": {},
   "source": [
    "---\n",
    "**South Korea** is identified as Republic of Korea in the U.N. population data set. Rename to merge correctly with the mass protest dataframe."
   ]
  },
  {
   "cell_type": "code",
   "execution_count": 42,
   "metadata": {},
   "outputs": [],
   "source": [
    "pop_df.loc[pop_df['country'] == 'Republic of Korea', 'country'] = 'South Korea'"
   ]
  },
  {
   "cell_type": "markdown",
   "metadata": {},
   "source": [
    "**Swaziland** is identified as Eswatini in the U.N. population data set. Rename to merge correctly with the mass protest dataframe."
   ]
  },
  {
   "cell_type": "code",
   "execution_count": 43,
   "metadata": {},
   "outputs": [],
   "source": [
    "pop_df.loc[pop_df['country'] == 'Eswatini', 'country'] = 'Swaziland'  "
   ]
  },
  {
   "cell_type": "markdown",
   "metadata": {},
   "source": [
    "**Syria** is identified as Syrian Arab Republic in the U.N. population data set. Rename to merge correctly with the mass protest dataframe."
   ]
  },
  {
   "cell_type": "code",
   "execution_count": 44,
   "metadata": {},
   "outputs": [],
   "source": [
    "pop_df.loc[pop_df['country'] == 'Syrian Arab Republic', 'country'] = 'Syria'"
   ]
  },
  {
   "cell_type": "markdown",
   "metadata": {},
   "source": [
    "**Taiwan** is identified as China, Taiwan Province of China in the U.N. population data set. Rename to merge correctly with the mass protest dataframe."
   ]
  },
  {
   "cell_type": "code",
   "execution_count": 45,
   "metadata": {},
   "outputs": [],
   "source": [
    "pop_df.loc[pop_df['country'] == 'China, Taiwan Province of China', 'country'] = 'Taiwan'"
   ]
  },
  {
   "cell_type": "markdown",
   "metadata": {},
   "source": [
    "**Tanzania** is identified as United Republic of Tanzania in the U.N. population data set. Rename to merge correctly with the mass protest dataframe."
   ]
  },
  {
   "cell_type": "code",
   "execution_count": 46,
   "metadata": {},
   "outputs": [],
   "source": [
    "pop_df.loc[pop_df['country'] == 'United Republic of Tanzania', 'country'] = 'Tanzania'"
   ]
  },
  {
   "cell_type": "markdown",
   "metadata": {},
   "source": [
    "**Timor Leste** is identified as Timor-Leste in the U.N. population data set. Rename to merge correctly with the mass protest dataframe."
   ]
  },
  {
   "cell_type": "code",
   "execution_count": 47,
   "metadata": {},
   "outputs": [],
   "source": [
    "pop_df.loc[pop_df['country'] == 'Timor-Leste', 'country'] = 'Timor Leste'"
   ]
  },
  {
   "cell_type": "markdown",
   "metadata": {},
   "source": [
    "**USSR** ended in 1991.  All U.N. population is labeled 'Russian Federation'. After changing above, all population data now under 'Russia'\n",
    "\n",
    "60 USSR protests took place in 1990, 1991."
   ]
  },
  {
   "cell_type": "code",
   "execution_count": 48,
   "metadata": {},
   "outputs": [
    {
     "data": {
      "text/html": [
       "<div>\n",
       "<style scoped>\n",
       "    .dataframe tbody tr th:only-of-type {\n",
       "        vertical-align: middle;\n",
       "    }\n",
       "\n",
       "    .dataframe tbody tr th {\n",
       "        vertical-align: top;\n",
       "    }\n",
       "\n",
       "    .dataframe thead th {\n",
       "        text-align: right;\n",
       "    }\n",
       "</style>\n",
       "<table border=\"1\" class=\"dataframe\">\n",
       "  <thead>\n",
       "    <tr style=\"text-align: right;\">\n",
       "      <th></th>\n",
       "      <th>country</th>\n",
       "      <th>year</th>\n",
       "      <th>PopMale</th>\n",
       "      <th>PopFemale</th>\n",
       "      <th>PopTotal</th>\n",
       "      <th>PopDensity</th>\n",
       "    </tr>\n",
       "  </thead>\n",
       "  <tbody>\n",
       "    <tr>\n",
       "      <th>72061</th>\n",
       "      <td>Czechoslovakia</td>\n",
       "      <td>1990</td>\n",
       "      <td>7601.148</td>\n",
       "      <td>8028.184</td>\n",
       "      <td>15629.332</td>\n",
       "      <td>121.927500</td>\n",
       "    </tr>\n",
       "    <tr>\n",
       "      <th>72062</th>\n",
       "      <td>USSR</td>\n",
       "      <td>1990</td>\n",
       "      <td>136003.166</td>\n",
       "      <td>151748.146</td>\n",
       "      <td>287751.312</td>\n",
       "      <td>55.444533</td>\n",
       "    </tr>\n",
       "    <tr>\n",
       "      <th>72063</th>\n",
       "      <td>USSR</td>\n",
       "      <td>1991</td>\n",
       "      <td>136702.363</td>\n",
       "      <td>152288.975</td>\n",
       "      <td>288991.338</td>\n",
       "      <td>55.569667</td>\n",
       "    </tr>\n",
       "  </tbody>\n",
       "</table>\n",
       "</div>"
      ],
      "text/plain": [
       "              country  year     PopMale   PopFemale    PopTotal  PopDensity\n",
       "72061  Czechoslovakia  1990    7601.148    8028.184   15629.332  121.927500\n",
       "72062            USSR  1990  136003.166  151748.146  287751.312   55.444533\n",
       "72063            USSR  1991  136702.363  152288.975  288991.338   55.569667"
      ]
     },
     "execution_count": 48,
     "metadata": {},
     "output_type": "execute_result"
    }
   ],
   "source": [
    "soviet_countries = ['Armenia', 'Azerbaijan','Belarus','Estonia','Georgia', 'Kazakhstan', 'Kyrgyzstan', 'Latvia', 'Lithuania', 'Moldova', 'Russia', 'Tajikistan',\n",
    "                    'Turkmenistan','Ukraine','Uzbekistan' ]\n",
    "           \n",
    "create_country_population_data ('USSR', soviet_countries, 1990, 1992)\n",
    "pop_df.tail(3)"
   ]
  },
  {
   "cell_type": "markdown",
   "metadata": {},
   "source": [
    "**United Arab Emirate** is identified as United Arab Emirates in the U.N. population data set. Rename to merge correctly with the mass protest dataframe."
   ]
  },
  {
   "cell_type": "code",
   "execution_count": 49,
   "metadata": {},
   "outputs": [],
   "source": [
    "pop_df.loc[pop_df['country'] == 'United Arab Emirates', 'country'] = 'United Arab Emirate'"
   ]
  },
  {
   "cell_type": "markdown",
   "metadata": {},
   "source": [
    "**Venezuela** is identified as Venezuela (Bolivarian Republic of) in the U.N. population data set. Rename to merge correctly with the mass protest dataframe."
   ]
  },
  {
   "cell_type": "code",
   "execution_count": 50,
   "metadata": {},
   "outputs": [],
   "source": [
    "pop_df.loc[pop_df['country'] == 'Venezuela (Bolivarian Republic of)', 'country'] = 'Venezuela'"
   ]
  },
  {
   "cell_type": "markdown",
   "metadata": {},
   "source": [
    "**Vietnam** is identified as Viet Nam in the U.N. population data set. Rename to merge correctly with the mass protest dataframe."
   ]
  },
  {
   "cell_type": "code",
   "execution_count": 51,
   "metadata": {},
   "outputs": [],
   "source": [
    "pop_df.loc[pop_df['country'] == 'Viet Nam', 'country'] = 'Vietnam'"
   ]
  },
  {
   "cell_type": "markdown",
   "metadata": {},
   "source": [
    "**Yugoslavia** has no U.N. Population data.  Attempt to recreate by combining its former countries.\n",
    "\n",
    "Former [Yugoslavia](https://en.wikipedia.org/wiki/Yugoslavia)\n",
    "\n",
    "* Bosnia\n",
    "* Croatia\n",
    "* Macedonia\n",
    "* Montenegro\n",
    "* Serbia\n",
    "* Slovenia\n",
    "\n",
    "There are 137 protests identified as Yugoslavia, ranging from 1990 to 2002."
   ]
  },
  {
   "cell_type": "code",
   "execution_count": 52,
   "metadata": {},
   "outputs": [
    {
     "data": {
      "text/html": [
       "<div>\n",
       "<style scoped>\n",
       "    .dataframe tbody tr th:only-of-type {\n",
       "        vertical-align: middle;\n",
       "    }\n",
       "\n",
       "    .dataframe tbody tr th {\n",
       "        vertical-align: top;\n",
       "    }\n",
       "\n",
       "    .dataframe thead th {\n",
       "        text-align: right;\n",
       "    }\n",
       "</style>\n",
       "<table border=\"1\" class=\"dataframe\">\n",
       "  <thead>\n",
       "    <tr style=\"text-align: right;\">\n",
       "      <th></th>\n",
       "      <th>country</th>\n",
       "      <th>year</th>\n",
       "      <th>PopMale</th>\n",
       "      <th>PopFemale</th>\n",
       "      <th>PopTotal</th>\n",
       "      <th>PopDensity</th>\n",
       "    </tr>\n",
       "  </thead>\n",
       "  <tbody>\n",
       "    <tr>\n",
       "      <th>72074</th>\n",
       "      <td>Yugoslavia</td>\n",
       "      <td>2000</td>\n",
       "      <td>10924.034</td>\n",
       "      <td>11378.920</td>\n",
       "      <td>22302.954</td>\n",
       "      <td>81.026000</td>\n",
       "    </tr>\n",
       "    <tr>\n",
       "      <th>72075</th>\n",
       "      <td>Yugoslavia</td>\n",
       "      <td>2001</td>\n",
       "      <td>10878.403</td>\n",
       "      <td>11339.424</td>\n",
       "      <td>22217.827</td>\n",
       "      <td>80.880500</td>\n",
       "    </tr>\n",
       "    <tr>\n",
       "      <th>72076</th>\n",
       "      <td>Yugoslavia</td>\n",
       "      <td>2002</td>\n",
       "      <td>10841.991</td>\n",
       "      <td>11309.230</td>\n",
       "      <td>22151.221</td>\n",
       "      <td>80.775333</td>\n",
       "    </tr>\n",
       "  </tbody>\n",
       "</table>\n",
       "</div>"
      ],
      "text/plain": [
       "          country  year    PopMale  PopFemale   PopTotal  PopDensity\n",
       "72074  Yugoslavia  2000  10924.034  11378.920  22302.954   81.026000\n",
       "72075  Yugoslavia  2001  10878.403  11339.424  22217.827   80.880500\n",
       "72076  Yugoslavia  2002  10841.991  11309.230  22151.221   80.775333"
      ]
     },
     "execution_count": 52,
     "metadata": {},
     "output_type": "execute_result"
    }
   ],
   "source": [
    "yugo_countries = ['Bosnia', 'Croatia', 'Macedonia', 'Montenegro', 'Serbia', 'Slovenia']\n",
    "\n",
    "create_country_population_data ('Yugoslavia', yugo_countries, 1990, 2003)\n",
    "pop_df.tail(3)\n",
    "    "
   ]
  },
  {
   "cell_type": "markdown",
   "metadata": {},
   "source": [
    "---\n",
    "Double check to see if there any countries in Mass protest that do not have corresponding U.N. population data"
   ]
  },
  {
   "cell_type": "code",
   "execution_count": 53,
   "metadata": {},
   "outputs": [
    {
     "data": {
      "text/plain": [
       "0"
      ]
     },
     "execution_count": 53,
     "metadata": {},
     "output_type": "execute_result"
    }
   ],
   "source": [
    "global_pop_countries = sorted(set(list(pop_df['country'])))\n",
    "mass_countries = sorted(set(list(mass['country'].value_counts().index)))\n",
    "\n",
    "mass_not_global_pop = []\n",
    "\n",
    "for country in mass_countries:\n",
    "    if country not in global_pop_countries:\n",
    "        mass_not_global_pop.append(country)\n",
    "        \n",
    "len(mass_not_global_pop)"
   ]
  },
  {
   "cell_type": "code",
   "execution_count": 54,
   "metadata": {},
   "outputs": [
    {
     "name": "stdout",
     "output_type": "stream",
     "text": [
      "Mass protest data starts in 1990 and goes through 2020 \n"
     ]
    }
   ],
   "source": [
    "print (f'Mass protest data starts in {mass[\"year\"].min()} and goes through {mass[\"year\"].max()} ')"
   ]
  },
  {
   "cell_type": "code",
   "execution_count": 55,
   "metadata": {},
   "outputs": [],
   "source": [
    "# Used to spot check out a country's mass protest data\n",
    "#mass[mass['country']=='Czech Republic'][['startmonth','startyear','endmonth','endyear','protesterdemand1','stateresponse1']].head()"
   ]
  },
  {
   "cell_type": "markdown",
   "metadata": {},
   "source": [
    "Drop all rows in U.N. population data with extraneous data."
   ]
  },
  {
   "cell_type": "code",
   "execution_count": 56,
   "metadata": {},
   "outputs": [
    {
     "name": "stdout",
     "output_type": "stream",
     "text": [
      "U.N. Population data now has 4979 rows and 6 columns.\n"
     ]
    }
   ],
   "source": [
    "# Drop all years that are not in Mass Protests\n",
    "pop_df = pop_df[ (pop_df['year']>= 1990)  & (pop_df['year']<= 2020) ]\n",
    "\n",
    "# Drop all rows with countries not in Mass Protests\n",
    "pop_df = pop_df[(pop_df['country'].isin (mass_countries))]\n",
    "\n",
    "print (f'U.N. Population data now has {pop_df.shape[0]} rows and {pop_df.shape[1]} columns.')"
   ]
  },
  {
   "cell_type": "code",
   "execution_count": 57,
   "metadata": {},
   "outputs": [
    {
     "data": {
      "text/html": [
       "<div>\n",
       "<style scoped>\n",
       "    .dataframe tbody tr th:only-of-type {\n",
       "        vertical-align: middle;\n",
       "    }\n",
       "\n",
       "    .dataframe tbody tr th {\n",
       "        vertical-align: top;\n",
       "    }\n",
       "\n",
       "    .dataframe thead th {\n",
       "        text-align: right;\n",
       "    }\n",
       "</style>\n",
       "<table border=\"1\" class=\"dataframe\">\n",
       "  <thead>\n",
       "    <tr style=\"text-align: right;\">\n",
       "      <th></th>\n",
       "      <th>country</th>\n",
       "      <th>year</th>\n",
       "      <th>PopMale</th>\n",
       "      <th>PopFemale</th>\n",
       "      <th>PopTotal</th>\n",
       "      <th>PopDensity</th>\n",
       "    </tr>\n",
       "  </thead>\n",
       "  <tbody>\n",
       "    <tr>\n",
       "      <th>40</th>\n",
       "      <td>Afghanistan</td>\n",
       "      <td>1990</td>\n",
       "      <td>6344.617</td>\n",
       "      <td>6067.694</td>\n",
       "      <td>12412.311</td>\n",
       "      <td>19.012</td>\n",
       "    </tr>\n",
       "    <tr>\n",
       "      <th>41</th>\n",
       "      <td>Afghanistan</td>\n",
       "      <td>1991</td>\n",
       "      <td>6821.673</td>\n",
       "      <td>6477.343</td>\n",
       "      <td>13299.016</td>\n",
       "      <td>20.370</td>\n",
       "    </tr>\n",
       "    <tr>\n",
       "      <th>42</th>\n",
       "      <td>Afghanistan</td>\n",
       "      <td>1992</td>\n",
       "      <td>7461.092</td>\n",
       "      <td>7024.451</td>\n",
       "      <td>14485.543</td>\n",
       "      <td>22.188</td>\n",
       "    </tr>\n",
       "    <tr>\n",
       "      <th>43</th>\n",
       "      <td>Afghanistan</td>\n",
       "      <td>1993</td>\n",
       "      <td>8176.785</td>\n",
       "      <td>7639.816</td>\n",
       "      <td>15816.601</td>\n",
       "      <td>24.227</td>\n",
       "    </tr>\n",
       "    <tr>\n",
       "      <th>44</th>\n",
       "      <td>Afghanistan</td>\n",
       "      <td>1994</td>\n",
       "      <td>8848.711</td>\n",
       "      <td>8227.017</td>\n",
       "      <td>17075.728</td>\n",
       "      <td>26.155</td>\n",
       "    </tr>\n",
       "  </tbody>\n",
       "</table>\n",
       "</div>"
      ],
      "text/plain": [
       "        country  year   PopMale  PopFemale   PopTotal  PopDensity\n",
       "40  Afghanistan  1990  6344.617   6067.694  12412.311      19.012\n",
       "41  Afghanistan  1991  6821.673   6477.343  13299.016      20.370\n",
       "42  Afghanistan  1992  7461.092   7024.451  14485.543      22.188\n",
       "43  Afghanistan  1993  8176.785   7639.816  15816.601      24.227\n",
       "44  Afghanistan  1994  8848.711   8227.017  17075.728      26.155"
      ]
     },
     "execution_count": 57,
     "metadata": {},
     "output_type": "execute_result"
    }
   ],
   "source": [
    "pop_df.head()"
   ]
  },
  {
   "cell_type": "code",
   "execution_count": 58,
   "metadata": {},
   "outputs": [
    {
     "name": "stdout",
     "output_type": "stream",
     "text": [
      "Mass protest data has 15227 rows and 31 columns.\n"
     ]
    }
   ],
   "source": [
    "print (f'Mass protest data has {mass.shape[0]} rows and {mass.shape[1]} columns.')"
   ]
  },
  {
   "cell_type": "code",
   "execution_count": 59,
   "metadata": {},
   "outputs": [
    {
     "data": {
      "text/plain": [
       "Index(['id', 'country', 'ccode', 'year', 'region', 'protestnumber', 'startday',\n",
       "       'startmonth', 'startyear', 'endday', 'endmonth', 'endyear',\n",
       "       'protesterviolence', 'location', 'protesteridentity',\n",
       "       'protesterdemand1', 'protesterdemand2', 'protesterdemand3',\n",
       "       'protesterdemand4', 'stateresponse1', 'stateresponse2',\n",
       "       'stateresponse3', 'stateresponse4', 'stateresponse5', 'stateresponse6',\n",
       "       'stateresponse7', 'sources', 'notes', 'protester_id_type',\n",
       "       'partipants_number', 'protest_size_category'],\n",
       "      dtype='object')"
      ]
     },
     "execution_count": 59,
     "metadata": {},
     "output_type": "execute_result"
    }
   ],
   "source": [
    "mass.columns"
   ]
  },
  {
   "cell_type": "code",
   "execution_count": 60,
   "metadata": {},
   "outputs": [
    {
     "data": {
      "text/html": [
       "<div>\n",
       "<style scoped>\n",
       "    .dataframe tbody tr th:only-of-type {\n",
       "        vertical-align: middle;\n",
       "    }\n",
       "\n",
       "    .dataframe tbody tr th {\n",
       "        vertical-align: top;\n",
       "    }\n",
       "\n",
       "    .dataframe thead th {\n",
       "        text-align: right;\n",
       "    }\n",
       "</style>\n",
       "<table border=\"1\" class=\"dataframe\">\n",
       "  <thead>\n",
       "    <tr style=\"text-align: right;\">\n",
       "      <th></th>\n",
       "      <th>id</th>\n",
       "      <th>country</th>\n",
       "      <th>ccode</th>\n",
       "      <th>year</th>\n",
       "    </tr>\n",
       "  </thead>\n",
       "  <tbody>\n",
       "    <tr>\n",
       "      <th>0</th>\n",
       "      <td>201990001</td>\n",
       "      <td>Canada</td>\n",
       "      <td>20</td>\n",
       "      <td>1990</td>\n",
       "    </tr>\n",
       "    <tr>\n",
       "      <th>1</th>\n",
       "      <td>201990002</td>\n",
       "      <td>Canada</td>\n",
       "      <td>20</td>\n",
       "      <td>1990</td>\n",
       "    </tr>\n",
       "    <tr>\n",
       "      <th>2</th>\n",
       "      <td>201990003</td>\n",
       "      <td>Canada</td>\n",
       "      <td>20</td>\n",
       "      <td>1990</td>\n",
       "    </tr>\n",
       "    <tr>\n",
       "      <th>3</th>\n",
       "      <td>201990004</td>\n",
       "      <td>Canada</td>\n",
       "      <td>20</td>\n",
       "      <td>1990</td>\n",
       "    </tr>\n",
       "    <tr>\n",
       "      <th>4</th>\n",
       "      <td>201990005</td>\n",
       "      <td>Canada</td>\n",
       "      <td>20</td>\n",
       "      <td>1990</td>\n",
       "    </tr>\n",
       "  </tbody>\n",
       "</table>\n",
       "</div>"
      ],
      "text/plain": [
       "          id country  ccode  year\n",
       "0  201990001  Canada     20  1990\n",
       "1  201990002  Canada     20  1990\n",
       "2  201990003  Canada     20  1990\n",
       "3  201990004  Canada     20  1990\n",
       "4  201990005  Canada     20  1990"
      ]
     },
     "execution_count": 60,
     "metadata": {},
     "output_type": "execute_result"
    }
   ],
   "source": [
    "mass[mass['country']=='Canada'][['id','country','ccode','year']].head()"
   ]
  },
  {
   "cell_type": "code",
   "execution_count": 61,
   "metadata": {},
   "outputs": [],
   "source": [
    "#pop_df.to_csv('../data/population_clean.csv')"
   ]
  },
  {
   "cell_type": "markdown",
   "metadata": {},
   "source": [
    "#### Add U.N. Population data to Mass Protest data using merge\n",
    "\n",
    "Amazingly, this will copy down each row of data for each country for each year."
   ]
  },
  {
   "cell_type": "code",
   "execution_count": 62,
   "metadata": {},
   "outputs": [
    {
     "data": {
      "text/html": [
       "<div>\n",
       "<style scoped>\n",
       "    .dataframe tbody tr th:only-of-type {\n",
       "        vertical-align: middle;\n",
       "    }\n",
       "\n",
       "    .dataframe tbody tr th {\n",
       "        vertical-align: top;\n",
       "    }\n",
       "\n",
       "    .dataframe thead th {\n",
       "        text-align: right;\n",
       "    }\n",
       "</style>\n",
       "<table border=\"1\" class=\"dataframe\">\n",
       "  <thead>\n",
       "    <tr style=\"text-align: right;\">\n",
       "      <th></th>\n",
       "      <th>id</th>\n",
       "      <th>country</th>\n",
       "      <th>ccode</th>\n",
       "      <th>year</th>\n",
       "      <th>region</th>\n",
       "      <th>protestnumber</th>\n",
       "      <th>startday</th>\n",
       "      <th>startmonth</th>\n",
       "      <th>startyear</th>\n",
       "      <th>endday</th>\n",
       "      <th>...</th>\n",
       "      <th>stateresponse7</th>\n",
       "      <th>sources</th>\n",
       "      <th>notes</th>\n",
       "      <th>protester_id_type</th>\n",
       "      <th>partipants_number</th>\n",
       "      <th>protest_size_category</th>\n",
       "      <th>PopMale</th>\n",
       "      <th>PopFemale</th>\n",
       "      <th>PopTotal</th>\n",
       "      <th>PopDensity</th>\n",
       "    </tr>\n",
       "  </thead>\n",
       "  <tbody>\n",
       "    <tr>\n",
       "      <th>0</th>\n",
       "      <td>201990001</td>\n",
       "      <td>Canada</td>\n",
       "      <td>20</td>\n",
       "      <td>1990</td>\n",
       "      <td>North America</td>\n",
       "      <td>1</td>\n",
       "      <td>15.0</td>\n",
       "      <td>1.0</td>\n",
       "      <td>1990.0</td>\n",
       "      <td>15.0</td>\n",
       "      <td>...</td>\n",
       "      <td>NaN</td>\n",
       "      <td>1. great canadian train journeys into history;...</td>\n",
       "      <td>canada s railway passenger system was finally ...</td>\n",
       "      <td>workers_unions</td>\n",
       "      <td>1000</td>\n",
       "      <td>1,000-4,999</td>\n",
       "      <td>13656.649</td>\n",
       "      <td>13884.674</td>\n",
       "      <td>27541.323</td>\n",
       "      <td>3.029</td>\n",
       "    </tr>\n",
       "    <tr>\n",
       "      <th>1</th>\n",
       "      <td>201990002</td>\n",
       "      <td>Canada</td>\n",
       "      <td>20</td>\n",
       "      <td>1990</td>\n",
       "      <td>North America</td>\n",
       "      <td>2</td>\n",
       "      <td>25.0</td>\n",
       "      <td>6.0</td>\n",
       "      <td>1990.0</td>\n",
       "      <td>25.0</td>\n",
       "      <td>...</td>\n",
       "      <td>NaN</td>\n",
       "      <td>1. autonomy s cry revived in quebec the new yo...</td>\n",
       "      <td>protestors were only identified as young peopl...</td>\n",
       "      <td>students_youth</td>\n",
       "      <td>1000</td>\n",
       "      <td>1,000-4,999</td>\n",
       "      <td>13656.649</td>\n",
       "      <td>13884.674</td>\n",
       "      <td>27541.323</td>\n",
       "      <td>3.029</td>\n",
       "    </tr>\n",
       "    <tr>\n",
       "      <th>2</th>\n",
       "      <td>201990003</td>\n",
       "      <td>Canada</td>\n",
       "      <td>20</td>\n",
       "      <td>1990</td>\n",
       "      <td>North America</td>\n",
       "      <td>3</td>\n",
       "      <td>1.0</td>\n",
       "      <td>7.0</td>\n",
       "      <td>1990.0</td>\n",
       "      <td>1.0</td>\n",
       "      <td>...</td>\n",
       "      <td>NaN</td>\n",
       "      <td>1. quebec protest after queen calls for unity ...</td>\n",
       "      <td>the queen, after calling on canadians to remai...</td>\n",
       "      <td>political_group</td>\n",
       "      <td>500</td>\n",
       "      <td>100-999</td>\n",
       "      <td>13656.649</td>\n",
       "      <td>13884.674</td>\n",
       "      <td>27541.323</td>\n",
       "      <td>3.029</td>\n",
       "    </tr>\n",
       "  </tbody>\n",
       "</table>\n",
       "<p>3 rows × 35 columns</p>\n",
       "</div>"
      ],
      "text/plain": [
       "          id country  ccode  year         region  protestnumber  startday  \\\n",
       "0  201990001  Canada     20  1990  North America              1      15.0   \n",
       "1  201990002  Canada     20  1990  North America              2      25.0   \n",
       "2  201990003  Canada     20  1990  North America              3       1.0   \n",
       "\n",
       "   startmonth  startyear  endday  ...  stateresponse7  \\\n",
       "0         1.0     1990.0    15.0  ...             NaN   \n",
       "1         6.0     1990.0    25.0  ...             NaN   \n",
       "2         7.0     1990.0     1.0  ...             NaN   \n",
       "\n",
       "                                             sources  \\\n",
       "0  1. great canadian train journeys into history;...   \n",
       "1  1. autonomy s cry revived in quebec the new yo...   \n",
       "2  1. quebec protest after queen calls for unity ...   \n",
       "\n",
       "                                               notes protester_id_type  \\\n",
       "0  canada s railway passenger system was finally ...    workers_unions   \n",
       "1  protestors were only identified as young peopl...    students_youth   \n",
       "2  the queen, after calling on canadians to remai...   political_group   \n",
       "\n",
       "  partipants_number protest_size_category    PopMale  PopFemale   PopTotal  \\\n",
       "0              1000           1,000-4,999  13656.649  13884.674  27541.323   \n",
       "1              1000           1,000-4,999  13656.649  13884.674  27541.323   \n",
       "2               500               100-999  13656.649  13884.674  27541.323   \n",
       "\n",
       "  PopDensity  \n",
       "0      3.029  \n",
       "1      3.029  \n",
       "2      3.029  \n",
       "\n",
       "[3 rows x 35 columns]"
      ]
     },
     "execution_count": 62,
     "metadata": {},
     "output_type": "execute_result"
    }
   ],
   "source": [
    "mass = mass.merge(pop_df)\n",
    "mass.head(3)"
   ]
  },
  {
   "cell_type": "markdown",
   "metadata": {},
   "source": [
    "### Save Mass Protest dataframe as pickle object to be loaded by next stage"
   ]
  },
  {
   "cell_type": "code",
   "execution_count": 63,
   "metadata": {},
   "outputs": [],
   "source": [
    "mass.to_pickle('../data/02a_added_population.pickle')"
   ]
  },
  {
   "cell_type": "code",
   "execution_count": null,
   "metadata": {},
   "outputs": [],
   "source": []
  },
  {
   "cell_type": "code",
   "execution_count": null,
   "metadata": {},
   "outputs": [],
   "source": []
  }
 ],
 "metadata": {
  "kernelspec": {
   "display_name": "Python 3",
   "language": "python",
   "name": "python3"
  },
  "language_info": {
   "codemirror_mode": {
    "name": "ipython",
    "version": 3
   },
   "file_extension": ".py",
   "mimetype": "text/x-python",
   "name": "python",
   "nbconvert_exporter": "python",
   "pygments_lexer": "ipython3",
   "version": "3.8.3"
  }
 },
 "nbformat": 4,
 "nbformat_minor": 4
}
