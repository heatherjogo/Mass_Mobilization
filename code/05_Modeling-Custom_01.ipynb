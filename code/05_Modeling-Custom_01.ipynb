{
 "cells": [
  {
   "cell_type": "markdown",
   "metadata": {},
   "source": [
    "# Mass Mobilization Project\n",
    "<img style=\"float: right;\" src=\"../images/man_with_hammer.png\">\n",
    "\n",
    "#### 05. Create Logistic Regression model\n",
    "\n",
    "This model performs analysis on a dataframe that has removed all state reponse columns with a value of 1 in the **ignore** column.\n",
    "\n",
    "This is a way to deal with severely imbalanced classes."
   ]
  },
  {
   "cell_type": "code",
   "execution_count": 25,
   "metadata": {},
   "outputs": [],
   "source": [
    "import numpy as np\n",
    "import pandas as pd\n",
    "import matplotlib.pyplot as plt \n",
    "import seaborn as sns\n",
    "import pickle\n",
    "\n",
    "from sklearn.linear_model import LogisticRegression\n",
    "from sklearn.model_selection import train_test_split, KFold, LeaveOneOut, cross_val_score, GridSearchCV\n",
    "\n",
    "from sklearn.preprocessing import StandardScaler\n",
    "\n",
    "from sklearn.metrics import (accuracy_score, \n",
    "                            confusion_matrix, \n",
    "                            classification_report,\n",
    "                            f1_score,\n",
    "                            plot_confusion_matrix,\n",
    "                            precision_recall_curve,\n",
    "                            precision_score,\n",
    "                            recall_score, roc_curve, \n",
    "                            roc_auc_score, \n",
    "                            make_scorer)"
   ]
  },
  {
   "cell_type": "code",
   "execution_count": 3,
   "metadata": {},
   "outputs": [],
   "source": [
    "mass = pd.read_csv('./data/mass_mobile.csv')"
   ]
  },
  {
   "cell_type": "code",
   "execution_count": 4,
   "metadata": {
    "scrolled": true
   },
   "outputs": [
    {
     "data": {
      "text/html": [
       "<div>\n",
       "<style scoped>\n",
       "    .dataframe tbody tr th:only-of-type {\n",
       "        vertical-align: middle;\n",
       "    }\n",
       "\n",
       "    .dataframe tbody tr th {\n",
       "        vertical-align: top;\n",
       "    }\n",
       "\n",
       "    .dataframe thead th {\n",
       "        text-align: right;\n",
       "    }\n",
       "</style>\n",
       "<table border=\"1\" class=\"dataframe\">\n",
       "  <thead>\n",
       "    <tr style=\"text-align: right;\">\n",
       "      <th></th>\n",
       "      <th>Unnamed: 0</th>\n",
       "      <th>id</th>\n",
       "      <th>country</th>\n",
       "      <th>ccode</th>\n",
       "      <th>region</th>\n",
       "      <th>protestnumber</th>\n",
       "      <th>protesterviolence</th>\n",
       "      <th>location</th>\n",
       "      <th>protesteridentity</th>\n",
       "      <th>sources</th>\n",
       "      <th>...</th>\n",
       "      <th>social_restrictions</th>\n",
       "      <th>start_date</th>\n",
       "      <th>end_date</th>\n",
       "      <th>target</th>\n",
       "      <th>notes_clean</th>\n",
       "      <th>neg</th>\n",
       "      <th>neu</th>\n",
       "      <th>pos</th>\n",
       "      <th>compound</th>\n",
       "      <th>protest_duration</th>\n",
       "    </tr>\n",
       "  </thead>\n",
       "  <tbody>\n",
       "    <tr>\n",
       "      <th>0</th>\n",
       "      <td>0</td>\n",
       "      <td>201990001</td>\n",
       "      <td>Canada</td>\n",
       "      <td>20</td>\n",
       "      <td>North America</td>\n",
       "      <td>1</td>\n",
       "      <td>0.0</td>\n",
       "      <td>national</td>\n",
       "      <td>unspecified</td>\n",
       "      <td>1. great canadian train journeys into history;...</td>\n",
       "      <td>...</td>\n",
       "      <td>0</td>\n",
       "      <td>1990-01-15</td>\n",
       "      <td>1990-01-15</td>\n",
       "      <td>[0, 0, 0, 0, 1, 0, 0]</td>\n",
       "      <td>canada s railway passenger system was finally ...</td>\n",
       "      <td>0.087</td>\n",
       "      <td>0.913</td>\n",
       "      <td>0.0</td>\n",
       "      <td>-0.8176</td>\n",
       "      <td>1</td>\n",
       "    </tr>\n",
       "    <tr>\n",
       "      <th>1</th>\n",
       "      <td>1</td>\n",
       "      <td>201990002</td>\n",
       "      <td>Canada</td>\n",
       "      <td>20</td>\n",
       "      <td>North America</td>\n",
       "      <td>2</td>\n",
       "      <td>0.0</td>\n",
       "      <td>Montreal, Quebec</td>\n",
       "      <td>unspecified</td>\n",
       "      <td>1. autonomy s cry revived in quebec the new yo...</td>\n",
       "      <td>...</td>\n",
       "      <td>0</td>\n",
       "      <td>1990-06-25</td>\n",
       "      <td>1990-06-25</td>\n",
       "      <td>[0, 0, 0, 0, 1, 0, 0]</td>\n",
       "      <td>protestors were only identified as young peopl...</td>\n",
       "      <td>0.000</td>\n",
       "      <td>1.000</td>\n",
       "      <td>0.0</td>\n",
       "      <td>0.0000</td>\n",
       "      <td>1</td>\n",
       "    </tr>\n",
       "  </tbody>\n",
       "</table>\n",
       "<p>2 rows × 235 columns</p>\n",
       "</div>"
      ],
      "text/plain": [
       "   Unnamed: 0         id country  ccode         region  protestnumber  \\\n",
       "0           0  201990001  Canada     20  North America              1   \n",
       "1           1  201990002  Canada     20  North America              2   \n",
       "\n",
       "   protesterviolence          location protesteridentity  \\\n",
       "0                0.0          national       unspecified   \n",
       "1                0.0  Montreal, Quebec       unspecified   \n",
       "\n",
       "                                             sources  ... social_restrictions  \\\n",
       "0  1. great canadian train journeys into history;...  ...                   0   \n",
       "1  1. autonomy s cry revived in quebec the new yo...  ...                   0   \n",
       "\n",
       "   start_date    end_date                 target  \\\n",
       "0  1990-01-15  1990-01-15  [0, 0, 0, 0, 1, 0, 0]   \n",
       "1  1990-06-25  1990-06-25  [0, 0, 0, 0, 1, 0, 0]   \n",
       "\n",
       "                                         notes_clean    neg    neu  pos  \\\n",
       "0  canada s railway passenger system was finally ...  0.087  0.913  0.0   \n",
       "1  protestors were only identified as young peopl...  0.000  1.000  0.0   \n",
       "\n",
       "   compound  protest_duration  \n",
       "0   -0.8176                 1  \n",
       "1    0.0000                 1  \n",
       "\n",
       "[2 rows x 235 columns]"
      ]
     },
     "execution_count": 4,
     "metadata": {},
     "output_type": "execute_result"
    }
   ],
   "source": [
    "mass.head(2)"
   ]
  },
  {
   "cell_type": "code",
   "execution_count": 5,
   "metadata": {},
   "outputs": [],
   "source": [
    "mass.drop(columns=['Unnamed: 0'], inplace=True)"
   ]
  },
  {
   "cell_type": "code",
   "execution_count": 6,
   "metadata": {},
   "outputs": [],
   "source": [
    "# drop countries... too much noise\n",
    "mass_no_country = mass.drop(columns=[ 'country_Afghanistan',\n",
    " 'country_Albania',\n",
    " 'country_Algeria',\n",
    " 'country_Angola',\n",
    " 'country_Argentina',\n",
    " 'country_Armenia',\n",
    " 'country_Austria',\n",
    " 'country_Azerbaijan',\n",
    " 'country_Bahrain',\n",
    " 'country_Bangladesh',\n",
    " 'country_Belarus',\n",
    " 'country_Belgium',\n",
    " 'country_Benin',\n",
    " 'country_Bolivia',\n",
    " 'country_Bosnia',\n",
    " 'country_Botswana',\n",
    " 'country_Brazil',\n",
    " 'country_Bulgaria',\n",
    " 'country_Burkina Faso',\n",
    " 'country_Burundi',\n",
    " 'country_Cambodia',\n",
    " 'country_Cameroon',\n",
    " 'country_Canada',\n",
    " 'country_Cape Verde',\n",
    " 'country_Central African Republic',\n",
    " 'country_Chad',\n",
    " 'country_Chile',\n",
    " 'country_China',\n",
    " 'country_Colombia',\n",
    " 'country_Comoros',\n",
    " 'country_Congo Brazzaville',\n",
    " 'country_Congo Kinshasa',\n",
    " 'country_Costa Rica',\n",
    " 'country_Croatia',\n",
    " 'country_Cuba',\n",
    " 'country_Cyprus',\n",
    " 'country_Czech Republic',\n",
    " 'country_Czechoslovakia',\n",
    " 'country_Denmark',\n",
    " 'country_Djibouti',\n",
    " 'country_Dominican Republic',\n",
    " 'country_Ecuador',\n",
    " 'country_Egypt',\n",
    " 'country_El Salvador',\n",
    " 'country_Equatorial Guinea',\n",
    " 'country_Eritrea',\n",
    " 'country_Estonia',\n",
    " 'country_Ethiopia',\n",
    " 'country_Finland',\n",
    " 'country_France',\n",
    " 'country_Gabon',\n",
    " 'country_Gambia',\n",
    " 'country_Georgia',\n",
    " 'country_Germany',\n",
    " 'country_Germany East',\n",
    " 'country_Germany West',\n",
    " 'country_Ghana',\n",
    " 'country_Greece',\n",
    " 'country_Guatemala',\n",
    " 'country_Guinea',\n",
    " 'country_Guinea-Bissau',\n",
    " 'country_Guyana',\n",
    " 'country_Haiti',\n",
    " 'country_Honduras',\n",
    " 'country_Hungary',\n",
    " 'country_India',\n",
    " 'country_Indonesia',\n",
    " 'country_Iran',\n",
    " 'country_Iraq',\n",
    " 'country_Ireland',\n",
    " 'country_Italy',\n",
    " 'country_Ivory Coast',\n",
    " 'country_Jamaica',\n",
    " 'country_Japan',\n",
    " 'country_Jordan',\n",
    " 'country_Kazakhstan',\n",
    " 'country_Kenya',\n",
    " 'country_Kosovo',\n",
    " 'country_Kuwait',\n",
    " 'country_Kyrgyzstan',\n",
    " 'country_Laos',\n",
    " 'country_Latvia',\n",
    " 'country_Lebanon',\n",
    " 'country_Lesotho',\n",
    " 'country_Liberia',\n",
    " 'country_Libya',\n",
    " 'country_Lithuania',\n",
    " 'country_Luxembourg',\n",
    " 'country_Macedonia',\n",
    " 'country_Madagascar',\n",
    " 'country_Malawi',\n",
    " 'country_Malaysia',\n",
    " 'country_Mali',\n",
    " 'country_Mauritania',\n",
    " 'country_Mauritius',\n",
    " 'country_Mexico',\n",
    " 'country_Moldova',\n",
    " 'country_Mongolia',\n",
    " 'country_Montenegro',\n",
    " 'country_Morocco',\n",
    " 'country_Mozambique',\n",
    " 'country_Myanmar',\n",
    " 'country_Namibia',\n",
    " 'country_Nepal',\n",
    " 'country_Netherlands',\n",
    " 'country_Nicaragua',\n",
    " 'country_Niger',\n",
    " 'country_Nigeria',\n",
    " 'country_North Korea',\n",
    " 'country_Norway',\n",
    " 'country_Oman',\n",
    " 'country_Pakistan',\n",
    " 'country_Panama',\n",
    " 'country_Papua New Guinea',\n",
    " 'country_Paraguay',\n",
    " 'country_Peru',\n",
    " 'country_Philippines',\n",
    " 'country_Poland',\n",
    " 'country_Portugal',\n",
    " 'country_Qatar',\n",
    " 'country_Romania',\n",
    " 'country_Russia',\n",
    " 'country_Rwanda',\n",
    " 'country_Saudi Arabia',\n",
    " 'country_Senegal',\n",
    " 'country_Serbia',\n",
    " 'country_Serbia and Montenegro',\n",
    " 'country_Sierra Leone',\n",
    " 'country_Singapore',\n",
    " 'country_Slovak Republic',\n",
    " 'country_Slovenia',\n",
    " 'country_Somalia',\n",
    " 'country_South Africa',\n",
    " 'country_South Korea',\n",
    " 'country_South Sudan',\n",
    " 'country_Spain',\n",
    " 'country_Sri Lanka',\n",
    " 'country_Sudan',\n",
    " 'country_Suriname',\n",
    " 'country_Swaziland',\n",
    " 'country_Sweden',\n",
    " 'country_Switzerland',\n",
    " 'country_Syria',\n",
    " 'country_Taiwan',\n",
    " 'country_Tajikistan',\n",
    " 'country_Tanzania',\n",
    " 'country_Thailand',\n",
    " 'country_Timor Leste',\n",
    " 'country_Togo',\n",
    " 'country_Tunisia',\n",
    " 'country_Turkey',\n",
    " 'country_Turkmenistan',\n",
    " 'country_USSR',\n",
    " 'country_Uganda',\n",
    " 'country_Ukraine',\n",
    " 'country_United Arab Emirate',\n",
    " 'country_United Kingdom',\n",
    " 'country_Uruguay',\n",
    " 'country_Uzbekistan',\n",
    " 'country_Venezuela',\n",
    " 'country_Vietnam',\n",
    " 'country_Yemen',\n",
    " 'country_Yugoslavia',\n",
    " 'country_Zambia',\n",
    " 'country_Zimbabwe' ])"
   ]
  },
  {
   "cell_type": "code",
   "execution_count": 7,
   "metadata": {
    "scrolled": true
   },
   "outputs": [
    {
     "data": {
      "text/plain": [
       "['accomodation',\n",
       " 'arrests',\n",
       " 'beatings',\n",
       " 'ccode',\n",
       " 'compound',\n",
       " 'country',\n",
       " 'crowddispersal',\n",
       " 'end_date',\n",
       " 'id',\n",
       " 'ignore',\n",
       " 'killings',\n",
       " 'labor_wage_dispute',\n",
       " 'land_farm_issue',\n",
       " 'location',\n",
       " 'neg',\n",
       " 'neu',\n",
       " 'notes',\n",
       " 'notes_clean',\n",
       " 'partipants_number',\n",
       " 'police_brutality',\n",
       " 'political_behavior_process',\n",
       " 'pop_density',\n",
       " 'pop_female',\n",
       " 'pop_male',\n",
       " 'pop_total',\n",
       " 'pos',\n",
       " 'price increases_tax_policy',\n",
       " 'prosperity_2020',\n",
       " 'protest_duration',\n",
       " 'protest_size_category',\n",
       " 'protest_size_category_1,000-4,999',\n",
       " 'protest_size_category_10,000-100,000',\n",
       " 'protest_size_category_100-999',\n",
       " 'protest_size_category_5,000-9,999',\n",
       " 'protest_size_category_50-99',\n",
       " 'protest_size_category_Less than 50',\n",
       " 'protest_size_category_Over 100,000',\n",
       " 'protester_id_type',\n",
       " 'protester_id_type_civil_human_rights',\n",
       " 'protester_id_type_ethnic_group',\n",
       " 'protester_id_type_locals_residents',\n",
       " 'protester_id_type_pensioners_retirees',\n",
       " 'protester_id_type_political_group',\n",
       " 'protester_id_type_prisoners',\n",
       " 'protester_id_type_protestors_generic',\n",
       " 'protester_id_type_religious_group',\n",
       " 'protester_id_type_soldiers_veterans',\n",
       " 'protester_id_type_students_youth',\n",
       " 'protester_id_type_victims_families',\n",
       " 'protester_id_type_women',\n",
       " 'protester_id_type_workers_unions',\n",
       " 'protesteridentity',\n",
       " 'protesterviolence',\n",
       " 'protestnumber',\n",
       " 'region',\n",
       " 'region_Africa',\n",
       " 'region_Asia',\n",
       " 'region_Central America',\n",
       " 'region_Europe',\n",
       " 'region_MENA',\n",
       " 'region_North America',\n",
       " 'region_Oceania',\n",
       " 'region_South America',\n",
       " 'removal_of_politician',\n",
       " 'shootings',\n",
       " 'social_restrictions',\n",
       " 'sources',\n",
       " 'start_date',\n",
       " 'target']"
      ]
     },
     "execution_count": 7,
     "metadata": {},
     "output_type": "execute_result"
    }
   ],
   "source": [
    "# all columns for easy copy and paste \n",
    "sorted(list(mass_no_country.columns))"
   ]
  },
  {
   "cell_type": "code",
   "execution_count": 8,
   "metadata": {},
   "outputs": [
    {
     "data": {
      "text/html": [
       "<div>\n",
       "<style scoped>\n",
       "    .dataframe tbody tr th:only-of-type {\n",
       "        vertical-align: middle;\n",
       "    }\n",
       "\n",
       "    .dataframe tbody tr th {\n",
       "        vertical-align: top;\n",
       "    }\n",
       "\n",
       "    .dataframe thead th {\n",
       "        text-align: right;\n",
       "    }\n",
       "</style>\n",
       "<table border=\"1\" class=\"dataframe\">\n",
       "  <thead>\n",
       "    <tr style=\"text-align: right;\">\n",
       "      <th></th>\n",
       "      <th>violent_response</th>\n",
       "    </tr>\n",
       "  </thead>\n",
       "  <tbody>\n",
       "    <tr>\n",
       "      <th>0</th>\n",
       "      <td>0</td>\n",
       "    </tr>\n",
       "    <tr>\n",
       "      <th>1</th>\n",
       "      <td>0</td>\n",
       "    </tr>\n",
       "    <tr>\n",
       "      <th>2</th>\n",
       "      <td>0</td>\n",
       "    </tr>\n",
       "    <tr>\n",
       "      <th>3</th>\n",
       "      <td>0</td>\n",
       "    </tr>\n",
       "    <tr>\n",
       "      <th>4</th>\n",
       "      <td>0</td>\n",
       "    </tr>\n",
       "    <tr>\n",
       "      <th>...</th>\n",
       "      <td>...</td>\n",
       "    </tr>\n",
       "    <tr>\n",
       "      <th>15174</th>\n",
       "      <td>1</td>\n",
       "    </tr>\n",
       "    <tr>\n",
       "      <th>15175</th>\n",
       "      <td>1</td>\n",
       "    </tr>\n",
       "    <tr>\n",
       "      <th>15176</th>\n",
       "      <td>0</td>\n",
       "    </tr>\n",
       "    <tr>\n",
       "      <th>15177</th>\n",
       "      <td>0</td>\n",
       "    </tr>\n",
       "    <tr>\n",
       "      <th>15178</th>\n",
       "      <td>0</td>\n",
       "    </tr>\n",
       "  </tbody>\n",
       "</table>\n",
       "<p>15179 rows × 1 columns</p>\n",
       "</div>"
      ],
      "text/plain": [
       "       violent_response\n",
       "0                     0\n",
       "1                     0\n",
       "2                     0\n",
       "3                     0\n",
       "4                     0\n",
       "...                 ...\n",
       "15174                 1\n",
       "15175                 1\n",
       "15176                 0\n",
       "15177                 0\n",
       "15178                 0\n",
       "\n",
       "[15179 rows x 1 columns]"
      ]
     },
     "execution_count": 8,
     "metadata": {},
     "output_type": "execute_result"
    }
   ],
   "source": [
    "# create violent_response column \n",
    "mass_no_country['violent_response'] = 0 \n",
    "mass_no_country.loc[mass['beatings'] == 1, 'violent_response'] = 1\n",
    "mass_no_country.loc[mass['shootings'] == 1, 'violent_response'] = 1\n",
    "mass_no_country.loc[mass['killings'] == 1, 'violent_response'] = 1\n",
    "mass_no_country[['violent_response']]\n"
   ]
  },
  {
   "cell_type": "code",
   "execution_count": 9,
   "metadata": {},
   "outputs": [
    {
     "data": {
      "text/html": [
       "<div>\n",
       "<style scoped>\n",
       "    .dataframe tbody tr th:only-of-type {\n",
       "        vertical-align: middle;\n",
       "    }\n",
       "\n",
       "    .dataframe tbody tr th {\n",
       "        vertical-align: top;\n",
       "    }\n",
       "\n",
       "    .dataframe thead th {\n",
       "        text-align: right;\n",
       "    }\n",
       "</style>\n",
       "<table border=\"1\" class=\"dataframe\">\n",
       "  <thead>\n",
       "    <tr style=\"text-align: right;\">\n",
       "      <th></th>\n",
       "      <th>id</th>\n",
       "      <th>country</th>\n",
       "      <th>ccode</th>\n",
       "      <th>region</th>\n",
       "      <th>protestnumber</th>\n",
       "      <th>protesterviolence</th>\n",
       "      <th>location</th>\n",
       "      <th>protesteridentity</th>\n",
       "      <th>sources</th>\n",
       "      <th>notes</th>\n",
       "      <th>...</th>\n",
       "      <th>start_date</th>\n",
       "      <th>end_date</th>\n",
       "      <th>target</th>\n",
       "      <th>notes_clean</th>\n",
       "      <th>neg</th>\n",
       "      <th>neu</th>\n",
       "      <th>pos</th>\n",
       "      <th>compound</th>\n",
       "      <th>protest_duration</th>\n",
       "      <th>violent_response</th>\n",
       "    </tr>\n",
       "  </thead>\n",
       "  <tbody>\n",
       "    <tr>\n",
       "      <th>0</th>\n",
       "      <td>201990001</td>\n",
       "      <td>Canada</td>\n",
       "      <td>20</td>\n",
       "      <td>North America</td>\n",
       "      <td>1</td>\n",
       "      <td>0.0</td>\n",
       "      <td>national</td>\n",
       "      <td>unspecified</td>\n",
       "      <td>1. great canadian train journeys into history;...</td>\n",
       "      <td>canada s railway passenger system was finally ...</td>\n",
       "      <td>...</td>\n",
       "      <td>1990-01-15</td>\n",
       "      <td>1990-01-15</td>\n",
       "      <td>[0, 0, 0, 0, 1, 0, 0]</td>\n",
       "      <td>canada s railway passenger system was finally ...</td>\n",
       "      <td>0.087</td>\n",
       "      <td>0.913</td>\n",
       "      <td>0.000</td>\n",
       "      <td>-0.8176</td>\n",
       "      <td>1</td>\n",
       "      <td>0</td>\n",
       "    </tr>\n",
       "    <tr>\n",
       "      <th>1</th>\n",
       "      <td>201990002</td>\n",
       "      <td>Canada</td>\n",
       "      <td>20</td>\n",
       "      <td>North America</td>\n",
       "      <td>2</td>\n",
       "      <td>0.0</td>\n",
       "      <td>Montreal, Quebec</td>\n",
       "      <td>unspecified</td>\n",
       "      <td>1. autonomy s cry revived in quebec the new yo...</td>\n",
       "      <td>protestors were only identified as young peopl...</td>\n",
       "      <td>...</td>\n",
       "      <td>1990-06-25</td>\n",
       "      <td>1990-06-25</td>\n",
       "      <td>[0, 0, 0, 0, 1, 0, 0]</td>\n",
       "      <td>protestors were only identified as young peopl...</td>\n",
       "      <td>0.000</td>\n",
       "      <td>1.000</td>\n",
       "      <td>0.000</td>\n",
       "      <td>0.0000</td>\n",
       "      <td>1</td>\n",
       "      <td>0</td>\n",
       "    </tr>\n",
       "    <tr>\n",
       "      <th>2</th>\n",
       "      <td>201990003</td>\n",
       "      <td>Canada</td>\n",
       "      <td>20</td>\n",
       "      <td>North America</td>\n",
       "      <td>3</td>\n",
       "      <td>0.0</td>\n",
       "      <td>Montreal, Quebec</td>\n",
       "      <td>separatist parti quebecois</td>\n",
       "      <td>1. quebec protest after queen calls for unity ...</td>\n",
       "      <td>the queen, after calling on canadians to remai...</td>\n",
       "      <td>...</td>\n",
       "      <td>1990-07-01</td>\n",
       "      <td>1990-07-01</td>\n",
       "      <td>[0, 0, 0, 0, 1, 0, 0]</td>\n",
       "      <td>the queen, after calling on canadians to remai...</td>\n",
       "      <td>0.060</td>\n",
       "      <td>0.830</td>\n",
       "      <td>0.109</td>\n",
       "      <td>0.7003</td>\n",
       "      <td>1</td>\n",
       "      <td>0</td>\n",
       "    </tr>\n",
       "    <tr>\n",
       "      <th>3</th>\n",
       "      <td>201990004</td>\n",
       "      <td>Canada</td>\n",
       "      <td>20</td>\n",
       "      <td>North America</td>\n",
       "      <td>4</td>\n",
       "      <td>1.0</td>\n",
       "      <td>Montreal, Quebec</td>\n",
       "      <td>mohawk indians</td>\n",
       "      <td>1. indians gather as siege intensifies; armed ...</td>\n",
       "      <td>canada s federal government has agreed to acqu...</td>\n",
       "      <td>...</td>\n",
       "      <td>1990-07-12</td>\n",
       "      <td>1990-09-06</td>\n",
       "      <td>[0, 1, 0, 0, 0, 0, 0]</td>\n",
       "      <td>canada s federal government has agreed to acqu...</td>\n",
       "      <td>0.134</td>\n",
       "      <td>0.820</td>\n",
       "      <td>0.046</td>\n",
       "      <td>-0.9711</td>\n",
       "      <td>57</td>\n",
       "      <td>0</td>\n",
       "    </tr>\n",
       "    <tr>\n",
       "      <th>4</th>\n",
       "      <td>201990005</td>\n",
       "      <td>Canada</td>\n",
       "      <td>20</td>\n",
       "      <td>North America</td>\n",
       "      <td>5</td>\n",
       "      <td>1.0</td>\n",
       "      <td>Montreal, Quebec</td>\n",
       "      <td>local residents</td>\n",
       "      <td>1. dozens hurt in mohawk blockade protest the ...</td>\n",
       "      <td>protests were directed against the state due t...</td>\n",
       "      <td>...</td>\n",
       "      <td>1990-08-14</td>\n",
       "      <td>1990-08-15</td>\n",
       "      <td>[1, 1, 0, 1, 0, 0, 0]</td>\n",
       "      <td>protests were directed against the state due t...</td>\n",
       "      <td>0.226</td>\n",
       "      <td>0.677</td>\n",
       "      <td>0.098</td>\n",
       "      <td>-0.5267</td>\n",
       "      <td>2</td>\n",
       "      <td>0</td>\n",
       "    </tr>\n",
       "  </tbody>\n",
       "</table>\n",
       "<p>5 rows × 70 columns</p>\n",
       "</div>"
      ],
      "text/plain": [
       "          id country  ccode         region  protestnumber  protesterviolence  \\\n",
       "0  201990001  Canada     20  North America              1                0.0   \n",
       "1  201990002  Canada     20  North America              2                0.0   \n",
       "2  201990003  Canada     20  North America              3                0.0   \n",
       "3  201990004  Canada     20  North America              4                1.0   \n",
       "4  201990005  Canada     20  North America              5                1.0   \n",
       "\n",
       "           location           protesteridentity  \\\n",
       "0          national                 unspecified   \n",
       "1  Montreal, Quebec                 unspecified   \n",
       "2  Montreal, Quebec  separatist parti quebecois   \n",
       "3  Montreal, Quebec              mohawk indians   \n",
       "4  Montreal, Quebec             local residents   \n",
       "\n",
       "                                             sources  \\\n",
       "0  1. great canadian train journeys into history;...   \n",
       "1  1. autonomy s cry revived in quebec the new yo...   \n",
       "2  1. quebec protest after queen calls for unity ...   \n",
       "3  1. indians gather as siege intensifies; armed ...   \n",
       "4  1. dozens hurt in mohawk blockade protest the ...   \n",
       "\n",
       "                                               notes  ...  start_date  \\\n",
       "0  canada s railway passenger system was finally ...  ...  1990-01-15   \n",
       "1  protestors were only identified as young peopl...  ...  1990-06-25   \n",
       "2  the queen, after calling on canadians to remai...  ...  1990-07-01   \n",
       "3  canada s federal government has agreed to acqu...  ...  1990-07-12   \n",
       "4  protests were directed against the state due t...  ...  1990-08-14   \n",
       "\n",
       "     end_date                 target  \\\n",
       "0  1990-01-15  [0, 0, 0, 0, 1, 0, 0]   \n",
       "1  1990-06-25  [0, 0, 0, 0, 1, 0, 0]   \n",
       "2  1990-07-01  [0, 0, 0, 0, 1, 0, 0]   \n",
       "3  1990-09-06  [0, 1, 0, 0, 0, 0, 0]   \n",
       "4  1990-08-15  [1, 1, 0, 1, 0, 0, 0]   \n",
       "\n",
       "                                         notes_clean    neg    neu    pos  \\\n",
       "0  canada s railway passenger system was finally ...  0.087  0.913  0.000   \n",
       "1  protestors were only identified as young peopl...  0.000  1.000  0.000   \n",
       "2  the queen, after calling on canadians to remai...  0.060  0.830  0.109   \n",
       "3  canada s federal government has agreed to acqu...  0.134  0.820  0.046   \n",
       "4  protests were directed against the state due t...  0.226  0.677  0.098   \n",
       "\n",
       "   compound  protest_duration  violent_response  \n",
       "0   -0.8176                 1                 0  \n",
       "1    0.0000                 1                 0  \n",
       "2    0.7003                 1                 0  \n",
       "3   -0.9711                57                 0  \n",
       "4   -0.5267                 2                 0  \n",
       "\n",
       "[5 rows x 70 columns]"
      ]
     },
     "execution_count": 9,
     "metadata": {},
     "output_type": "execute_result"
    }
   ],
   "source": [
    "mass_no_country.head()"
   ]
  },
  {
   "cell_type": "markdown",
   "metadata": {},
   "source": [
    "## Macro Functions "
   ]
  },
  {
   "cell_type": "code",
   "execution_count": 10,
   "metadata": {},
   "outputs": [],
   "source": [
    "def state_response_predictor(df, features, target, model):\n",
    "    '''This function runs a model, makes predictions, calls evaluate_model() to \n",
    "    evaluate various train and test scores using those predictions, and uses response_prediction_columns() \n",
    "    to create prediction and probability columns'''\n",
    "    X = features \n",
    "    y = df[target]\n",
    "    \n",
    "    # train test split\n",
    "    X_train, X_test, y_train, y_test = train_test_split(X, y, test_size=0.2, random_state=48)\n",
    "    \n",
    "    # scale data\n",
    "    ss = StandardScaler()\n",
    "    X_train_sc = ss.fit_transform(X_train)\n",
    "    X_test_sc = ss.transform(X_test)\n",
    "    \n",
    "    # fit model \n",
    "    model.fit(X_train_sc, y_train)\n",
    "    \n",
    "    # predict on train and test set \n",
    "    y_preds_train = model.predict(X_train_sc)\n",
    "    y_preds_test = model.predict(X_test_sc)\n",
    "    \n",
    "    # evaluate various train and test set classification metrics\n",
    "    f1_score_train, precision_train, recall_train = evaluate_model(y_train, y_preds_train)\n",
    "    f1_score_test, precision_test, recall_test = evaluate_model(y_test, y_preds_test)\n",
    "    \n",
    "#     print(f'{target}- F1_score for {model} model, train set: {f1_score_train}')\n",
    "#     print(f'{target}- F1_score for {model} model, test set: {f1_score_test}')\n",
    "#     print(f'{target}- Precision for {model} model, train set: {precision_train}')\n",
    "#     print(f'{target}- Precision for {model} model, test set: {precision_test}')\n",
    "#     print(f'{target}- Recall for {model} model, train set: {recall_train}')\n",
    "#     print(f'{target}- Recall for {model} model, teset set: {recall_test}')\n",
    "\n",
    "    # call response_prediction_columns() to create prediction and probability columns\n",
    "    predicted_column, probability_column = response_prediction_columns(model, df, features)\n",
    "    \n",
    "#     build_confusion_matrix(y_test, y_preds_test)\n",
    "\n",
    "    return predicted_column, probability_column, f1_score_train, f1_score_test, precision_train, precision_test, recall_train, recall_test  "
   ]
  },
  {
   "cell_type": "code",
   "execution_count": 11,
   "metadata": {},
   "outputs": [],
   "source": [
    "def response_prediction_columns(model, df, features):\n",
    "    '''Creates predicted and probability columns'''\n",
    "    \n",
    "    # scale data on entire data set\n",
    "    ss = StandardScaler()\n",
    "    X = features\n",
    "    X_sc = ss.fit_transform(X)\n",
    "    \n",
    "    # make predictions\n",
    "    predicted_column = model.predict(X_sc)\n",
    "    probability_column = model.predict_proba(X_sc)[:,1]\n",
    "    \n",
    "    return predicted_column, probability_column"
   ]
  },
  {
   "cell_type": "code",
   "execution_count": 12,
   "metadata": {},
   "outputs": [],
   "source": [
    "def evaluate_model(y_true, y_preds):\n",
    "    '''Building a function that returns F1, precision, and recall scores '''\n",
    "    \n",
    "    f1 = f1_score(y_true, y_preds)\n",
    "    precision = precision_score(y_true, y_preds)\n",
    "    recall = recall_score(y_true, y_preds)\n",
    "\n",
    "    return f1, precision, recall"
   ]
  },
  {
   "cell_type": "markdown",
   "metadata": {},
   "source": [
    "# Modeling Section "
   ]
  },
  {
   "attachments": {
    "image.png": {
     "image/png": "[encoded data removed]"
    }
   },
   "cell_type": "markdown",
   "metadata": {},
   "source": [
    "- The data set suffers from massive class imbalance. See Table below. \n",
    "\n",
    "![image.png](attachment:image.png)\n",
    "\n",
    "- Our approach to account for these imbalances and predict state responses can be broken down into a couple of models. \n",
    "    1. One model is going to predict when a state ignores a protest.\n",
    "    2. The other model is going to predict the rest of the state responses using the data without instances when the state\n",
    "    response is not ignore. \n"
   ]
  },
  {
   "cell_type": "code",
   "execution_count": 13,
   "metadata": {},
   "outputs": [
    {
     "data": {
      "text/html": [
       "<div>\n",
       "<style scoped>\n",
       "    .dataframe tbody tr th:only-of-type {\n",
       "        vertical-align: middle;\n",
       "    }\n",
       "\n",
       "    .dataframe tbody tr th {\n",
       "        vertical-align: top;\n",
       "    }\n",
       "\n",
       "    .dataframe thead th {\n",
       "        text-align: right;\n",
       "    }\n",
       "</style>\n",
       "<table border=\"1\" class=\"dataframe\">\n",
       "  <thead>\n",
       "    <tr style=\"text-align: right;\">\n",
       "      <th></th>\n",
       "      <th>arrests</th>\n",
       "      <th>accomodation</th>\n",
       "      <th>ignore</th>\n",
       "      <th>crowddispersal</th>\n",
       "      <th>killings</th>\n",
       "      <th>shootings</th>\n",
       "      <th>beatings</th>\n",
       "    </tr>\n",
       "  </thead>\n",
       "  <tbody>\n",
       "    <tr>\n",
       "      <th>0</th>\n",
       "      <td>0.141182</td>\n",
       "      <td>0.100204</td>\n",
       "      <td>0.543448</td>\n",
       "      <td>0.313459</td>\n",
       "      <td>0.054286</td>\n",
       "      <td>0.061335</td>\n",
       "      <td>0.052704</td>\n",
       "    </tr>\n",
       "  </tbody>\n",
       "</table>\n",
       "</div>"
      ],
      "text/plain": [
       "    arrests  accomodation    ignore  crowddispersal  killings  shootings  \\\n",
       "0  0.141182      0.100204  0.543448        0.313459  0.054286   0.061335   \n",
       "\n",
       "   beatings  \n",
       "0  0.052704  "
      ]
     },
     "execution_count": 13,
     "metadata": {},
     "output_type": "execute_result"
    }
   ],
   "source": [
    "\n",
    "frequencies = {\n",
    "    'arrests':[mass_no_country['arrests'].value_counts(normalize=True)[1]],\n",
    "    'accomodation' : [mass_no_country['accomodation'].value_counts(normalize=True)[1]],\n",
    "    'ignore' : [mass_no_country['ignore'].value_counts(normalize=True)[1]],\n",
    "    'crowddispersal' : [mass_no_country['crowddispersal'].value_counts(normalize=True)[1]], \n",
    "    'killings' : [mass_no_country['killings'].value_counts(normalize=True)[1]], \n",
    "    'shootings' : [mass_no_country['shootings'].value_counts(normalize=True)[1]], \n",
    "    'beatings' : [mass_no_country['beatings'].value_counts(normalize=True)[1]]\n",
    "}\n",
    "\n",
    "pd.DataFrame(frequencies)"
   ]
  },
  {
   "cell_type": "markdown",
   "metadata": {},
   "source": [
    "### Logistic Regression for when the State ignores protests "
   ]
  },
  {
   "cell_type": "code",
   "execution_count": 14,
   "metadata": {
    "scrolled": true
   },
   "outputs": [
    {
     "name": "stdout",
     "output_type": "stream",
     "text": [
      "Fitting 10 folds for each of 8 candidates, totalling 80 fits\n",
      "[CV] END .C=0.01, max_iter=100, penalty=l1, solver=liblinear; total time=   0.0s\n",
      "[CV] END .C=0.01, max_iter=100, penalty=l1, solver=liblinear; total time=   0.0s\n",
      "[CV] END .C=0.01, max_iter=100, penalty=l1, solver=liblinear; total time=   0.0s\n",
      "[CV] END .C=0.01, max_iter=100, penalty=l1, solver=liblinear; total time=   0.0s\n",
      "[CV] END .C=0.01, max_iter=100, penalty=l1, solver=liblinear; total time=   0.0s\n",
      "[CV] END .C=0.01, max_iter=100, penalty=l1, solver=liblinear; total time=   0.0s\n",
      "[CV] END .C=0.01, max_iter=100, penalty=l1, solver=liblinear; total time=   0.0s\n",
      "[CV] END .C=0.01, max_iter=100, penalty=l1, solver=liblinear; total time=   0.0s\n",
      "[CV] END .C=0.01, max_iter=100, penalty=l1, solver=liblinear; total time=   0.0s\n",
      "[CV] END .C=0.01, max_iter=100, penalty=l1, solver=liblinear; total time=   0.0s\n",
      "[CV] END ......C=0.01, max_iter=100, penalty=l1, solver=saga; total time=   0.0s\n",
      "[CV] END ......C=0.01, max_iter=100, penalty=l1, solver=saga; total time=   0.0s\n",
      "[CV] END ......C=0.01, max_iter=100, penalty=l1, solver=saga; total time=   0.0s\n",
      "[CV] END ......C=0.01, max_iter=100, penalty=l1, solver=saga; total time=   0.0s\n",
      "[CV] END ......C=0.01, max_iter=100, penalty=l1, solver=saga; total time=   0.0s\n",
      "[CV] END ......C=0.01, max_iter=100, penalty=l1, solver=saga; total time=   0.0s\n",
      "[CV] END ......C=0.01, max_iter=100, penalty=l1, solver=saga; total time=   0.0s\n",
      "[CV] END ......C=0.01, max_iter=100, penalty=l1, solver=saga; total time=   0.0s\n",
      "[CV] END ......C=0.01, max_iter=100, penalty=l1, solver=saga; total time=   0.0s\n",
      "[CV] END ......C=0.01, max_iter=100, penalty=l1, solver=saga; total time=   0.0s\n",
      "[CV] END .C=0.01, max_iter=100, penalty=l2, solver=liblinear; total time=   0.0s\n",
      "[CV] END .C=0.01, max_iter=100, penalty=l2, solver=liblinear; total time=   0.0s\n",
      "[CV] END .C=0.01, max_iter=100, penalty=l2, solver=liblinear; total time=   0.0s\n",
      "[CV] END .C=0.01, max_iter=100, penalty=l2, solver=liblinear; total time=   0.0s\n",
      "[CV] END .C=0.01, max_iter=100, penalty=l2, solver=liblinear; total time=   0.0s\n",
      "[CV] END .C=0.01, max_iter=100, penalty=l2, solver=liblinear; total time=   0.0s\n",
      "[CV] END .C=0.01, max_iter=100, penalty=l2, solver=liblinear; total time=   0.0s\n",
      "[CV] END .C=0.01, max_iter=100, penalty=l2, solver=liblinear; total time=   0.0s\n",
      "[CV] END .C=0.01, max_iter=100, penalty=l2, solver=liblinear; total time=   0.0s\n",
      "[CV] END .C=0.01, max_iter=100, penalty=l2, solver=liblinear; total time=   0.0s\n",
      "[CV] END ......C=0.01, max_iter=100, penalty=l2, solver=saga; total time=   0.0s\n",
      "[CV] END ......C=0.01, max_iter=100, penalty=l2, solver=saga; total time=   0.0s\n",
      "[CV] END ......C=0.01, max_iter=100, penalty=l2, solver=saga; total time=   0.0s\n",
      "[CV] END ......C=0.01, max_iter=100, penalty=l2, solver=saga; total time=   0.0s\n",
      "[CV] END ......C=0.01, max_iter=100, penalty=l2, solver=saga; total time=   0.0s\n",
      "[CV] END ......C=0.01, max_iter=100, penalty=l2, solver=saga; total time=   0.0s\n",
      "[CV] END ......C=0.01, max_iter=100, penalty=l2, solver=saga; total time=   0.0s\n",
      "[CV] END ......C=0.01, max_iter=100, penalty=l2, solver=saga; total time=   0.0s\n",
      "[CV] END ......C=0.01, max_iter=100, penalty=l2, solver=saga; total time=   0.0s\n",
      "[CV] END ......C=0.01, max_iter=100, penalty=l2, solver=saga; total time=   0.0s\n",
      "[CV] END C=0.01, max_iter=1000, penalty=l1, solver=liblinear; total time=   0.0s\n",
      "[CV] END C=0.01, max_iter=1000, penalty=l1, solver=liblinear; total time=   0.0s\n",
      "[CV] END C=0.01, max_iter=1000, penalty=l1, solver=liblinear; total time=   0.0s\n",
      "[CV] END C=0.01, max_iter=1000, penalty=l1, solver=liblinear; total time=   0.0s\n",
      "[CV] END C=0.01, max_iter=1000, penalty=l1, solver=liblinear; total time=   0.0s\n",
      "[CV] END C=0.01, max_iter=1000, penalty=l1, solver=liblinear; total time=   0.0s\n",
      "[CV] END C=0.01, max_iter=1000, penalty=l1, solver=liblinear; total time=   0.0s\n",
      "[CV] END C=0.01, max_iter=1000, penalty=l1, solver=liblinear; total time=   0.0s\n",
      "[CV] END C=0.01, max_iter=1000, penalty=l1, solver=liblinear; total time=   0.0s\n",
      "[CV] END C=0.01, max_iter=1000, penalty=l1, solver=liblinear; total time=   0.0s\n",
      "[CV] END .....C=0.01, max_iter=1000, penalty=l1, solver=saga; total time=   0.0s\n",
      "[CV] END .....C=0.01, max_iter=1000, penalty=l1, solver=saga; total time=   0.0s\n",
      "[CV] END .....C=0.01, max_iter=1000, penalty=l1, solver=saga; total time=   0.0s\n",
      "[CV] END .....C=0.01, max_iter=1000, penalty=l1, solver=saga; total time=   0.0s\n",
      "[CV] END .....C=0.01, max_iter=1000, penalty=l1, solver=saga; total time=   0.0s\n",
      "[CV] END .....C=0.01, max_iter=1000, penalty=l1, solver=saga; total time=   0.0s\n",
      "[CV] END .....C=0.01, max_iter=1000, penalty=l1, solver=saga; total time=   0.0s\n",
      "[CV] END .....C=0.01, max_iter=1000, penalty=l1, solver=saga; total time=   0.0s\n",
      "[CV] END .....C=0.01, max_iter=1000, penalty=l1, solver=saga; total time=   0.0s\n",
      "[CV] END .....C=0.01, max_iter=1000, penalty=l1, solver=saga; total time=   0.0s\n",
      "[CV] END C=0.01, max_iter=1000, penalty=l2, solver=liblinear; total time=   0.0s\n",
      "[CV] END C=0.01, max_iter=1000, penalty=l2, solver=liblinear; total time=   0.0s\n",
      "[CV] END C=0.01, max_iter=1000, penalty=l2, solver=liblinear; total time=   0.0s\n",
      "[CV] END C=0.01, max_iter=1000, penalty=l2, solver=liblinear; total time=   0.0s\n",
      "[CV] END C=0.01, max_iter=1000, penalty=l2, solver=liblinear; total time=   0.0s\n",
      "[CV] END C=0.01, max_iter=1000, penalty=l2, solver=liblinear; total time=   0.0s\n",
      "[CV] END C=0.01, max_iter=1000, penalty=l2, solver=liblinear; total time=   0.0s\n",
      "[CV] END C=0.01, max_iter=1000, penalty=l2, solver=liblinear; total time=   0.0s\n",
      "[CV] END C=0.01, max_iter=1000, penalty=l2, solver=liblinear; total time=   0.0s\n",
      "[CV] END C=0.01, max_iter=1000, penalty=l2, solver=liblinear; total time=   0.0s\n",
      "[CV] END .....C=0.01, max_iter=1000, penalty=l2, solver=saga; total time=   0.0s\n",
      "[CV] END .....C=0.01, max_iter=1000, penalty=l2, solver=saga; total time=   0.0s\n",
      "[CV] END .....C=0.01, max_iter=1000, penalty=l2, solver=saga; total time=   0.0s\n",
      "[CV] END .....C=0.01, max_iter=1000, penalty=l2, solver=saga; total time=   0.0s\n",
      "[CV] END .....C=0.01, max_iter=1000, penalty=l2, solver=saga; total time=   0.0s\n",
      "[CV] END .....C=0.01, max_iter=1000, penalty=l2, solver=saga; total time=   0.0s\n",
      "[CV] END .....C=0.01, max_iter=1000, penalty=l2, solver=saga; total time=   0.0s\n",
      "[CV] END .....C=0.01, max_iter=1000, penalty=l2, solver=saga; total time=   0.0s\n",
      "[CV] END .....C=0.01, max_iter=1000, penalty=l2, solver=saga; total time=   0.0s\n",
      "[CV] END .....C=0.01, max_iter=1000, penalty=l2, solver=saga; total time=   0.0s\n"
     ]
    }
   ],
   "source": [
    "# results = {\n",
    "#     'target' : [],\n",
    "#     'best_cv_scores' : [],\n",
    "#     'best_params' : [],\n",
    "#     'AUC_train_score' : [],\n",
    "#     'AUC_test_score' : [],\n",
    "#     'train_f1_scores' : [],\n",
    "#     'test_f1_scores' : [],\n",
    "#     'train_precision_scores' : [], \n",
    "#     'test_precision_scores' : [],\n",
    "#     'train_recall_scores' : [],\n",
    "#     'test_recall_scores' : []\n",
    "# }\n",
    "\n",
    "# targets = ['ignore']\n",
    "    \n",
    "# features = mass_no_country.drop(columns=['id', 'country', 'ccode', 'region', 'location','protesteridentity', 'sources',\n",
    "#        'notes', 'protester_id_type', 'protest_size_category', 'start_date', 'notes_clean', 'neg', 'neu', 'pos', 'compound',\n",
    "#        'end_date', 'target', 'arrests', 'accomodation', 'beatings', 'protest_duration', 'pop_male', 'pop_female',\n",
    "#        'crowddispersal', 'ignore', 'killings', 'shootings', 'violent_response','partipants_number'])\n",
    "\n",
    "# for target in targets: \n",
    "\n",
    "#     X = features\n",
    "#     y = mass_no_country[target]\n",
    "\n",
    "#     logreg = LogisticRegression(multi_class='ovr')\n",
    "\n",
    "#     X_train, X_test, y_train, y_test = train_test_split(X, y, test_size=0.2, random_state=48)\n",
    "\n",
    "#     ss = StandardScaler()\n",
    "#     X_train_sc = ss.fit_transform(X_train)\n",
    "#     X_test_sc = ss.transform(X_test)\n",
    "    \n",
    "#     params = {\n",
    "#     'penalty' : ['l1','l2'], \n",
    "#     'C' : [.01],\n",
    "#     'solver' : ['liblinear', 'saga'],\n",
    "#     'max_iter' : [100, 1000],\n",
    "#     #'class_weight' : [{1:0, 8:1}, {1:0, 1:8}]\n",
    "#     }\n",
    "\n",
    "#     grid = GridSearchCV(\n",
    "#         logreg, param_grid=params, cv=10, verbose=2, \n",
    "#         scoring = {'AUC': 'roc_auc', 'Accuracy': make_scorer(accuracy_score)},\n",
    "#         refit='AUC', \n",
    "#         return_train_score=True\n",
    "#     )\n",
    "        \n",
    "#     # fit grids\n",
    "#     grid.fit(X_train_sc, y_train)    \n",
    "    \n",
    "#     results['target'].append(targets)\n",
    "\n",
    "#     # append important grid results\n",
    "#     results['best_params'].append(grid.best_params_)\n",
    "#     results['best_cv_scores'].append(grid.best_score_)\n",
    "\n",
    "#     # make predictions \n",
    "#     train_preds = grid.predict(X_train_sc)\n",
    "#     test_preds = grid.predict(X_test_sc)\n",
    "\n",
    "#     # various classification metrics\n",
    "#     # AUC scores \n",
    "#     results['AUC_train_score'].append(roc_auc_score(y_train, train_preds))\n",
    "#     results['AUC_test_score'].append(roc_auc_score(y_test, test_preds))\n",
    "\n",
    "#     # f1 scores\n",
    "#     results['train_f1_scores'].append(f1_score(y_train, train_preds))\n",
    "#     results['test_f1_scores'].append(f1_score(y_test, test_preds))\n",
    "\n",
    "#     # precision scores \n",
    "#     results['train_precision_scores'].append(precision_score(y_train, train_preds))\n",
    "#     results['test_precision_scores'].append(precision_score(y_test, test_preds))\n",
    "\n",
    "#     # recall scores\n",
    "#     results['train_recall_scores'].append(recall_score(y_train, train_preds))\n",
    "#     results['test_recall_scores'].append(recall_score(y_test, test_preds))"
   ]
  },
  {
   "cell_type": "code",
   "execution_count": 15,
   "metadata": {
    "scrolled": true
   },
   "outputs": [
    {
     "data": {
      "text/html": [
       "<div>\n",
       "<style scoped>\n",
       "    .dataframe tbody tr th:only-of-type {\n",
       "        vertical-align: middle;\n",
       "    }\n",
       "\n",
       "    .dataframe tbody tr th {\n",
       "        vertical-align: top;\n",
       "    }\n",
       "\n",
       "    .dataframe thead th {\n",
       "        text-align: right;\n",
       "    }\n",
       "</style>\n",
       "<table border=\"1\" class=\"dataframe\">\n",
       "  <thead>\n",
       "    <tr style=\"text-align: right;\">\n",
       "      <th></th>\n",
       "      <th>target</th>\n",
       "      <th>best_cv_scores</th>\n",
       "      <th>best_params</th>\n",
       "      <th>AUC_train_score</th>\n",
       "      <th>AUC_test_score</th>\n",
       "      <th>train_f1_scores</th>\n",
       "      <th>test_f1_scores</th>\n",
       "      <th>train_precision_scores</th>\n",
       "      <th>test_precision_scores</th>\n",
       "      <th>train_recall_scores</th>\n",
       "      <th>test_recall_scores</th>\n",
       "    </tr>\n",
       "  </thead>\n",
       "  <tbody>\n",
       "    <tr>\n",
       "      <th>0</th>\n",
       "      <td>[ignore]</td>\n",
       "      <td>0.787453</td>\n",
       "      <td>{'C': 0.01, 'max_iter': 1000, 'penalty': 'l2',...</td>\n",
       "      <td>0.720819</td>\n",
       "      <td>0.719727</td>\n",
       "      <td>0.786029</td>\n",
       "      <td>0.790331</td>\n",
       "      <td>0.70082</td>\n",
       "      <td>0.700839</td>\n",
       "      <td>0.894825</td>\n",
       "      <td>0.906024</td>\n",
       "    </tr>\n",
       "  </tbody>\n",
       "</table>\n",
       "</div>"
      ],
      "text/plain": [
       "     target  best_cv_scores  \\\n",
       "0  [ignore]        0.787453   \n",
       "\n",
       "                                         best_params  AUC_train_score  \\\n",
       "0  {'C': 0.01, 'max_iter': 1000, 'penalty': 'l2',...         0.720819   \n",
       "\n",
       "   AUC_test_score  train_f1_scores  test_f1_scores  train_precision_scores  \\\n",
       "0        0.719727         0.786029        0.790331                 0.70082   \n",
       "\n",
       "   test_precision_scores  train_recall_scores  test_recall_scores  \n",
       "0               0.700839             0.894825            0.906024  "
      ]
     },
     "execution_count": 15,
     "metadata": {},
     "output_type": "execute_result"
    }
   ],
   "source": [
    "# results_df = pd.DataFrame(results)\n",
    "# results_df"
   ]
  },
  {
   "cell_type": "markdown",
   "metadata": {},
   "source": [
    "## Logistic Regression for when the government does respond "
   ]
  },
  {
   "cell_type": "markdown",
   "metadata": {},
   "source": [
    "Now that we have a model that predicts when the government does respond, we want to predict when the government does not ignore protests. "
   ]
  },
  {
   "cell_type": "code",
   "execution_count": 22,
   "metadata": {
    "scrolled": true
   },
   "outputs": [
    {
     "data": {
      "text/html": [
       "<div>\n",
       "<style scoped>\n",
       "    .dataframe tbody tr th:only-of-type {\n",
       "        vertical-align: middle;\n",
       "    }\n",
       "\n",
       "    .dataframe tbody tr th {\n",
       "        vertical-align: top;\n",
       "    }\n",
       "\n",
       "    .dataframe thead th {\n",
       "        text-align: right;\n",
       "    }\n",
       "</style>\n",
       "<table border=\"1\" class=\"dataframe\">\n",
       "  <thead>\n",
       "    <tr style=\"text-align: right;\">\n",
       "      <th></th>\n",
       "      <th>id</th>\n",
       "      <th>country</th>\n",
       "      <th>ccode</th>\n",
       "      <th>region</th>\n",
       "      <th>protestnumber</th>\n",
       "      <th>protesterviolence</th>\n",
       "      <th>location</th>\n",
       "      <th>protesteridentity</th>\n",
       "      <th>sources</th>\n",
       "      <th>notes</th>\n",
       "      <th>...</th>\n",
       "      <th>start_date</th>\n",
       "      <th>end_date</th>\n",
       "      <th>target</th>\n",
       "      <th>notes_clean</th>\n",
       "      <th>neg</th>\n",
       "      <th>neu</th>\n",
       "      <th>pos</th>\n",
       "      <th>compound</th>\n",
       "      <th>protest_duration</th>\n",
       "      <th>violent_response</th>\n",
       "    </tr>\n",
       "  </thead>\n",
       "  <tbody>\n",
       "    <tr>\n",
       "      <th>3</th>\n",
       "      <td>201990004</td>\n",
       "      <td>Canada</td>\n",
       "      <td>20</td>\n",
       "      <td>North America</td>\n",
       "      <td>4</td>\n",
       "      <td>1.0</td>\n",
       "      <td>Montreal, Quebec</td>\n",
       "      <td>mohawk indians</td>\n",
       "      <td>1. indians gather as siege intensifies; armed ...</td>\n",
       "      <td>canada s federal government has agreed to acqu...</td>\n",
       "      <td>...</td>\n",
       "      <td>1990-07-12</td>\n",
       "      <td>1990-09-06</td>\n",
       "      <td>[0, 1, 0, 0, 0, 0, 0]</td>\n",
       "      <td>canada s federal government has agreed to acqu...</td>\n",
       "      <td>0.134</td>\n",
       "      <td>0.820</td>\n",
       "      <td>0.046</td>\n",
       "      <td>-0.9711</td>\n",
       "      <td>57</td>\n",
       "      <td>0</td>\n",
       "    </tr>\n",
       "    <tr>\n",
       "      <th>4</th>\n",
       "      <td>201990005</td>\n",
       "      <td>Canada</td>\n",
       "      <td>20</td>\n",
       "      <td>North America</td>\n",
       "      <td>5</td>\n",
       "      <td>1.0</td>\n",
       "      <td>Montreal, Quebec</td>\n",
       "      <td>local residents</td>\n",
       "      <td>1. dozens hurt in mohawk blockade protest the ...</td>\n",
       "      <td>protests were directed against the state due t...</td>\n",
       "      <td>...</td>\n",
       "      <td>1990-08-14</td>\n",
       "      <td>1990-08-15</td>\n",
       "      <td>[1, 1, 0, 1, 0, 0, 0]</td>\n",
       "      <td>protests were directed against the state due t...</td>\n",
       "      <td>0.226</td>\n",
       "      <td>0.677</td>\n",
       "      <td>0.098</td>\n",
       "      <td>-0.5267</td>\n",
       "      <td>2</td>\n",
       "      <td>0</td>\n",
       "    </tr>\n",
       "  </tbody>\n",
       "</table>\n",
       "<p>2 rows × 70 columns</p>\n",
       "</div>"
      ],
      "text/plain": [
       "          id country  ccode         region  protestnumber  protesterviolence  \\\n",
       "3  201990004  Canada     20  North America              4                1.0   \n",
       "4  201990005  Canada     20  North America              5                1.0   \n",
       "\n",
       "           location protesteridentity  \\\n",
       "3  Montreal, Quebec    mohawk indians   \n",
       "4  Montreal, Quebec   local residents   \n",
       "\n",
       "                                             sources  \\\n",
       "3  1. indians gather as siege intensifies; armed ...   \n",
       "4  1. dozens hurt in mohawk blockade protest the ...   \n",
       "\n",
       "                                               notes  ...  start_date  \\\n",
       "3  canada s federal government has agreed to acqu...  ...  1990-07-12   \n",
       "4  protests were directed against the state due t...  ...  1990-08-14   \n",
       "\n",
       "     end_date                 target  \\\n",
       "3  1990-09-06  [0, 1, 0, 0, 0, 0, 0]   \n",
       "4  1990-08-15  [1, 1, 0, 1, 0, 0, 0]   \n",
       "\n",
       "                                         notes_clean    neg    neu    pos  \\\n",
       "3  canada s federal government has agreed to acqu...  0.134  0.820  0.046   \n",
       "4  protests were directed against the state due t...  0.226  0.677  0.098   \n",
       "\n",
       "   compound  protest_duration  violent_response  \n",
       "3   -0.9711                57                 0  \n",
       "4   -0.5267                 2                 0  \n",
       "\n",
       "[2 rows x 70 columns]"
      ]
     },
     "execution_count": 22,
     "metadata": {},
     "output_type": "execute_result"
    }
   ],
   "source": [
    "# create df without ignore \n",
    "gov_response = mass_no_country[mass_no_country['ignore'] == 0]\n",
    "gov_response.head(2)"
   ]
  },
  {
   "cell_type": "code",
   "execution_count": 23,
   "metadata": {},
   "outputs": [
    {
     "data": {
      "text/html": [
       "<div>\n",
       "<style scoped>\n",
       "    .dataframe tbody tr th:only-of-type {\n",
       "        vertical-align: middle;\n",
       "    }\n",
       "\n",
       "    .dataframe tbody tr th {\n",
       "        vertical-align: top;\n",
       "    }\n",
       "\n",
       "    .dataframe thead th {\n",
       "        text-align: right;\n",
       "    }\n",
       "</style>\n",
       "<table border=\"1\" class=\"dataframe\">\n",
       "  <thead>\n",
       "    <tr style=\"text-align: right;\">\n",
       "      <th></th>\n",
       "      <th>arrests</th>\n",
       "      <th>accomodation</th>\n",
       "      <th>crowddispersal</th>\n",
       "      <th>killings</th>\n",
       "      <th>shootings</th>\n",
       "      <th>beatings</th>\n",
       "    </tr>\n",
       "  </thead>\n",
       "  <tbody>\n",
       "    <tr>\n",
       "      <th>0</th>\n",
       "      <td>0.301154</td>\n",
       "      <td>0.192208</td>\n",
       "      <td>0.67013</td>\n",
       "      <td>0.116162</td>\n",
       "      <td>0.131313</td>\n",
       "      <td>0.111977</td>\n",
       "    </tr>\n",
       "  </tbody>\n",
       "</table>\n",
       "</div>"
      ],
      "text/plain": [
       "    arrests  accomodation  crowddispersal  killings  shootings  beatings\n",
       "0  0.301154      0.192208         0.67013  0.116162   0.131313  0.111977"
      ]
     },
     "execution_count": 23,
     "metadata": {},
     "output_type": "execute_result"
    }
   ],
   "source": [
    "# look at imbalances of gov_responses df \n",
    "gov_response_frequencies = {\n",
    "    'arrests':[gov_response['arrests'].value_counts(normalize=True)[1]],\n",
    "    'accomodation' : [gov_response['accomodation'].value_counts(normalize=True)[1]],\n",
    "    'crowddispersal' : [gov_response['crowddispersal'].value_counts(normalize=True)[1]], \n",
    "    'killings' : [gov_response['killings'].value_counts(normalize=True)[1]], \n",
    "    'shootings' : [gov_response['shootings'].value_counts(normalize=True)[1]], \n",
    "    'beatings' : [gov_response['beatings'].value_counts(normalize=True)[1]]\n",
    "}\n",
    "\n",
    "pd.DataFrame(gov_response_frequencies)"
   ]
  },
  {
   "cell_type": "code",
   "execution_count": 29,
   "metadata": {
    "scrolled": true
   },
   "outputs": [
    {
     "name": "stdout",
     "output_type": "stream",
     "text": [
      "Fitting 10 folds for each of 64 candidates, totalling 640 fits\n",
      "[CV] END C=0.001, class_weight={1: 3.3}, max_iter=100, penalty=l1, solver=liblinear; total time=   0.0s\n",
      "[CV] END C=0.001, class_weight={1: 3.3}, max_iter=100, penalty=l1, solver=liblinear; total time=   0.0s\n",
      "[CV] END C=0.001, class_weight={1: 3.3}, max_iter=100, penalty=l1, solver=liblinear; total time=   0.0s\n",
      "[CV] END C=0.001, class_weight={1: 3.3}, max_iter=100, penalty=l1, solver=liblinear; total time=   0.0s\n",
      "[CV] END C=0.001, class_weight={1: 3.3}, max_iter=100, penalty=l1, solver=liblinear; total time=   0.0s\n",
      "[CV] END C=0.001, class_weight={1: 3.3}, max_iter=100, penalty=l1, solver=liblinear; total time=   0.0s\n",
      "[CV] END C=0.001, class_weight={1: 3.3}, max_iter=100, penalty=l1, solver=liblinear; total time=   0.0s\n",
      "[CV] END C=0.001, class_weight={1: 3.3}, max_iter=100, penalty=l1, solver=liblinear; total time=   0.0s\n",
      "[CV] END C=0.001, class_weight={1: 3.3}, max_iter=100, penalty=l1, solver=liblinear; total time=   0.0s\n",
      "[CV] END C=0.001, class_weight={1: 3.3}, max_iter=100, penalty=l1, solver=liblinear; total time=   0.0s\n",
      "[CV] END C=0.001, class_weight={1: 3.3}, max_iter=100, penalty=l1, solver=saga; total time=   0.0s\n",
      "[CV] END C=0.001, class_weight={1: 3.3}, max_iter=100, penalty=l1, solver=saga; total time=   0.0s\n",
      "[CV] END C=0.001, class_weight={1: 3.3}, max_iter=100, penalty=l1, solver=saga; total time=   0.0s\n",
      "[CV] END C=0.001, class_weight={1: 3.3}, max_iter=100, penalty=l1, solver=saga; total time=   0.0s\n",
      "[CV] END C=0.001, class_weight={1: 3.3}, max_iter=100, penalty=l1, solver=saga; total time=   0.0s\n",
      "[CV] END C=0.001, class_weight={1: 3.3}, max_iter=100, penalty=l1, solver=saga; total time=   0.0s\n",
      "[CV] END C=0.001, class_weight={1: 3.3}, max_iter=100, penalty=l1, solver=saga; total time=   0.0s\n",
      "[CV] END C=0.001, class_weight={1: 3.3}, max_iter=100, penalty=l1, solver=saga; total time=   0.0s\n",
      "[CV] END C=0.001, class_weight={1: 3.3}, max_iter=100, penalty=l1, solver=saga; total time=   0.0s\n",
      "[CV] END C=0.001, class_weight={1: 3.3}, max_iter=100, penalty=l1, solver=saga; total time=   0.0s\n",
      "[CV] END C=0.001, class_weight={1: 3.3}, max_iter=100, penalty=l2, solver=liblinear; total time=   0.0s\n",
      "[CV] END C=0.001, class_weight={1: 3.3}, max_iter=100, penalty=l2, solver=liblinear; total time=   0.0s\n",
      "[CV] END C=0.001, class_weight={1: 3.3}, max_iter=100, penalty=l2, solver=liblinear; total time=   0.0s\n",
      "[CV] END C=0.001, class_weight={1: 3.3}, max_iter=100, penalty=l2, solver=liblinear; total time=   0.0s\n",
      "[CV] END C=0.001, class_weight={1: 3.3}, max_iter=100, penalty=l2, solver=liblinear; total time=   0.0s\n",
      "[CV] END C=0.001, class_weight={1: 3.3}, max_iter=100, penalty=l2, solver=liblinear; total time=   0.0s\n",
      "[CV] END C=0.001, class_weight={1: 3.3}, max_iter=100, penalty=l2, solver=liblinear; total time=   0.0s\n",
      "[CV] END C=0.001, class_weight={1: 3.3}, max_iter=100, penalty=l2, solver=liblinear; total time=   0.0s\n",
      "[CV] END C=0.001, class_weight={1: 3.3}, max_iter=100, penalty=l2, solver=liblinear; total time=   0.0s\n",
      "[CV] END C=0.001, class_weight={1: 3.3}, max_iter=100, penalty=l2, solver=liblinear; total time=   0.0s\n",
      "[CV] END C=0.001, class_weight={1: 3.3}, max_iter=100, penalty=l2, solver=saga; total time=   0.0s\n",
      "[CV] END C=0.001, class_weight={1: 3.3}, max_iter=100, penalty=l2, solver=saga; total time=   0.0s\n",
      "[CV] END C=0.001, class_weight={1: 3.3}, max_iter=100, penalty=l2, solver=saga; total time=   0.0s\n",
      "[CV] END C=0.001, class_weight={1: 3.3}, max_iter=100, penalty=l2, solver=saga; total time=   0.0s\n",
      "[CV] END C=0.001, class_weight={1: 3.3}, max_iter=100, penalty=l2, solver=saga; total time=   0.0s\n",
      "[CV] END C=0.001, class_weight={1: 3.3}, max_iter=100, penalty=l2, solver=saga; total time=   0.0s\n",
      "[CV] END C=0.001, class_weight={1: 3.3}, max_iter=100, penalty=l2, solver=saga; total time=   0.0s\n",
      "[CV] END C=0.001, class_weight={1: 3.3}, max_iter=100, penalty=l2, solver=saga; total time=   0.0s\n",
      "[CV] END C=0.001, class_weight={1: 3.3}, max_iter=100, penalty=l2, solver=saga; total time=   0.0s\n",
      "[CV] END C=0.001, class_weight={1: 3.3}, max_iter=100, penalty=l2, solver=saga; total time=   0.0s\n",
      "[CV] END C=0.001, class_weight={1: 3.3}, max_iter=1000, penalty=l1, solver=liblinear; total time=   0.0s\n",
      "[CV] END C=0.001, class_weight={1: 3.3}, max_iter=1000, penalty=l1, solver=liblinear; total time=   0.0s\n",
      "[CV] END C=0.001, class_weight={1: 3.3}, max_iter=1000, penalty=l1, solver=liblinear; total time=   0.0s\n",
      "[CV] END C=0.001, class_weight={1: 3.3}, max_iter=1000, penalty=l1, solver=liblinear; total time=   0.0s\n",
      "[CV] END C=0.001, class_weight={1: 3.3}, max_iter=1000, penalty=l1, solver=liblinear; total time=   0.0s\n",
      "[CV] END C=0.001, class_weight={1: 3.3}, max_iter=1000, penalty=l1, solver=liblinear; total time=   0.0s\n",
      "[CV] END C=0.001, class_weight={1: 3.3}, max_iter=1000, penalty=l1, solver=liblinear; total time=   0.0s\n",
      "[CV] END C=0.001, class_weight={1: 3.3}, max_iter=1000, penalty=l1, solver=liblinear; total time=   0.0s\n",
      "[CV] END C=0.001, class_weight={1: 3.3}, max_iter=1000, penalty=l1, solver=liblinear; total time=   0.0s\n",
      "[CV] END C=0.001, class_weight={1: 3.3}, max_iter=1000, penalty=l1, solver=liblinear; total time=   0.0s\n",
      "[CV] END C=0.001, class_weight={1: 3.3}, max_iter=1000, penalty=l1, solver=saga; total time=   0.0s\n",
      "[CV] END C=0.001, class_weight={1: 3.3}, max_iter=1000, penalty=l1, solver=saga; total time=   0.0s\n",
      "[CV] END C=0.001, class_weight={1: 3.3}, max_iter=1000, penalty=l1, solver=saga; total time=   0.0s\n",
      "[CV] END C=0.001, class_weight={1: 3.3}, max_iter=1000, penalty=l1, solver=saga; total time=   0.0s\n",
      "[CV] END C=0.001, class_weight={1: 3.3}, max_iter=1000, penalty=l1, solver=saga; total time=   0.0s\n",
      "[CV] END C=0.001, class_weight={1: 3.3}, max_iter=1000, penalty=l1, solver=saga; total time=   0.0s\n",
      "[CV] END C=0.001, class_weight={1: 3.3}, max_iter=1000, penalty=l1, solver=saga; total time=   0.0s\n",
      "[CV] END C=0.001, class_weight={1: 3.3}, max_iter=1000, penalty=l1, solver=saga; total time=   0.0s\n",
      "[CV] END C=0.001, class_weight={1: 3.3}, max_iter=1000, penalty=l1, solver=saga; total time=   0.0s\n",
      "[CV] END C=0.001, class_weight={1: 3.3}, max_iter=1000, penalty=l1, solver=saga; total time=   0.0s\n",
      "[CV] END C=0.001, class_weight={1: 3.3}, max_iter=1000, penalty=l2, solver=liblinear; total time=   0.0s\n",
      "[CV] END C=0.001, class_weight={1: 3.3}, max_iter=1000, penalty=l2, solver=liblinear; total time=   0.0s\n",
      "[CV] END C=0.001, class_weight={1: 3.3}, max_iter=1000, penalty=l2, solver=liblinear; total time=   0.0s\n",
      "[CV] END C=0.001, class_weight={1: 3.3}, max_iter=1000, penalty=l2, solver=liblinear; total time=   0.0s\n",
      "[CV] END C=0.001, class_weight={1: 3.3}, max_iter=1000, penalty=l2, solver=liblinear; total time=   0.0s\n",
      "[CV] END C=0.001, class_weight={1: 3.3}, max_iter=1000, penalty=l2, solver=liblinear; total time=   0.0s\n",
      "[CV] END C=0.001, class_weight={1: 3.3}, max_iter=1000, penalty=l2, solver=liblinear; total time=   0.0s\n",
      "[CV] END C=0.001, class_weight={1: 3.3}, max_iter=1000, penalty=l2, solver=liblinear; total time=   0.0s\n",
      "[CV] END C=0.001, class_weight={1: 3.3}, max_iter=1000, penalty=l2, solver=liblinear; total time=   0.0s\n",
      "[CV] END C=0.001, class_weight={1: 3.3}, max_iter=1000, penalty=l2, solver=liblinear; total time=   0.0s\n",
      "[CV] END C=0.001, class_weight={1: 3.3}, max_iter=1000, penalty=l2, solver=saga; total time=   0.0s\n",
      "[CV] END C=0.001, class_weight={1: 3.3}, max_iter=1000, penalty=l2, solver=saga; total time=   0.0s\n",
      "[CV] END C=0.001, class_weight={1: 3.3}, max_iter=1000, penalty=l2, solver=saga; total time=   0.0s\n",
      "[CV] END C=0.001, class_weight={1: 3.3}, max_iter=1000, penalty=l2, solver=saga; total time=   0.0s\n",
      "[CV] END C=0.001, class_weight={1: 3.3}, max_iter=1000, penalty=l2, solver=saga; total time=   0.0s\n",
      "[CV] END C=0.001, class_weight={1: 3.3}, max_iter=1000, penalty=l2, solver=saga; total time=   0.0s\n",
      "[CV] END C=0.001, class_weight={1: 3.3}, max_iter=1000, penalty=l2, solver=saga; total time=   0.0s\n",
      "[CV] END C=0.001, class_weight={1: 3.3}, max_iter=1000, penalty=l2, solver=saga; total time=   0.0s\n",
      "[CV] END C=0.001, class_weight={1: 3.3}, max_iter=1000, penalty=l2, solver=saga; total time=   0.0s\n",
      "[CV] END C=0.001, class_weight={1: 3.3}, max_iter=1000, penalty=l2, solver=saga; total time=   0.0s\n",
      "[CV] END C=0.001, class_weight={1: 5}, max_iter=100, penalty=l1, solver=liblinear; total time=   0.0s\n",
      "[CV] END C=0.001, class_weight={1: 5}, max_iter=100, penalty=l1, solver=liblinear; total time=   0.0s\n",
      "[CV] END C=0.001, class_weight={1: 5}, max_iter=100, penalty=l1, solver=liblinear; total time=   0.0s\n",
      "[CV] END C=0.001, class_weight={1: 5}, max_iter=100, penalty=l1, solver=liblinear; total time=   0.0s\n",
      "[CV] END C=0.001, class_weight={1: 5}, max_iter=100, penalty=l1, solver=liblinear; total time=   0.0s\n",
      "[CV] END C=0.001, class_weight={1: 5}, max_iter=100, penalty=l1, solver=liblinear; total time=   0.0s\n",
      "[CV] END C=0.001, class_weight={1: 5}, max_iter=100, penalty=l1, solver=liblinear; total time=   0.0s\n",
      "[CV] END C=0.001, class_weight={1: 5}, max_iter=100, penalty=l1, solver=liblinear; total time=   0.0s\n",
      "[CV] END C=0.001, class_weight={1: 5}, max_iter=100, penalty=l1, solver=liblinear; total time=   0.0s\n",
      "[CV] END C=0.001, class_weight={1: 5}, max_iter=100, penalty=l1, solver=liblinear; total time=   0.0s\n",
      "[CV] END C=0.001, class_weight={1: 5}, max_iter=100, penalty=l1, solver=saga; total time=   0.0s\n",
      "[CV] END C=0.001, class_weight={1: 5}, max_iter=100, penalty=l1, solver=saga; total time=   0.0s\n",
      "[CV] END C=0.001, class_weight={1: 5}, max_iter=100, penalty=l1, solver=saga; total time=   0.0s\n",
      "[CV] END C=0.001, class_weight={1: 5}, max_iter=100, penalty=l1, solver=saga; total time=   0.0s\n",
      "[CV] END C=0.001, class_weight={1: 5}, max_iter=100, penalty=l1, solver=saga; total time=   0.0s\n",
      "[CV] END C=0.001, class_weight={1: 5}, max_iter=100, penalty=l1, solver=saga; total time=   0.0s\n",
      "[CV] END C=0.001, class_weight={1: 5}, max_iter=100, penalty=l1, solver=saga; total time=   0.0s\n",
      "[CV] END C=0.001, class_weight={1: 5}, max_iter=100, penalty=l1, solver=saga; total time=   0.0s\n",
      "[CV] END C=0.001, class_weight={1: 5}, max_iter=100, penalty=l1, solver=saga; total time=   0.0s\n",
      "[CV] END C=0.001, class_weight={1: 5}, max_iter=100, penalty=l1, solver=saga; total time=   0.0s\n",
      "[CV] END C=0.001, class_weight={1: 5}, max_iter=100, penalty=l2, solver=liblinear; total time=   0.0s\n",
      "[CV] END C=0.001, class_weight={1: 5}, max_iter=100, penalty=l2, solver=liblinear; total time=   0.0s\n",
      "[CV] END C=0.001, class_weight={1: 5}, max_iter=100, penalty=l2, solver=liblinear; total time=   0.0s\n",
      "[CV] END C=0.001, class_weight={1: 5}, max_iter=100, penalty=l2, solver=liblinear; total time=   0.0s\n",
      "[CV] END C=0.001, class_weight={1: 5}, max_iter=100, penalty=l2, solver=liblinear; total time=   0.0s\n",
      "[CV] END C=0.001, class_weight={1: 5}, max_iter=100, penalty=l2, solver=liblinear; total time=   0.0s\n",
      "[CV] END C=0.001, class_weight={1: 5}, max_iter=100, penalty=l2, solver=liblinear; total time=   0.0s\n",
      "[CV] END C=0.001, class_weight={1: 5}, max_iter=100, penalty=l2, solver=liblinear; total time=   0.0s\n",
      "[CV] END C=0.001, class_weight={1: 5}, max_iter=100, penalty=l2, solver=liblinear; total time=   0.0s\n",
      "[CV] END C=0.001, class_weight={1: 5}, max_iter=100, penalty=l2, solver=liblinear; total time=   0.0s\n",
      "[CV] END C=0.001, class_weight={1: 5}, max_iter=100, penalty=l2, solver=saga; total time=   0.0s\n",
      "[CV] END C=0.001, class_weight={1: 5}, max_iter=100, penalty=l2, solver=saga; total time=   0.0s\n",
      "[CV] END C=0.001, class_weight={1: 5}, max_iter=100, penalty=l2, solver=saga; total time=   0.0s\n",
      "[CV] END C=0.001, class_weight={1: 5}, max_iter=100, penalty=l2, solver=saga; total time=   0.0s\n",
      "[CV] END C=0.001, class_weight={1: 5}, max_iter=100, penalty=l2, solver=saga; total time=   0.0s\n",
      "[CV] END C=0.001, class_weight={1: 5}, max_iter=100, penalty=l2, solver=saga; total time=   0.0s\n",
      "[CV] END C=0.001, class_weight={1: 5}, max_iter=100, penalty=l2, solver=saga; total time=   0.0s\n",
      "[CV] END C=0.001, class_weight={1: 5}, max_iter=100, penalty=l2, solver=saga; total time=   0.0s\n",
      "[CV] END C=0.001, class_weight={1: 5}, max_iter=100, penalty=l2, solver=saga; total time=   0.0s\n",
      "[CV] END C=0.001, class_weight={1: 5}, max_iter=100, penalty=l2, solver=saga; total time=   0.0s\n",
      "[CV] END C=0.001, class_weight={1: 5}, max_iter=1000, penalty=l1, solver=liblinear; total time=   0.0s\n",
      "[CV] END C=0.001, class_weight={1: 5}, max_iter=1000, penalty=l1, solver=liblinear; total time=   0.0s\n",
      "[CV] END C=0.001, class_weight={1: 5}, max_iter=1000, penalty=l1, solver=liblinear; total time=   0.0s\n",
      "[CV] END C=0.001, class_weight={1: 5}, max_iter=1000, penalty=l1, solver=liblinear; total time=   0.0s\n",
      "[CV] END C=0.001, class_weight={1: 5}, max_iter=1000, penalty=l1, solver=liblinear; total time=   0.0s\n",
      "[CV] END C=0.001, class_weight={1: 5}, max_iter=1000, penalty=l1, solver=liblinear; total time=   0.0s\n",
      "[CV] END C=0.001, class_weight={1: 5}, max_iter=1000, penalty=l1, solver=liblinear; total time=   0.0s\n",
      "[CV] END C=0.001, class_weight={1: 5}, max_iter=1000, penalty=l1, solver=liblinear; total time=   0.0s\n",
      "[CV] END C=0.001, class_weight={1: 5}, max_iter=1000, penalty=l1, solver=liblinear; total time=   0.0s\n",
      "[CV] END C=0.001, class_weight={1: 5}, max_iter=1000, penalty=l1, solver=liblinear; total time=   0.0s\n",
      "[CV] END C=0.001, class_weight={1: 5}, max_iter=1000, penalty=l1, solver=saga; total time=   0.0s\n",
      "[CV] END C=0.001, class_weight={1: 5}, max_iter=1000, penalty=l1, solver=saga; total time=   0.0s\n",
      "[CV] END C=0.001, class_weight={1: 5}, max_iter=1000, penalty=l1, solver=saga; total time=   0.0s\n",
      "[CV] END C=0.001, class_weight={1: 5}, max_iter=1000, penalty=l1, solver=saga; total time=   0.0s\n",
      "[CV] END C=0.001, class_weight={1: 5}, max_iter=1000, penalty=l1, solver=saga; total time=   0.0s\n",
      "[CV] END C=0.001, class_weight={1: 5}, max_iter=1000, penalty=l1, solver=saga; total time=   0.0s\n",
      "[CV] END C=0.001, class_weight={1: 5}, max_iter=1000, penalty=l1, solver=saga; total time=   0.0s\n",
      "[CV] END C=0.001, class_weight={1: 5}, max_iter=1000, penalty=l1, solver=saga; total time=   0.0s\n",
      "[CV] END C=0.001, class_weight={1: 5}, max_iter=1000, penalty=l1, solver=saga; total time=   0.0s\n",
      "[CV] END C=0.001, class_weight={1: 5}, max_iter=1000, penalty=l1, solver=saga; total time=   0.0s\n",
      "[CV] END C=0.001, class_weight={1: 5}, max_iter=1000, penalty=l2, solver=liblinear; total time=   0.0s\n",
      "[CV] END C=0.001, class_weight={1: 5}, max_iter=1000, penalty=l2, solver=liblinear; total time=   0.0s\n",
      "[CV] END C=0.001, class_weight={1: 5}, max_iter=1000, penalty=l2, solver=liblinear; total time=   0.0s\n",
      "[CV] END C=0.001, class_weight={1: 5}, max_iter=1000, penalty=l2, solver=liblinear; total time=   0.0s\n",
      "[CV] END C=0.001, class_weight={1: 5}, max_iter=1000, penalty=l2, solver=liblinear; total time=   0.0s\n",
      "[CV] END C=0.001, class_weight={1: 5}, max_iter=1000, penalty=l2, solver=liblinear; total time=   0.0s\n",
      "[CV] END C=0.001, class_weight={1: 5}, max_iter=1000, penalty=l2, solver=liblinear; total time=   0.0s\n",
      "[CV] END C=0.001, class_weight={1: 5}, max_iter=1000, penalty=l2, solver=liblinear; total time=   0.0s\n",
      "[CV] END C=0.001, class_weight={1: 5}, max_iter=1000, penalty=l2, solver=liblinear; total time=   0.0s\n",
      "[CV] END C=0.001, class_weight={1: 5}, max_iter=1000, penalty=l2, solver=liblinear; total time=   0.0s\n",
      "[CV] END C=0.001, class_weight={1: 5}, max_iter=1000, penalty=l2, solver=saga; total time=   0.0s\n",
      "[CV] END C=0.001, class_weight={1: 5}, max_iter=1000, penalty=l2, solver=saga; total time=   0.0s\n",
      "[CV] END C=0.001, class_weight={1: 5}, max_iter=1000, penalty=l2, solver=saga; total time=   0.0s\n",
      "[CV] END C=0.001, class_weight={1: 5}, max_iter=1000, penalty=l2, solver=saga; total time=   0.0s\n",
      "[CV] END C=0.001, class_weight={1: 5}, max_iter=1000, penalty=l2, solver=saga; total time=   0.0s\n",
      "[CV] END C=0.001, class_weight={1: 5}, max_iter=1000, penalty=l2, solver=saga; total time=   0.0s\n",
      "[CV] END C=0.001, class_weight={1: 5}, max_iter=1000, penalty=l2, solver=saga; total time=   0.0s\n",
      "[CV] END C=0.001, class_weight={1: 5}, max_iter=1000, penalty=l2, solver=saga; total time=   0.0s\n",
      "[CV] END C=0.001, class_weight={1: 5}, max_iter=1000, penalty=l2, solver=saga; total time=   0.0s\n",
      "[CV] END C=0.001, class_weight={1: 5}, max_iter=1000, penalty=l2, solver=saga; total time=   0.0s\n",
      "[CV] END C=0.001, class_weight={1: 1}, max_iter=100, penalty=l1, solver=liblinear; total time=   0.0s\n",
      "[CV] END C=0.001, class_weight={1: 1}, max_iter=100, penalty=l1, solver=liblinear; total time=   0.0s\n",
      "[CV] END C=0.001, class_weight={1: 1}, max_iter=100, penalty=l1, solver=liblinear; total time=   0.0s\n",
      "[CV] END C=0.001, class_weight={1: 1}, max_iter=100, penalty=l1, solver=liblinear; total time=   0.0s\n",
      "[CV] END C=0.001, class_weight={1: 1}, max_iter=100, penalty=l1, solver=liblinear; total time=   0.0s\n",
      "[CV] END C=0.001, class_weight={1: 1}, max_iter=100, penalty=l1, solver=liblinear; total time=   0.0s\n",
      "[CV] END C=0.001, class_weight={1: 1}, max_iter=100, penalty=l1, solver=liblinear; total time=   0.0s\n",
      "[CV] END C=0.001, class_weight={1: 1}, max_iter=100, penalty=l1, solver=liblinear; total time=   0.0s\n",
      "[CV] END C=0.001, class_weight={1: 1}, max_iter=100, penalty=l1, solver=liblinear; total time=   0.0s\n",
      "[CV] END C=0.001, class_weight={1: 1}, max_iter=100, penalty=l1, solver=liblinear; total time=   0.0s\n",
      "[CV] END C=0.001, class_weight={1: 1}, max_iter=100, penalty=l1, solver=saga; total time=   0.0s\n",
      "[CV] END C=0.001, class_weight={1: 1}, max_iter=100, penalty=l1, solver=saga; total time=   0.0s\n",
      "[CV] END C=0.001, class_weight={1: 1}, max_iter=100, penalty=l1, solver=saga; total time=   0.0s\n",
      "[CV] END C=0.001, class_weight={1: 1}, max_iter=100, penalty=l1, solver=saga; total time=   0.0s\n",
      "[CV] END C=0.001, class_weight={1: 1}, max_iter=100, penalty=l1, solver=saga; total time=   0.0s\n",
      "[CV] END C=0.001, class_weight={1: 1}, max_iter=100, penalty=l1, solver=saga; total time=   0.0s\n",
      "[CV] END C=0.001, class_weight={1: 1}, max_iter=100, penalty=l1, solver=saga; total time=   0.0s\n",
      "[CV] END C=0.001, class_weight={1: 1}, max_iter=100, penalty=l1, solver=saga; total time=   0.0s\n",
      "[CV] END C=0.001, class_weight={1: 1}, max_iter=100, penalty=l1, solver=saga; total time=   0.0s\n",
      "[CV] END C=0.001, class_weight={1: 1}, max_iter=100, penalty=l1, solver=saga; total time=   0.0s\n",
      "[CV] END C=0.001, class_weight={1: 1}, max_iter=100, penalty=l2, solver=liblinear; total time=   0.0s\n",
      "[CV] END C=0.001, class_weight={1: 1}, max_iter=100, penalty=l2, solver=liblinear; total time=   0.0s\n",
      "[CV] END C=0.001, class_weight={1: 1}, max_iter=100, penalty=l2, solver=liblinear; total time=   0.0s\n",
      "[CV] END C=0.001, class_weight={1: 1}, max_iter=100, penalty=l2, solver=liblinear; total time=   0.0s\n",
      "[CV] END C=0.001, class_weight={1: 1}, max_iter=100, penalty=l2, solver=liblinear; total time=   0.0s\n",
      "[CV] END C=0.001, class_weight={1: 1}, max_iter=100, penalty=l2, solver=liblinear; total time=   0.0s\n",
      "[CV] END C=0.001, class_weight={1: 1}, max_iter=100, penalty=l2, solver=liblinear; total time=   0.0s\n",
      "[CV] END C=0.001, class_weight={1: 1}, max_iter=100, penalty=l2, solver=liblinear; total time=   0.0s\n",
      "[CV] END C=0.001, class_weight={1: 1}, max_iter=100, penalty=l2, solver=liblinear; total time=   0.0s\n",
      "[CV] END C=0.001, class_weight={1: 1}, max_iter=100, penalty=l2, solver=liblinear; total time=   0.0s\n",
      "[CV] END C=0.001, class_weight={1: 1}, max_iter=100, penalty=l2, solver=saga; total time=   0.0s\n",
      "[CV] END C=0.001, class_weight={1: 1}, max_iter=100, penalty=l2, solver=saga; total time=   0.0s\n",
      "[CV] END C=0.001, class_weight={1: 1}, max_iter=100, penalty=l2, solver=saga; total time=   0.0s\n",
      "[CV] END C=0.001, class_weight={1: 1}, max_iter=100, penalty=l2, solver=saga; total time=   0.0s\n",
      "[CV] END C=0.001, class_weight={1: 1}, max_iter=100, penalty=l2, solver=saga; total time=   0.0s\n",
      "[CV] END C=0.001, class_weight={1: 1}, max_iter=100, penalty=l2, solver=saga; total time=   0.0s\n",
      "[CV] END C=0.001, class_weight={1: 1}, max_iter=100, penalty=l2, solver=saga; total time=   0.0s\n",
      "[CV] END C=0.001, class_weight={1: 1}, max_iter=100, penalty=l2, solver=saga; total time=   0.0s\n",
      "[CV] END C=0.001, class_weight={1: 1}, max_iter=100, penalty=l2, solver=saga; total time=   0.0s\n",
      "[CV] END C=0.001, class_weight={1: 1}, max_iter=100, penalty=l2, solver=saga; total time=   0.0s\n",
      "[CV] END C=0.001, class_weight={1: 1}, max_iter=1000, penalty=l1, solver=liblinear; total time=   0.0s\n",
      "[CV] END C=0.001, class_weight={1: 1}, max_iter=1000, penalty=l1, solver=liblinear; total time=   0.0s\n",
      "[CV] END C=0.001, class_weight={1: 1}, max_iter=1000, penalty=l1, solver=liblinear; total time=   0.0s\n",
      "[CV] END C=0.001, class_weight={1: 1}, max_iter=1000, penalty=l1, solver=liblinear; total time=   0.0s\n",
      "[CV] END C=0.001, class_weight={1: 1}, max_iter=1000, penalty=l1, solver=liblinear; total time=   0.0s\n",
      "[CV] END C=0.001, class_weight={1: 1}, max_iter=1000, penalty=l1, solver=liblinear; total time=   0.0s\n",
      "[CV] END C=0.001, class_weight={1: 1}, max_iter=1000, penalty=l1, solver=liblinear; total time=   0.0s\n",
      "[CV] END C=0.001, class_weight={1: 1}, max_iter=1000, penalty=l1, solver=liblinear; total time=   0.0s\n",
      "[CV] END C=0.001, class_weight={1: 1}, max_iter=1000, penalty=l1, solver=liblinear; total time=   0.0s\n",
      "[CV] END C=0.001, class_weight={1: 1}, max_iter=1000, penalty=l1, solver=liblinear; total time=   0.0s\n",
      "[CV] END C=0.001, class_weight={1: 1}, max_iter=1000, penalty=l1, solver=saga; total time=   0.0s\n",
      "[CV] END C=0.001, class_weight={1: 1}, max_iter=1000, penalty=l1, solver=saga; total time=   0.0s\n",
      "[CV] END C=0.001, class_weight={1: 1}, max_iter=1000, penalty=l1, solver=saga; total time=   0.0s\n",
      "[CV] END C=0.001, class_weight={1: 1}, max_iter=1000, penalty=l1, solver=saga; total time=   0.0s\n",
      "[CV] END C=0.001, class_weight={1: 1}, max_iter=1000, penalty=l1, solver=saga; total time=   0.0s\n",
      "[CV] END C=0.001, class_weight={1: 1}, max_iter=1000, penalty=l1, solver=saga; total time=   0.0s\n",
      "[CV] END C=0.001, class_weight={1: 1}, max_iter=1000, penalty=l1, solver=saga; total time=   0.0s\n",
      "[CV] END C=0.001, class_weight={1: 1}, max_iter=1000, penalty=l1, solver=saga; total time=   0.0s\n",
      "[CV] END C=0.001, class_weight={1: 1}, max_iter=1000, penalty=l1, solver=saga; total time=   0.0s\n",
      "[CV] END C=0.001, class_weight={1: 1}, max_iter=1000, penalty=l1, solver=saga; total time=   0.0s\n",
      "[CV] END C=0.001, class_weight={1: 1}, max_iter=1000, penalty=l2, solver=liblinear; total time=   0.0s\n",
      "[CV] END C=0.001, class_weight={1: 1}, max_iter=1000, penalty=l2, solver=liblinear; total time=   0.0s\n",
      "[CV] END C=0.001, class_weight={1: 1}, max_iter=1000, penalty=l2, solver=liblinear; total time=   0.0s\n",
      "[CV] END C=0.001, class_weight={1: 1}, max_iter=1000, penalty=l2, solver=liblinear; total time=   0.0s\n",
      "[CV] END C=0.001, class_weight={1: 1}, max_iter=1000, penalty=l2, solver=liblinear; total time=   0.0s\n",
      "[CV] END C=0.001, class_weight={1: 1}, max_iter=1000, penalty=l2, solver=liblinear; total time=   0.0s\n",
      "[CV] END C=0.001, class_weight={1: 1}, max_iter=1000, penalty=l2, solver=liblinear; total time=   0.0s\n",
      "[CV] END C=0.001, class_weight={1: 1}, max_iter=1000, penalty=l2, solver=liblinear; total time=   0.0s\n",
      "[CV] END C=0.001, class_weight={1: 1}, max_iter=1000, penalty=l2, solver=liblinear; total time=   0.0s\n",
      "[CV] END C=0.001, class_weight={1: 1}, max_iter=1000, penalty=l2, solver=liblinear; total time=   0.0s\n",
      "[CV] END C=0.001, class_weight={1: 1}, max_iter=1000, penalty=l2, solver=saga; total time=   0.0s\n",
      "[CV] END C=0.001, class_weight={1: 1}, max_iter=1000, penalty=l2, solver=saga; total time=   0.0s\n",
      "[CV] END C=0.001, class_weight={1: 1}, max_iter=1000, penalty=l2, solver=saga; total time=   0.0s\n",
      "[CV] END C=0.001, class_weight={1: 1}, max_iter=1000, penalty=l2, solver=saga; total time=   0.0s\n",
      "[CV] END C=0.001, class_weight={1: 1}, max_iter=1000, penalty=l2, solver=saga; total time=   0.0s\n",
      "[CV] END C=0.001, class_weight={1: 1}, max_iter=1000, penalty=l2, solver=saga; total time=   0.0s\n",
      "[CV] END C=0.001, class_weight={1: 1}, max_iter=1000, penalty=l2, solver=saga; total time=   0.0s\n",
      "[CV] END C=0.001, class_weight={1: 1}, max_iter=1000, penalty=l2, solver=saga; total time=   0.0s\n",
      "[CV] END C=0.001, class_weight={1: 1}, max_iter=1000, penalty=l2, solver=saga; total time=   0.0s\n",
      "[CV] END C=0.001, class_weight={1: 1}, max_iter=1000, penalty=l2, solver=saga; total time=   0.0s\n",
      "[CV] END C=0.001, class_weight={1: 8.33}, max_iter=100, penalty=l1, solver=liblinear; total time=   0.0s\n",
      "[CV] END C=0.001, class_weight={1: 8.33}, max_iter=100, penalty=l1, solver=liblinear; total time=   0.0s\n",
      "[CV] END C=0.001, class_weight={1: 8.33}, max_iter=100, penalty=l1, solver=liblinear; total time=   0.0s\n",
      "[CV] END C=0.001, class_weight={1: 8.33}, max_iter=100, penalty=l1, solver=liblinear; total time=   0.0s\n",
      "[CV] END C=0.001, class_weight={1: 8.33}, max_iter=100, penalty=l1, solver=liblinear; total time=   0.0s\n",
      "[CV] END C=0.001, class_weight={1: 8.33}, max_iter=100, penalty=l1, solver=liblinear; total time=   0.0s\n",
      "[CV] END C=0.001, class_weight={1: 8.33}, max_iter=100, penalty=l1, solver=liblinear; total time=   0.0s\n",
      "[CV] END C=0.001, class_weight={1: 8.33}, max_iter=100, penalty=l1, solver=liblinear; total time=   0.0s\n",
      "[CV] END C=0.001, class_weight={1: 8.33}, max_iter=100, penalty=l1, solver=liblinear; total time=   0.0s\n",
      "[CV] END C=0.001, class_weight={1: 8.33}, max_iter=100, penalty=l1, solver=liblinear; total time=   0.0s\n",
      "[CV] END C=0.001, class_weight={1: 8.33}, max_iter=100, penalty=l1, solver=saga; total time=   0.0s\n",
      "[CV] END C=0.001, class_weight={1: 8.33}, max_iter=100, penalty=l1, solver=saga; total time=   0.0s\n",
      "[CV] END C=0.001, class_weight={1: 8.33}, max_iter=100, penalty=l1, solver=saga; total time=   0.0s\n",
      "[CV] END C=0.001, class_weight={1: 8.33}, max_iter=100, penalty=l1, solver=saga; total time=   0.0s\n",
      "[CV] END C=0.001, class_weight={1: 8.33}, max_iter=100, penalty=l1, solver=saga; total time=   0.0s\n",
      "[CV] END C=0.001, class_weight={1: 8.33}, max_iter=100, penalty=l1, solver=saga; total time=   0.0s\n",
      "[CV] END C=0.001, class_weight={1: 8.33}, max_iter=100, penalty=l1, solver=saga; total time=   0.0s\n",
      "[CV] END C=0.001, class_weight={1: 8.33}, max_iter=100, penalty=l1, solver=saga; total time=   0.0s\n",
      "[CV] END C=0.001, class_weight={1: 8.33}, max_iter=100, penalty=l1, solver=saga; total time=   0.0s\n",
      "[CV] END C=0.001, class_weight={1: 8.33}, max_iter=100, penalty=l1, solver=saga; total time=   0.0s\n",
      "[CV] END C=0.001, class_weight={1: 8.33}, max_iter=100, penalty=l2, solver=liblinear; total time=   0.0s\n",
      "[CV] END C=0.001, class_weight={1: 8.33}, max_iter=100, penalty=l2, solver=liblinear; total time=   0.0s\n",
      "[CV] END C=0.001, class_weight={1: 8.33}, max_iter=100, penalty=l2, solver=liblinear; total time=   0.0s\n",
      "[CV] END C=0.001, class_weight={1: 8.33}, max_iter=100, penalty=l2, solver=liblinear; total time=   0.0s\n",
      "[CV] END C=0.001, class_weight={1: 8.33}, max_iter=100, penalty=l2, solver=liblinear; total time=   0.0s\n",
      "[CV] END C=0.001, class_weight={1: 8.33}, max_iter=100, penalty=l2, solver=liblinear; total time=   0.0s\n",
      "[CV] END C=0.001, class_weight={1: 8.33}, max_iter=100, penalty=l2, solver=liblinear; total time=   0.0s\n",
      "[CV] END C=0.001, class_weight={1: 8.33}, max_iter=100, penalty=l2, solver=liblinear; total time=   0.0s\n",
      "[CV] END C=0.001, class_weight={1: 8.33}, max_iter=100, penalty=l2, solver=liblinear; total time=   0.0s\n",
      "[CV] END C=0.001, class_weight={1: 8.33}, max_iter=100, penalty=l2, solver=liblinear; total time=   0.0s\n",
      "[CV] END C=0.001, class_weight={1: 8.33}, max_iter=100, penalty=l2, solver=saga; total time=   0.0s\n",
      "[CV] END C=0.001, class_weight={1: 8.33}, max_iter=100, penalty=l2, solver=saga; total time=   0.0s\n",
      "[CV] END C=0.001, class_weight={1: 8.33}, max_iter=100, penalty=l2, solver=saga; total time=   0.0s\n",
      "[CV] END C=0.001, class_weight={1: 8.33}, max_iter=100, penalty=l2, solver=saga; total time=   0.0s\n",
      "[CV] END C=0.001, class_weight={1: 8.33}, max_iter=100, penalty=l2, solver=saga; total time=   0.1s\n",
      "[CV] END C=0.001, class_weight={1: 8.33}, max_iter=100, penalty=l2, solver=saga; total time=   0.0s\n",
      "[CV] END C=0.001, class_weight={1: 8.33}, max_iter=100, penalty=l2, solver=saga; total time=   0.0s\n",
      "[CV] END C=0.001, class_weight={1: 8.33}, max_iter=100, penalty=l2, solver=saga; total time=   0.0s\n",
      "[CV] END C=0.001, class_weight={1: 8.33}, max_iter=100, penalty=l2, solver=saga; total time=   0.0s\n",
      "[CV] END C=0.001, class_weight={1: 8.33}, max_iter=100, penalty=l2, solver=saga; total time=   0.0s\n",
      "[CV] END C=0.001, class_weight={1: 8.33}, max_iter=1000, penalty=l1, solver=liblinear; total time=   0.0s\n",
      "[CV] END C=0.001, class_weight={1: 8.33}, max_iter=1000, penalty=l1, solver=liblinear; total time=   0.0s\n",
      "[CV] END C=0.001, class_weight={1: 8.33}, max_iter=1000, penalty=l1, solver=liblinear; total time=   0.0s\n",
      "[CV] END C=0.001, class_weight={1: 8.33}, max_iter=1000, penalty=l1, solver=liblinear; total time=   0.0s\n",
      "[CV] END C=0.001, class_weight={1: 8.33}, max_iter=1000, penalty=l1, solver=liblinear; total time=   0.0s\n",
      "[CV] END C=0.001, class_weight={1: 8.33}, max_iter=1000, penalty=l1, solver=liblinear; total time=   0.0s\n",
      "[CV] END C=0.001, class_weight={1: 8.33}, max_iter=1000, penalty=l1, solver=liblinear; total time=   0.0s\n",
      "[CV] END C=0.001, class_weight={1: 8.33}, max_iter=1000, penalty=l1, solver=liblinear; total time=   0.0s\n",
      "[CV] END C=0.001, class_weight={1: 8.33}, max_iter=1000, penalty=l1, solver=liblinear; total time=   0.0s\n",
      "[CV] END C=0.001, class_weight={1: 8.33}, max_iter=1000, penalty=l1, solver=liblinear; total time=   0.0s\n",
      "[CV] END C=0.001, class_weight={1: 8.33}, max_iter=1000, penalty=l1, solver=saga; total time=   0.0s\n",
      "[CV] END C=0.001, class_weight={1: 8.33}, max_iter=1000, penalty=l1, solver=saga; total time=   0.0s\n",
      "[CV] END C=0.001, class_weight={1: 8.33}, max_iter=1000, penalty=l1, solver=saga; total time=   0.0s\n",
      "[CV] END C=0.001, class_weight={1: 8.33}, max_iter=1000, penalty=l1, solver=saga; total time=   0.0s\n",
      "[CV] END C=0.001, class_weight={1: 8.33}, max_iter=1000, penalty=l1, solver=saga; total time=   0.0s\n",
      "[CV] END C=0.001, class_weight={1: 8.33}, max_iter=1000, penalty=l1, solver=saga; total time=   0.0s\n",
      "[CV] END C=0.001, class_weight={1: 8.33}, max_iter=1000, penalty=l1, solver=saga; total time=   0.0s\n",
      "[CV] END C=0.001, class_weight={1: 8.33}, max_iter=1000, penalty=l1, solver=saga; total time=   0.0s\n",
      "[CV] END C=0.001, class_weight={1: 8.33}, max_iter=1000, penalty=l1, solver=saga; total time=   0.0s\n",
      "[CV] END C=0.001, class_weight={1: 8.33}, max_iter=1000, penalty=l1, solver=saga; total time=   0.0s\n",
      "[CV] END C=0.001, class_weight={1: 8.33}, max_iter=1000, penalty=l2, solver=liblinear; total time=   0.0s\n",
      "[CV] END C=0.001, class_weight={1: 8.33}, max_iter=1000, penalty=l2, solver=liblinear; total time=   0.0s\n",
      "[CV] END C=0.001, class_weight={1: 8.33}, max_iter=1000, penalty=l2, solver=liblinear; total time=   0.0s\n",
      "[CV] END C=0.001, class_weight={1: 8.33}, max_iter=1000, penalty=l2, solver=liblinear; total time=   0.0s\n",
      "[CV] END C=0.001, class_weight={1: 8.33}, max_iter=1000, penalty=l2, solver=liblinear; total time=   0.0s\n",
      "[CV] END C=0.001, class_weight={1: 8.33}, max_iter=1000, penalty=l2, solver=liblinear; total time=   0.0s\n",
      "[CV] END C=0.001, class_weight={1: 8.33}, max_iter=1000, penalty=l2, solver=liblinear; total time=   0.0s\n",
      "[CV] END C=0.001, class_weight={1: 8.33}, max_iter=1000, penalty=l2, solver=liblinear; total time=   0.0s\n",
      "[CV] END C=0.001, class_weight={1: 8.33}, max_iter=1000, penalty=l2, solver=liblinear; total time=   0.0s\n",
      "[CV] END C=0.001, class_weight={1: 8.33}, max_iter=1000, penalty=l2, solver=liblinear; total time=   0.0s\n",
      "[CV] END C=0.001, class_weight={1: 8.33}, max_iter=1000, penalty=l2, solver=saga; total time=   0.0s\n",
      "[CV] END C=0.001, class_weight={1: 8.33}, max_iter=1000, penalty=l2, solver=saga; total time=   0.0s\n",
      "[CV] END C=0.001, class_weight={1: 8.33}, max_iter=1000, penalty=l2, solver=saga; total time=   0.0s\n",
      "[CV] END C=0.001, class_weight={1: 8.33}, max_iter=1000, penalty=l2, solver=saga; total time=   0.0s\n",
      "[CV] END C=0.001, class_weight={1: 8.33}, max_iter=1000, penalty=l2, solver=saga; total time=   0.0s\n",
      "[CV] END C=0.001, class_weight={1: 8.33}, max_iter=1000, penalty=l2, solver=saga; total time=   0.0s\n",
      "[CV] END C=0.001, class_weight={1: 8.33}, max_iter=1000, penalty=l2, solver=saga; total time=   0.0s\n",
      "[CV] END C=0.001, class_weight={1: 8.33}, max_iter=1000, penalty=l2, solver=saga; total time=   0.0s\n",
      "[CV] END C=0.001, class_weight={1: 8.33}, max_iter=1000, penalty=l2, solver=saga; total time=   0.0s\n",
      "[CV] END C=0.001, class_weight={1: 8.33}, max_iter=1000, penalty=l2, solver=saga; total time=   0.0s\n",
      "[CV] END C=0.01, class_weight={1: 3.3}, max_iter=100, penalty=l1, solver=liblinear; total time=   0.0s\n",
      "[CV] END C=0.01, class_weight={1: 3.3}, max_iter=100, penalty=l1, solver=liblinear; total time=   0.0s\n",
      "[CV] END C=0.01, class_weight={1: 3.3}, max_iter=100, penalty=l1, solver=liblinear; total time=   0.0s\n",
      "[CV] END C=0.01, class_weight={1: 3.3}, max_iter=100, penalty=l1, solver=liblinear; total time=   0.0s\n",
      "[CV] END C=0.01, class_weight={1: 3.3}, max_iter=100, penalty=l1, solver=liblinear; total time=   0.0s\n",
      "[CV] END C=0.01, class_weight={1: 3.3}, max_iter=100, penalty=l1, solver=liblinear; total time=   0.0s\n",
      "[CV] END C=0.01, class_weight={1: 3.3}, max_iter=100, penalty=l1, solver=liblinear; total time=   0.0s\n",
      "[CV] END C=0.01, class_weight={1: 3.3}, max_iter=100, penalty=l1, solver=liblinear; total time=   0.0s\n",
      "[CV] END C=0.01, class_weight={1: 3.3}, max_iter=100, penalty=l1, solver=liblinear; total time=   0.0s\n",
      "[CV] END C=0.01, class_weight={1: 3.3}, max_iter=100, penalty=l1, solver=liblinear; total time=   0.0s\n",
      "[CV] END C=0.01, class_weight={1: 3.3}, max_iter=100, penalty=l1, solver=saga; total time=   0.0s\n",
      "[CV] END C=0.01, class_weight={1: 3.3}, max_iter=100, penalty=l1, solver=saga; total time=   0.0s\n",
      "[CV] END C=0.01, class_weight={1: 3.3}, max_iter=100, penalty=l1, solver=saga; total time=   0.1s\n",
      "[CV] END C=0.01, class_weight={1: 3.3}, max_iter=100, penalty=l1, solver=saga; total time=   0.0s\n",
      "[CV] END C=0.01, class_weight={1: 3.3}, max_iter=100, penalty=l1, solver=saga; total time=   0.0s\n"
     ]
    },
    {
     "name": "stderr",
     "output_type": "stream",
     "text": [
      "C:\\ProgramData\\Anaconda3\\lib\\site-packages\\sklearn\\linear_model\\_sag.py:328: ConvergenceWarning: The max_iter was reached which means the coef_ did not converge\n",
      "  warnings.warn(\"The max_iter was reached which means \"\n"
     ]
    },
    {
     "name": "stdout",
     "output_type": "stream",
     "text": [
      "[CV] END C=0.01, class_weight={1: 3.3}, max_iter=100, penalty=l1, solver=saga; total time=   0.2s\n",
      "[CV] END C=0.01, class_weight={1: 3.3}, max_iter=100, penalty=l1, solver=saga; total time=   0.0s\n",
      "[CV] END C=0.01, class_weight={1: 3.3}, max_iter=100, penalty=l1, solver=saga; total time=   0.0s\n",
      "[CV] END C=0.01, class_weight={1: 3.3}, max_iter=100, penalty=l1, solver=saga; total time=   0.1s\n",
      "[CV] END C=0.01, class_weight={1: 3.3}, max_iter=100, penalty=l1, solver=saga; total time=   0.0s\n",
      "[CV] END C=0.01, class_weight={1: 3.3}, max_iter=100, penalty=l2, solver=liblinear; total time=   0.0s\n",
      "[CV] END C=0.01, class_weight={1: 3.3}, max_iter=100, penalty=l2, solver=liblinear; total time=   0.0s\n",
      "[CV] END C=0.01, class_weight={1: 3.3}, max_iter=100, penalty=l2, solver=liblinear; total time=   0.0s\n",
      "[CV] END C=0.01, class_weight={1: 3.3}, max_iter=100, penalty=l2, solver=liblinear; total time=   0.0s\n",
      "[CV] END C=0.01, class_weight={1: 3.3}, max_iter=100, penalty=l2, solver=liblinear; total time=   0.0s\n",
      "[CV] END C=0.01, class_weight={1: 3.3}, max_iter=100, penalty=l2, solver=liblinear; total time=   0.0s\n",
      "[CV] END C=0.01, class_weight={1: 3.3}, max_iter=100, penalty=l2, solver=liblinear; total time=   0.0s\n",
      "[CV] END C=0.01, class_weight={1: 3.3}, max_iter=100, penalty=l2, solver=liblinear; total time=   0.0s\n",
      "[CV] END C=0.01, class_weight={1: 3.3}, max_iter=100, penalty=l2, solver=liblinear; total time=   0.0s\n",
      "[CV] END C=0.01, class_weight={1: 3.3}, max_iter=100, penalty=l2, solver=liblinear; total time=   0.0s\n",
      "[CV] END C=0.01, class_weight={1: 3.3}, max_iter=100, penalty=l2, solver=saga; total time=   0.0s\n",
      "[CV] END C=0.01, class_weight={1: 3.3}, max_iter=100, penalty=l2, solver=saga; total time=   0.0s\n",
      "[CV] END C=0.01, class_weight={1: 3.3}, max_iter=100, penalty=l2, solver=saga; total time=   0.0s\n",
      "[CV] END C=0.01, class_weight={1: 3.3}, max_iter=100, penalty=l2, solver=saga; total time=   0.0s\n",
      "[CV] END C=0.01, class_weight={1: 3.3}, max_iter=100, penalty=l2, solver=saga; total time=   0.0s\n",
      "[CV] END C=0.01, class_weight={1: 3.3}, max_iter=100, penalty=l2, solver=saga; total time=   0.0s\n",
      "[CV] END C=0.01, class_weight={1: 3.3}, max_iter=100, penalty=l2, solver=saga; total time=   0.0s\n",
      "[CV] END C=0.01, class_weight={1: 3.3}, max_iter=100, penalty=l2, solver=saga; total time=   0.0s\n",
      "[CV] END C=0.01, class_weight={1: 3.3}, max_iter=100, penalty=l2, solver=saga; total time=   0.0s\n",
      "[CV] END C=0.01, class_weight={1: 3.3}, max_iter=100, penalty=l2, solver=saga; total time=   0.0s\n",
      "[CV] END C=0.01, class_weight={1: 3.3}, max_iter=1000, penalty=l1, solver=liblinear; total time=   0.0s\n",
      "[CV] END C=0.01, class_weight={1: 3.3}, max_iter=1000, penalty=l1, solver=liblinear; total time=   0.0s\n",
      "[CV] END C=0.01, class_weight={1: 3.3}, max_iter=1000, penalty=l1, solver=liblinear; total time=   0.0s\n",
      "[CV] END C=0.01, class_weight={1: 3.3}, max_iter=1000, penalty=l1, solver=liblinear; total time=   0.0s\n",
      "[CV] END C=0.01, class_weight={1: 3.3}, max_iter=1000, penalty=l1, solver=liblinear; total time=   0.0s\n",
      "[CV] END C=0.01, class_weight={1: 3.3}, max_iter=1000, penalty=l1, solver=liblinear; total time=   0.0s\n",
      "[CV] END C=0.01, class_weight={1: 3.3}, max_iter=1000, penalty=l1, solver=liblinear; total time=   0.0s\n",
      "[CV] END C=0.01, class_weight={1: 3.3}, max_iter=1000, penalty=l1, solver=liblinear; total time=   0.0s\n",
      "[CV] END C=0.01, class_weight={1: 3.3}, max_iter=1000, penalty=l1, solver=liblinear; total time=   0.0s\n",
      "[CV] END C=0.01, class_weight={1: 3.3}, max_iter=1000, penalty=l1, solver=liblinear; total time=   0.0s\n",
      "[CV] END C=0.01, class_weight={1: 3.3}, max_iter=1000, penalty=l1, solver=saga; total time=   0.0s\n",
      "[CV] END C=0.01, class_weight={1: 3.3}, max_iter=1000, penalty=l1, solver=saga; total time=   0.0s\n",
      "[CV] END C=0.01, class_weight={1: 3.3}, max_iter=1000, penalty=l1, solver=saga; total time=   0.0s\n",
      "[CV] END C=0.01, class_weight={1: 3.3}, max_iter=1000, penalty=l1, solver=saga; total time=   0.0s\n",
      "[CV] END C=0.01, class_weight={1: 3.3}, max_iter=1000, penalty=l1, solver=saga; total time=   0.0s\n"
     ]
    },
    {
     "name": "stderr",
     "output_type": "stream",
     "text": [
      "C:\\ProgramData\\Anaconda3\\lib\\site-packages\\sklearn\\linear_model\\_sag.py:328: ConvergenceWarning: The max_iter was reached which means the coef_ did not converge\n",
      "  warnings.warn(\"The max_iter was reached which means \"\n"
     ]
    },
    {
     "name": "stdout",
     "output_type": "stream",
     "text": [
      "[CV] END C=0.01, class_weight={1: 3.3}, max_iter=1000, penalty=l1, solver=saga; total time=   2.5s\n",
      "[CV] END C=0.01, class_weight={1: 3.3}, max_iter=1000, penalty=l1, solver=saga; total time=   0.0s\n",
      "[CV] END C=0.01, class_weight={1: 3.3}, max_iter=1000, penalty=l1, solver=saga; total time=   0.0s\n",
      "[CV] END C=0.01, class_weight={1: 3.3}, max_iter=1000, penalty=l1, solver=saga; total time=   0.0s\n",
      "[CV] END C=0.01, class_weight={1: 3.3}, max_iter=1000, penalty=l1, solver=saga; total time=   0.0s\n",
      "[CV] END C=0.01, class_weight={1: 3.3}, max_iter=1000, penalty=l2, solver=liblinear; total time=   0.0s\n",
      "[CV] END C=0.01, class_weight={1: 3.3}, max_iter=1000, penalty=l2, solver=liblinear; total time=   0.0s\n",
      "[CV] END C=0.01, class_weight={1: 3.3}, max_iter=1000, penalty=l2, solver=liblinear; total time=   0.0s\n",
      "[CV] END C=0.01, class_weight={1: 3.3}, max_iter=1000, penalty=l2, solver=liblinear; total time=   0.0s\n",
      "[CV] END C=0.01, class_weight={1: 3.3}, max_iter=1000, penalty=l2, solver=liblinear; total time=   0.0s\n",
      "[CV] END C=0.01, class_weight={1: 3.3}, max_iter=1000, penalty=l2, solver=liblinear; total time=   0.0s\n",
      "[CV] END C=0.01, class_weight={1: 3.3}, max_iter=1000, penalty=l2, solver=liblinear; total time=   0.0s\n",
      "[CV] END C=0.01, class_weight={1: 3.3}, max_iter=1000, penalty=l2, solver=liblinear; total time=   0.0s\n",
      "[CV] END C=0.01, class_weight={1: 3.3}, max_iter=1000, penalty=l2, solver=liblinear; total time=   0.0s\n",
      "[CV] END C=0.01, class_weight={1: 3.3}, max_iter=1000, penalty=l2, solver=liblinear; total time=   0.0s\n",
      "[CV] END C=0.01, class_weight={1: 3.3}, max_iter=1000, penalty=l2, solver=saga; total time=   0.0s\n",
      "[CV] END C=0.01, class_weight={1: 3.3}, max_iter=1000, penalty=l2, solver=saga; total time=   0.0s\n",
      "[CV] END C=0.01, class_weight={1: 3.3}, max_iter=1000, penalty=l2, solver=saga; total time=   0.0s\n",
      "[CV] END C=0.01, class_weight={1: 3.3}, max_iter=1000, penalty=l2, solver=saga; total time=   0.0s\n",
      "[CV] END C=0.01, class_weight={1: 3.3}, max_iter=1000, penalty=l2, solver=saga; total time=   0.0s\n",
      "[CV] END C=0.01, class_weight={1: 3.3}, max_iter=1000, penalty=l2, solver=saga; total time=   0.0s\n",
      "[CV] END C=0.01, class_weight={1: 3.3}, max_iter=1000, penalty=l2, solver=saga; total time=   0.0s\n",
      "[CV] END C=0.01, class_weight={1: 3.3}, max_iter=1000, penalty=l2, solver=saga; total time=   0.0s\n",
      "[CV] END C=0.01, class_weight={1: 3.3}, max_iter=1000, penalty=l2, solver=saga; total time=   0.0s\n",
      "[CV] END C=0.01, class_weight={1: 3.3}, max_iter=1000, penalty=l2, solver=saga; total time=   0.0s\n",
      "[CV] END C=0.01, class_weight={1: 5}, max_iter=100, penalty=l1, solver=liblinear; total time=   0.0s\n",
      "[CV] END C=0.01, class_weight={1: 5}, max_iter=100, penalty=l1, solver=liblinear; total time=   0.0s\n",
      "[CV] END C=0.01, class_weight={1: 5}, max_iter=100, penalty=l1, solver=liblinear; total time=   0.0s\n",
      "[CV] END C=0.01, class_weight={1: 5}, max_iter=100, penalty=l1, solver=liblinear; total time=   0.0s\n",
      "[CV] END C=0.01, class_weight={1: 5}, max_iter=100, penalty=l1, solver=liblinear; total time=   0.0s\n",
      "[CV] END C=0.01, class_weight={1: 5}, max_iter=100, penalty=l1, solver=liblinear; total time=   0.0s\n",
      "[CV] END C=0.01, class_weight={1: 5}, max_iter=100, penalty=l1, solver=liblinear; total time=   0.0s\n",
      "[CV] END C=0.01, class_weight={1: 5}, max_iter=100, penalty=l1, solver=liblinear; total time=   0.0s\n",
      "[CV] END C=0.01, class_weight={1: 5}, max_iter=100, penalty=l1, solver=liblinear; total time=   0.0s\n",
      "[CV] END C=0.01, class_weight={1: 5}, max_iter=100, penalty=l1, solver=liblinear; total time=   0.0s\n"
     ]
    },
    {
     "name": "stderr",
     "output_type": "stream",
     "text": [
      "C:\\ProgramData\\Anaconda3\\lib\\site-packages\\sklearn\\linear_model\\_sag.py:328: ConvergenceWarning: The max_iter was reached which means the coef_ did not converge\n",
      "  warnings.warn(\"The max_iter was reached which means \"\n"
     ]
    },
    {
     "name": "stdout",
     "output_type": "stream",
     "text": [
      "[CV] END C=0.01, class_weight={1: 5}, max_iter=100, penalty=l1, solver=saga; total time=   0.2s\n"
     ]
    },
    {
     "name": "stderr",
     "output_type": "stream",
     "text": [
      "C:\\ProgramData\\Anaconda3\\lib\\site-packages\\sklearn\\linear_model\\_sag.py:328: ConvergenceWarning: The max_iter was reached which means the coef_ did not converge\n",
      "  warnings.warn(\"The max_iter was reached which means \"\n"
     ]
    },
    {
     "name": "stdout",
     "output_type": "stream",
     "text": [
      "[CV] END C=0.01, class_weight={1: 5}, max_iter=100, penalty=l1, solver=saga; total time=   0.2s\n"
     ]
    },
    {
     "name": "stderr",
     "output_type": "stream",
     "text": [
      "C:\\ProgramData\\Anaconda3\\lib\\site-packages\\sklearn\\linear_model\\_sag.py:328: ConvergenceWarning: The max_iter was reached which means the coef_ did not converge\n",
      "  warnings.warn(\"The max_iter was reached which means \"\n"
     ]
    },
    {
     "name": "stdout",
     "output_type": "stream",
     "text": [
      "[CV] END C=0.01, class_weight={1: 5}, max_iter=100, penalty=l1, solver=saga; total time=   0.2s\n"
     ]
    },
    {
     "name": "stderr",
     "output_type": "stream",
     "text": [
      "C:\\ProgramData\\Anaconda3\\lib\\site-packages\\sklearn\\linear_model\\_sag.py:328: ConvergenceWarning: The max_iter was reached which means the coef_ did not converge\n",
      "  warnings.warn(\"The max_iter was reached which means \"\n"
     ]
    },
    {
     "name": "stdout",
     "output_type": "stream",
     "text": [
      "[CV] END C=0.01, class_weight={1: 5}, max_iter=100, penalty=l1, solver=saga; total time=   0.2s\n"
     ]
    },
    {
     "name": "stderr",
     "output_type": "stream",
     "text": [
      "C:\\ProgramData\\Anaconda3\\lib\\site-packages\\sklearn\\linear_model\\_sag.py:328: ConvergenceWarning: The max_iter was reached which means the coef_ did not converge\n",
      "  warnings.warn(\"The max_iter was reached which means \"\n"
     ]
    },
    {
     "name": "stdout",
     "output_type": "stream",
     "text": [
      "[CV] END C=0.01, class_weight={1: 5}, max_iter=100, penalty=l1, solver=saga; total time=   0.2s\n"
     ]
    },
    {
     "name": "stderr",
     "output_type": "stream",
     "text": [
      "C:\\ProgramData\\Anaconda3\\lib\\site-packages\\sklearn\\linear_model\\_sag.py:328: ConvergenceWarning: The max_iter was reached which means the coef_ did not converge\n",
      "  warnings.warn(\"The max_iter was reached which means \"\n"
     ]
    },
    {
     "name": "stdout",
     "output_type": "stream",
     "text": [
      "[CV] END C=0.01, class_weight={1: 5}, max_iter=100, penalty=l1, solver=saga; total time=   0.2s\n"
     ]
    },
    {
     "name": "stderr",
     "output_type": "stream",
     "text": [
      "C:\\ProgramData\\Anaconda3\\lib\\site-packages\\sklearn\\linear_model\\_sag.py:328: ConvergenceWarning: The max_iter was reached which means the coef_ did not converge\n",
      "  warnings.warn(\"The max_iter was reached which means \"\n"
     ]
    },
    {
     "name": "stdout",
     "output_type": "stream",
     "text": [
      "[CV] END C=0.01, class_weight={1: 5}, max_iter=100, penalty=l1, solver=saga; total time=   0.2s\n"
     ]
    },
    {
     "name": "stderr",
     "output_type": "stream",
     "text": [
      "C:\\ProgramData\\Anaconda3\\lib\\site-packages\\sklearn\\linear_model\\_sag.py:328: ConvergenceWarning: The max_iter was reached which means the coef_ did not converge\n",
      "  warnings.warn(\"The max_iter was reached which means \"\n"
     ]
    },
    {
     "name": "stdout",
     "output_type": "stream",
     "text": [
      "[CV] END C=0.01, class_weight={1: 5}, max_iter=100, penalty=l1, solver=saga; total time=   0.2s\n"
     ]
    },
    {
     "name": "stderr",
     "output_type": "stream",
     "text": [
      "C:\\ProgramData\\Anaconda3\\lib\\site-packages\\sklearn\\linear_model\\_sag.py:328: ConvergenceWarning: The max_iter was reached which means the coef_ did not converge\n",
      "  warnings.warn(\"The max_iter was reached which means \"\n"
     ]
    },
    {
     "name": "stdout",
     "output_type": "stream",
     "text": [
      "[CV] END C=0.01, class_weight={1: 5}, max_iter=100, penalty=l1, solver=saga; total time=   0.2s\n"
     ]
    },
    {
     "name": "stderr",
     "output_type": "stream",
     "text": [
      "C:\\ProgramData\\Anaconda3\\lib\\site-packages\\sklearn\\linear_model\\_sag.py:328: ConvergenceWarning: The max_iter was reached which means the coef_ did not converge\n",
      "  warnings.warn(\"The max_iter was reached which means \"\n"
     ]
    },
    {
     "name": "stdout",
     "output_type": "stream",
     "text": [
      "[CV] END C=0.01, class_weight={1: 5}, max_iter=100, penalty=l1, solver=saga; total time=   0.2s\n",
      "[CV] END C=0.01, class_weight={1: 5}, max_iter=100, penalty=l2, solver=liblinear; total time=   0.0s\n",
      "[CV] END C=0.01, class_weight={1: 5}, max_iter=100, penalty=l2, solver=liblinear; total time=   0.0s\n",
      "[CV] END C=0.01, class_weight={1: 5}, max_iter=100, penalty=l2, solver=liblinear; total time=   0.0s\n",
      "[CV] END C=0.01, class_weight={1: 5}, max_iter=100, penalty=l2, solver=liblinear; total time=   0.0s\n",
      "[CV] END C=0.01, class_weight={1: 5}, max_iter=100, penalty=l2, solver=liblinear; total time=   0.0s\n",
      "[CV] END C=0.01, class_weight={1: 5}, max_iter=100, penalty=l2, solver=liblinear; total time=   0.0s\n",
      "[CV] END C=0.01, class_weight={1: 5}, max_iter=100, penalty=l2, solver=liblinear; total time=   0.0s\n",
      "[CV] END C=0.01, class_weight={1: 5}, max_iter=100, penalty=l2, solver=liblinear; total time=   0.0s\n",
      "[CV] END C=0.01, class_weight={1: 5}, max_iter=100, penalty=l2, solver=liblinear; total time=   0.0s\n",
      "[CV] END C=0.01, class_weight={1: 5}, max_iter=100, penalty=l2, solver=liblinear; total time=   0.0s\n",
      "[CV] END C=0.01, class_weight={1: 5}, max_iter=100, penalty=l2, solver=saga; total time=   0.0s\n",
      "[CV] END C=0.01, class_weight={1: 5}, max_iter=100, penalty=l2, solver=saga; total time=   0.0s\n",
      "[CV] END C=0.01, class_weight={1: 5}, max_iter=100, penalty=l2, solver=saga; total time=   0.0s\n",
      "[CV] END C=0.01, class_weight={1: 5}, max_iter=100, penalty=l2, solver=saga; total time=   0.0s\n"
     ]
    },
    {
     "name": "stderr",
     "output_type": "stream",
     "text": [
      "C:\\ProgramData\\Anaconda3\\lib\\site-packages\\sklearn\\linear_model\\_sag.py:328: ConvergenceWarning: The max_iter was reached which means the coef_ did not converge\n",
      "  warnings.warn(\"The max_iter was reached which means \"\n"
     ]
    },
    {
     "name": "stdout",
     "output_type": "stream",
     "text": [
      "[CV] END C=0.01, class_weight={1: 5}, max_iter=100, penalty=l2, solver=saga; total time=   0.1s\n",
      "[CV] END C=0.01, class_weight={1: 5}, max_iter=100, penalty=l2, solver=saga; total time=   0.0s\n",
      "[CV] END C=0.01, class_weight={1: 5}, max_iter=100, penalty=l2, solver=saga; total time=   0.0s\n",
      "[CV] END C=0.01, class_weight={1: 5}, max_iter=100, penalty=l2, solver=saga; total time=   0.0s\n",
      "[CV] END C=0.01, class_weight={1: 5}, max_iter=100, penalty=l2, solver=saga; total time=   0.0s\n",
      "[CV] END C=0.01, class_weight={1: 5}, max_iter=100, penalty=l2, solver=saga; total time=   0.0s\n",
      "[CV] END C=0.01, class_weight={1: 5}, max_iter=1000, penalty=l1, solver=liblinear; total time=   0.0s\n",
      "[CV] END C=0.01, class_weight={1: 5}, max_iter=1000, penalty=l1, solver=liblinear; total time=   0.0s\n",
      "[CV] END C=0.01, class_weight={1: 5}, max_iter=1000, penalty=l1, solver=liblinear; total time=   0.0s\n",
      "[CV] END C=0.01, class_weight={1: 5}, max_iter=1000, penalty=l1, solver=liblinear; total time=   0.0s\n",
      "[CV] END C=0.01, class_weight={1: 5}, max_iter=1000, penalty=l1, solver=liblinear; total time=   0.0s\n",
      "[CV] END C=0.01, class_weight={1: 5}, max_iter=1000, penalty=l1, solver=liblinear; total time=   0.0s\n",
      "[CV] END C=0.01, class_weight={1: 5}, max_iter=1000, penalty=l1, solver=liblinear; total time=   0.0s\n",
      "[CV] END C=0.01, class_weight={1: 5}, max_iter=1000, penalty=l1, solver=liblinear; total time=   0.0s\n",
      "[CV] END C=0.01, class_weight={1: 5}, max_iter=1000, penalty=l1, solver=liblinear; total time=   0.0s\n",
      "[CV] END C=0.01, class_weight={1: 5}, max_iter=1000, penalty=l1, solver=liblinear; total time=   0.0s\n"
     ]
    },
    {
     "name": "stderr",
     "output_type": "stream",
     "text": [
      "C:\\ProgramData\\Anaconda3\\lib\\site-packages\\sklearn\\linear_model\\_sag.py:328: ConvergenceWarning: The max_iter was reached which means the coef_ did not converge\n",
      "  warnings.warn(\"The max_iter was reached which means \"\n"
     ]
    },
    {
     "name": "stdout",
     "output_type": "stream",
     "text": [
      "[CV] END C=0.01, class_weight={1: 5}, max_iter=1000, penalty=l1, solver=saga; total time=   2.6s\n"
     ]
    },
    {
     "name": "stderr",
     "output_type": "stream",
     "text": [
      "C:\\ProgramData\\Anaconda3\\lib\\site-packages\\sklearn\\linear_model\\_sag.py:328: ConvergenceWarning: The max_iter was reached which means the coef_ did not converge\n",
      "  warnings.warn(\"The max_iter was reached which means \"\n"
     ]
    },
    {
     "name": "stdout",
     "output_type": "stream",
     "text": [
      "[CV] END C=0.01, class_weight={1: 5}, max_iter=1000, penalty=l1, solver=saga; total time=   2.5s\n",
      "[CV] END C=0.01, class_weight={1: 5}, max_iter=1000, penalty=l1, solver=saga; total time=   0.3s\n"
     ]
    },
    {
     "name": "stderr",
     "output_type": "stream",
     "text": [
      "C:\\ProgramData\\Anaconda3\\lib\\site-packages\\sklearn\\linear_model\\_sag.py:328: ConvergenceWarning: The max_iter was reached which means the coef_ did not converge\n",
      "  warnings.warn(\"The max_iter was reached which means \"\n"
     ]
    },
    {
     "name": "stdout",
     "output_type": "stream",
     "text": [
      "[CV] END C=0.01, class_weight={1: 5}, max_iter=1000, penalty=l1, solver=saga; total time=   2.5s\n"
     ]
    },
    {
     "name": "stderr",
     "output_type": "stream",
     "text": [
      "C:\\ProgramData\\Anaconda3\\lib\\site-packages\\sklearn\\linear_model\\_sag.py:328: ConvergenceWarning: The max_iter was reached which means the coef_ did not converge\n",
      "  warnings.warn(\"The max_iter was reached which means \"\n"
     ]
    },
    {
     "name": "stdout",
     "output_type": "stream",
     "text": [
      "[CV] END C=0.01, class_weight={1: 5}, max_iter=1000, penalty=l1, solver=saga; total time=   2.6s\n"
     ]
    },
    {
     "name": "stderr",
     "output_type": "stream",
     "text": [
      "C:\\ProgramData\\Anaconda3\\lib\\site-packages\\sklearn\\linear_model\\_sag.py:328: ConvergenceWarning: The max_iter was reached which means the coef_ did not converge\n",
      "  warnings.warn(\"The max_iter was reached which means \"\n"
     ]
    },
    {
     "name": "stdout",
     "output_type": "stream",
     "text": [
      "[CV] END C=0.01, class_weight={1: 5}, max_iter=1000, penalty=l1, solver=saga; total time=   2.6s\n",
      "[CV] END C=0.01, class_weight={1: 5}, max_iter=1000, penalty=l1, solver=saga; total time=   0.2s\n"
     ]
    },
    {
     "name": "stderr",
     "output_type": "stream",
     "text": [
      "C:\\ProgramData\\Anaconda3\\lib\\site-packages\\sklearn\\linear_model\\_sag.py:328: ConvergenceWarning: The max_iter was reached which means the coef_ did not converge\n",
      "  warnings.warn(\"The max_iter was reached which means \"\n"
     ]
    },
    {
     "name": "stdout",
     "output_type": "stream",
     "text": [
      "[CV] END C=0.01, class_weight={1: 5}, max_iter=1000, penalty=l1, solver=saga; total time=   2.5s\n",
      "[CV] END C=0.01, class_weight={1: 5}, max_iter=1000, penalty=l1, solver=saga; total time=   0.4s\n",
      "[CV] END C=0.01, class_weight={1: 5}, max_iter=1000, penalty=l1, solver=saga; total time=   0.4s\n",
      "[CV] END C=0.01, class_weight={1: 5}, max_iter=1000, penalty=l2, solver=liblinear; total time=   0.0s\n",
      "[CV] END C=0.01, class_weight={1: 5}, max_iter=1000, penalty=l2, solver=liblinear; total time=   0.0s\n",
      "[CV] END C=0.01, class_weight={1: 5}, max_iter=1000, penalty=l2, solver=liblinear; total time=   0.0s\n",
      "[CV] END C=0.01, class_weight={1: 5}, max_iter=1000, penalty=l2, solver=liblinear; total time=   0.0s\n",
      "[CV] END C=0.01, class_weight={1: 5}, max_iter=1000, penalty=l2, solver=liblinear; total time=   0.0s\n",
      "[CV] END C=0.01, class_weight={1: 5}, max_iter=1000, penalty=l2, solver=liblinear; total time=   0.0s\n",
      "[CV] END C=0.01, class_weight={1: 5}, max_iter=1000, penalty=l2, solver=liblinear; total time=   0.0s\n",
      "[CV] END C=0.01, class_weight={1: 5}, max_iter=1000, penalty=l2, solver=liblinear; total time=   0.0s\n",
      "[CV] END C=0.01, class_weight={1: 5}, max_iter=1000, penalty=l2, solver=liblinear; total time=   0.0s\n",
      "[CV] END C=0.01, class_weight={1: 5}, max_iter=1000, penalty=l2, solver=liblinear; total time=   0.0s\n",
      "[CV] END C=0.01, class_weight={1: 5}, max_iter=1000, penalty=l2, solver=saga; total time=   0.0s\n",
      "[CV] END C=0.01, class_weight={1: 5}, max_iter=1000, penalty=l2, solver=saga; total time=   0.0s\n",
      "[CV] END C=0.01, class_weight={1: 5}, max_iter=1000, penalty=l2, solver=saga; total time=   0.0s\n",
      "[CV] END C=0.01, class_weight={1: 5}, max_iter=1000, penalty=l2, solver=saga; total time=   0.0s\n",
      "[CV] END C=0.01, class_weight={1: 5}, max_iter=1000, penalty=l2, solver=saga; total time=   0.1s\n",
      "[CV] END C=0.01, class_weight={1: 5}, max_iter=1000, penalty=l2, solver=saga; total time=   0.0s\n",
      "[CV] END C=0.01, class_weight={1: 5}, max_iter=1000, penalty=l2, solver=saga; total time=   0.0s\n",
      "[CV] END C=0.01, class_weight={1: 5}, max_iter=1000, penalty=l2, solver=saga; total time=   0.0s\n",
      "[CV] END C=0.01, class_weight={1: 5}, max_iter=1000, penalty=l2, solver=saga; total time=   0.0s\n",
      "[CV] END C=0.01, class_weight={1: 5}, max_iter=1000, penalty=l2, solver=saga; total time=   0.0s\n",
      "[CV] END C=0.01, class_weight={1: 1}, max_iter=100, penalty=l1, solver=liblinear; total time=   0.0s\n",
      "[CV] END C=0.01, class_weight={1: 1}, max_iter=100, penalty=l1, solver=liblinear; total time=   0.0s\n",
      "[CV] END C=0.01, class_weight={1: 1}, max_iter=100, penalty=l1, solver=liblinear; total time=   0.0s\n",
      "[CV] END C=0.01, class_weight={1: 1}, max_iter=100, penalty=l1, solver=liblinear; total time=   0.0s\n",
      "[CV] END C=0.01, class_weight={1: 1}, max_iter=100, penalty=l1, solver=liblinear; total time=   0.0s\n",
      "[CV] END C=0.01, class_weight={1: 1}, max_iter=100, penalty=l1, solver=liblinear; total time=   0.0s\n",
      "[CV] END C=0.01, class_weight={1: 1}, max_iter=100, penalty=l1, solver=liblinear; total time=   0.0s\n",
      "[CV] END C=0.01, class_weight={1: 1}, max_iter=100, penalty=l1, solver=liblinear; total time=   0.0s\n",
      "[CV] END C=0.01, class_weight={1: 1}, max_iter=100, penalty=l1, solver=liblinear; total time=   0.0s\n",
      "[CV] END C=0.01, class_weight={1: 1}, max_iter=100, penalty=l1, solver=liblinear; total time=   0.0s\n",
      "[CV] END C=0.01, class_weight={1: 1}, max_iter=100, penalty=l1, solver=saga; total time=   0.0s\n",
      "[CV] END C=0.01, class_weight={1: 1}, max_iter=100, penalty=l1, solver=saga; total time=   0.0s\n",
      "[CV] END C=0.01, class_weight={1: 1}, max_iter=100, penalty=l1, solver=saga; total time=   0.0s\n",
      "[CV] END C=0.01, class_weight={1: 1}, max_iter=100, penalty=l1, solver=saga; total time=   0.0s\n",
      "[CV] END C=0.01, class_weight={1: 1}, max_iter=100, penalty=l1, solver=saga; total time=   0.0s\n",
      "[CV] END C=0.01, class_weight={1: 1}, max_iter=100, penalty=l1, solver=saga; total time=   0.0s\n",
      "[CV] END C=0.01, class_weight={1: 1}, max_iter=100, penalty=l1, solver=saga; total time=   0.0s\n",
      "[CV] END C=0.01, class_weight={1: 1}, max_iter=100, penalty=l1, solver=saga; total time=   0.0s\n",
      "[CV] END C=0.01, class_weight={1: 1}, max_iter=100, penalty=l1, solver=saga; total time=   0.0s\n",
      "[CV] END C=0.01, class_weight={1: 1}, max_iter=100, penalty=l1, solver=saga; total time=   0.0s\n",
      "[CV] END C=0.01, class_weight={1: 1}, max_iter=100, penalty=l2, solver=liblinear; total time=   0.0s\n",
      "[CV] END C=0.01, class_weight={1: 1}, max_iter=100, penalty=l2, solver=liblinear; total time=   0.0s\n",
      "[CV] END C=0.01, class_weight={1: 1}, max_iter=100, penalty=l2, solver=liblinear; total time=   0.0s\n",
      "[CV] END C=0.01, class_weight={1: 1}, max_iter=100, penalty=l2, solver=liblinear; total time=   0.0s\n",
      "[CV] END C=0.01, class_weight={1: 1}, max_iter=100, penalty=l2, solver=liblinear; total time=   0.0s\n",
      "[CV] END C=0.01, class_weight={1: 1}, max_iter=100, penalty=l2, solver=liblinear; total time=   0.0s\n",
      "[CV] END C=0.01, class_weight={1: 1}, max_iter=100, penalty=l2, solver=liblinear; total time=   0.0s\n",
      "[CV] END C=0.01, class_weight={1: 1}, max_iter=100, penalty=l2, solver=liblinear; total time=   0.0s\n",
      "[CV] END C=0.01, class_weight={1: 1}, max_iter=100, penalty=l2, solver=liblinear; total time=   0.0s\n",
      "[CV] END C=0.01, class_weight={1: 1}, max_iter=100, penalty=l2, solver=liblinear; total time=   0.0s\n",
      "[CV] END C=0.01, class_weight={1: 1}, max_iter=100, penalty=l2, solver=saga; total time=   0.0s\n",
      "[CV] END C=0.01, class_weight={1: 1}, max_iter=100, penalty=l2, solver=saga; total time=   0.0s\n",
      "[CV] END C=0.01, class_weight={1: 1}, max_iter=100, penalty=l2, solver=saga; total time=   0.0s\n",
      "[CV] END C=0.01, class_weight={1: 1}, max_iter=100, penalty=l2, solver=saga; total time=   0.0s\n",
      "[CV] END C=0.01, class_weight={1: 1}, max_iter=100, penalty=l2, solver=saga; total time=   0.0s\n",
      "[CV] END C=0.01, class_weight={1: 1}, max_iter=100, penalty=l2, solver=saga; total time=   0.0s\n",
      "[CV] END C=0.01, class_weight={1: 1}, max_iter=100, penalty=l2, solver=saga; total time=   0.0s\n",
      "[CV] END C=0.01, class_weight={1: 1}, max_iter=100, penalty=l2, solver=saga; total time=   0.0s\n",
      "[CV] END C=0.01, class_weight={1: 1}, max_iter=100, penalty=l2, solver=saga; total time=   0.0s\n",
      "[CV] END C=0.01, class_weight={1: 1}, max_iter=100, penalty=l2, solver=saga; total time=   0.0s\n",
      "[CV] END C=0.01, class_weight={1: 1}, max_iter=1000, penalty=l1, solver=liblinear; total time=   0.0s\n",
      "[CV] END C=0.01, class_weight={1: 1}, max_iter=1000, penalty=l1, solver=liblinear; total time=   0.0s\n",
      "[CV] END C=0.01, class_weight={1: 1}, max_iter=1000, penalty=l1, solver=liblinear; total time=   0.0s\n",
      "[CV] END C=0.01, class_weight={1: 1}, max_iter=1000, penalty=l1, solver=liblinear; total time=   0.0s\n",
      "[CV] END C=0.01, class_weight={1: 1}, max_iter=1000, penalty=l1, solver=liblinear; total time=   0.0s\n",
      "[CV] END C=0.01, class_weight={1: 1}, max_iter=1000, penalty=l1, solver=liblinear; total time=   0.0s\n",
      "[CV] END C=0.01, class_weight={1: 1}, max_iter=1000, penalty=l1, solver=liblinear; total time=   0.0s\n",
      "[CV] END C=0.01, class_weight={1: 1}, max_iter=1000, penalty=l1, solver=liblinear; total time=   0.0s\n",
      "[CV] END C=0.01, class_weight={1: 1}, max_iter=1000, penalty=l1, solver=liblinear; total time=   0.0s\n",
      "[CV] END C=0.01, class_weight={1: 1}, max_iter=1000, penalty=l1, solver=liblinear; total time=   0.0s\n",
      "[CV] END C=0.01, class_weight={1: 1}, max_iter=1000, penalty=l1, solver=saga; total time=   0.0s\n",
      "[CV] END C=0.01, class_weight={1: 1}, max_iter=1000, penalty=l1, solver=saga; total time=   0.0s\n",
      "[CV] END C=0.01, class_weight={1: 1}, max_iter=1000, penalty=l1, solver=saga; total time=   0.0s\n",
      "[CV] END C=0.01, class_weight={1: 1}, max_iter=1000, penalty=l1, solver=saga; total time=   0.0s\n",
      "[CV] END C=0.01, class_weight={1: 1}, max_iter=1000, penalty=l1, solver=saga; total time=   0.0s\n",
      "[CV] END C=0.01, class_weight={1: 1}, max_iter=1000, penalty=l1, solver=saga; total time=   0.0s\n",
      "[CV] END C=0.01, class_weight={1: 1}, max_iter=1000, penalty=l1, solver=saga; total time=   0.0s\n",
      "[CV] END C=0.01, class_weight={1: 1}, max_iter=1000, penalty=l1, solver=saga; total time=   0.0s\n",
      "[CV] END C=0.01, class_weight={1: 1}, max_iter=1000, penalty=l1, solver=saga; total time=   0.0s\n",
      "[CV] END C=0.01, class_weight={1: 1}, max_iter=1000, penalty=l1, solver=saga; total time=   0.0s\n",
      "[CV] END C=0.01, class_weight={1: 1}, max_iter=1000, penalty=l2, solver=liblinear; total time=   0.0s\n",
      "[CV] END C=0.01, class_weight={1: 1}, max_iter=1000, penalty=l2, solver=liblinear; total time=   0.0s\n",
      "[CV] END C=0.01, class_weight={1: 1}, max_iter=1000, penalty=l2, solver=liblinear; total time=   0.0s\n",
      "[CV] END C=0.01, class_weight={1: 1}, max_iter=1000, penalty=l2, solver=liblinear; total time=   0.0s\n",
      "[CV] END C=0.01, class_weight={1: 1}, max_iter=1000, penalty=l2, solver=liblinear; total time=   0.0s\n",
      "[CV] END C=0.01, class_weight={1: 1}, max_iter=1000, penalty=l2, solver=liblinear; total time=   0.0s\n",
      "[CV] END C=0.01, class_weight={1: 1}, max_iter=1000, penalty=l2, solver=liblinear; total time=   0.0s\n",
      "[CV] END C=0.01, class_weight={1: 1}, max_iter=1000, penalty=l2, solver=liblinear; total time=   0.0s\n",
      "[CV] END C=0.01, class_weight={1: 1}, max_iter=1000, penalty=l2, solver=liblinear; total time=   0.0s\n",
      "[CV] END C=0.01, class_weight={1: 1}, max_iter=1000, penalty=l2, solver=liblinear; total time=   0.0s\n",
      "[CV] END C=0.01, class_weight={1: 1}, max_iter=1000, penalty=l2, solver=saga; total time=   0.0s\n",
      "[CV] END C=0.01, class_weight={1: 1}, max_iter=1000, penalty=l2, solver=saga; total time=   0.0s\n",
      "[CV] END C=0.01, class_weight={1: 1}, max_iter=1000, penalty=l2, solver=saga; total time=   0.0s\n",
      "[CV] END C=0.01, class_weight={1: 1}, max_iter=1000, penalty=l2, solver=saga; total time=   0.0s\n",
      "[CV] END C=0.01, class_weight={1: 1}, max_iter=1000, penalty=l2, solver=saga; total time=   0.0s\n",
      "[CV] END C=0.01, class_weight={1: 1}, max_iter=1000, penalty=l2, solver=saga; total time=   0.0s\n",
      "[CV] END C=0.01, class_weight={1: 1}, max_iter=1000, penalty=l2, solver=saga; total time=   0.0s\n",
      "[CV] END C=0.01, class_weight={1: 1}, max_iter=1000, penalty=l2, solver=saga; total time=   0.0s\n",
      "[CV] END C=0.01, class_weight={1: 1}, max_iter=1000, penalty=l2, solver=saga; total time=   0.0s\n",
      "[CV] END C=0.01, class_weight={1: 1}, max_iter=1000, penalty=l2, solver=saga; total time=   0.0s\n",
      "[CV] END C=0.01, class_weight={1: 8.33}, max_iter=100, penalty=l1, solver=liblinear; total time=   0.0s\n",
      "[CV] END C=0.01, class_weight={1: 8.33}, max_iter=100, penalty=l1, solver=liblinear; total time=   0.0s\n",
      "[CV] END C=0.01, class_weight={1: 8.33}, max_iter=100, penalty=l1, solver=liblinear; total time=   0.0s\n",
      "[CV] END C=0.01, class_weight={1: 8.33}, max_iter=100, penalty=l1, solver=liblinear; total time=   0.0s\n",
      "[CV] END C=0.01, class_weight={1: 8.33}, max_iter=100, penalty=l1, solver=liblinear; total time=   0.0s\n",
      "[CV] END C=0.01, class_weight={1: 8.33}, max_iter=100, penalty=l1, solver=liblinear; total time=   0.0s\n",
      "[CV] END C=0.01, class_weight={1: 8.33}, max_iter=100, penalty=l1, solver=liblinear; total time=   0.0s\n",
      "[CV] END C=0.01, class_weight={1: 8.33}, max_iter=100, penalty=l1, solver=liblinear; total time=   0.0s\n",
      "[CV] END C=0.01, class_weight={1: 8.33}, max_iter=100, penalty=l1, solver=liblinear; total time=   0.0s\n",
      "[CV] END C=0.01, class_weight={1: 8.33}, max_iter=100, penalty=l1, solver=liblinear; total time=   0.0s\n"
     ]
    },
    {
     "name": "stderr",
     "output_type": "stream",
     "text": [
      "C:\\ProgramData\\Anaconda3\\lib\\site-packages\\sklearn\\linear_model\\_sag.py:328: ConvergenceWarning: The max_iter was reached which means the coef_ did not converge\n",
      "  warnings.warn(\"The max_iter was reached which means \"\n"
     ]
    },
    {
     "name": "stdout",
     "output_type": "stream",
     "text": [
      "[CV] END C=0.01, class_weight={1: 8.33}, max_iter=100, penalty=l1, solver=saga; total time=   0.2s\n"
     ]
    },
    {
     "name": "stderr",
     "output_type": "stream",
     "text": [
      "C:\\ProgramData\\Anaconda3\\lib\\site-packages\\sklearn\\linear_model\\_sag.py:328: ConvergenceWarning: The max_iter was reached which means the coef_ did not converge\n",
      "  warnings.warn(\"The max_iter was reached which means \"\n"
     ]
    },
    {
     "name": "stdout",
     "output_type": "stream",
     "text": [
      "[CV] END C=0.01, class_weight={1: 8.33}, max_iter=100, penalty=l1, solver=saga; total time=   0.2s\n"
     ]
    },
    {
     "name": "stderr",
     "output_type": "stream",
     "text": [
      "C:\\ProgramData\\Anaconda3\\lib\\site-packages\\sklearn\\linear_model\\_sag.py:328: ConvergenceWarning: The max_iter was reached which means the coef_ did not converge\n",
      "  warnings.warn(\"The max_iter was reached which means \"\n"
     ]
    },
    {
     "name": "stdout",
     "output_type": "stream",
     "text": [
      "[CV] END C=0.01, class_weight={1: 8.33}, max_iter=100, penalty=l1, solver=saga; total time=   0.2s\n"
     ]
    },
    {
     "name": "stderr",
     "output_type": "stream",
     "text": [
      "C:\\ProgramData\\Anaconda3\\lib\\site-packages\\sklearn\\linear_model\\_sag.py:328: ConvergenceWarning: The max_iter was reached which means the coef_ did not converge\n",
      "  warnings.warn(\"The max_iter was reached which means \"\n"
     ]
    },
    {
     "name": "stdout",
     "output_type": "stream",
     "text": [
      "[CV] END C=0.01, class_weight={1: 8.33}, max_iter=100, penalty=l1, solver=saga; total time=   0.2s\n"
     ]
    },
    {
     "name": "stderr",
     "output_type": "stream",
     "text": [
      "C:\\ProgramData\\Anaconda3\\lib\\site-packages\\sklearn\\linear_model\\_sag.py:328: ConvergenceWarning: The max_iter was reached which means the coef_ did not converge\n",
      "  warnings.warn(\"The max_iter was reached which means \"\n"
     ]
    },
    {
     "name": "stdout",
     "output_type": "stream",
     "text": [
      "[CV] END C=0.01, class_weight={1: 8.33}, max_iter=100, penalty=l1, solver=saga; total time=   0.2s\n"
     ]
    },
    {
     "name": "stderr",
     "output_type": "stream",
     "text": [
      "C:\\ProgramData\\Anaconda3\\lib\\site-packages\\sklearn\\linear_model\\_sag.py:328: ConvergenceWarning: The max_iter was reached which means the coef_ did not converge\n",
      "  warnings.warn(\"The max_iter was reached which means \"\n"
     ]
    },
    {
     "name": "stdout",
     "output_type": "stream",
     "text": [
      "[CV] END C=0.01, class_weight={1: 8.33}, max_iter=100, penalty=l1, solver=saga; total time=   0.2s\n"
     ]
    },
    {
     "name": "stderr",
     "output_type": "stream",
     "text": [
      "C:\\ProgramData\\Anaconda3\\lib\\site-packages\\sklearn\\linear_model\\_sag.py:328: ConvergenceWarning: The max_iter was reached which means the coef_ did not converge\n",
      "  warnings.warn(\"The max_iter was reached which means \"\n"
     ]
    },
    {
     "name": "stdout",
     "output_type": "stream",
     "text": [
      "[CV] END C=0.01, class_weight={1: 8.33}, max_iter=100, penalty=l1, solver=saga; total time=   0.2s\n"
     ]
    },
    {
     "name": "stderr",
     "output_type": "stream",
     "text": [
      "C:\\ProgramData\\Anaconda3\\lib\\site-packages\\sklearn\\linear_model\\_sag.py:328: ConvergenceWarning: The max_iter was reached which means the coef_ did not converge\n",
      "  warnings.warn(\"The max_iter was reached which means \"\n"
     ]
    },
    {
     "name": "stdout",
     "output_type": "stream",
     "text": [
      "[CV] END C=0.01, class_weight={1: 8.33}, max_iter=100, penalty=l1, solver=saga; total time=   0.2s\n"
     ]
    },
    {
     "name": "stderr",
     "output_type": "stream",
     "text": [
      "C:\\ProgramData\\Anaconda3\\lib\\site-packages\\sklearn\\linear_model\\_sag.py:328: ConvergenceWarning: The max_iter was reached which means the coef_ did not converge\n",
      "  warnings.warn(\"The max_iter was reached which means \"\n"
     ]
    },
    {
     "name": "stdout",
     "output_type": "stream",
     "text": [
      "[CV] END C=0.01, class_weight={1: 8.33}, max_iter=100, penalty=l1, solver=saga; total time=   0.2s\n"
     ]
    },
    {
     "name": "stderr",
     "output_type": "stream",
     "text": [
      "C:\\ProgramData\\Anaconda3\\lib\\site-packages\\sklearn\\linear_model\\_sag.py:328: ConvergenceWarning: The max_iter was reached which means the coef_ did not converge\n",
      "  warnings.warn(\"The max_iter was reached which means \"\n"
     ]
    },
    {
     "name": "stdout",
     "output_type": "stream",
     "text": [
      "[CV] END C=0.01, class_weight={1: 8.33}, max_iter=100, penalty=l1, solver=saga; total time=   0.2s\n",
      "[CV] END C=0.01, class_weight={1: 8.33}, max_iter=100, penalty=l2, solver=liblinear; total time=   0.0s\n",
      "[CV] END C=0.01, class_weight={1: 8.33}, max_iter=100, penalty=l2, solver=liblinear; total time=   0.0s\n",
      "[CV] END C=0.01, class_weight={1: 8.33}, max_iter=100, penalty=l2, solver=liblinear; total time=   0.0s\n",
      "[CV] END C=0.01, class_weight={1: 8.33}, max_iter=100, penalty=l2, solver=liblinear; total time=   0.0s\n",
      "[CV] END C=0.01, class_weight={1: 8.33}, max_iter=100, penalty=l2, solver=liblinear; total time=   0.0s\n",
      "[CV] END C=0.01, class_weight={1: 8.33}, max_iter=100, penalty=l2, solver=liblinear; total time=   0.0s\n",
      "[CV] END C=0.01, class_weight={1: 8.33}, max_iter=100, penalty=l2, solver=liblinear; total time=   0.0s\n",
      "[CV] END C=0.01, class_weight={1: 8.33}, max_iter=100, penalty=l2, solver=liblinear; total time=   0.0s\n",
      "[CV] END C=0.01, class_weight={1: 8.33}, max_iter=100, penalty=l2, solver=liblinear; total time=   0.0s\n",
      "[CV] END C=0.01, class_weight={1: 8.33}, max_iter=100, penalty=l2, solver=liblinear; total time=   0.0s\n"
     ]
    },
    {
     "name": "stderr",
     "output_type": "stream",
     "text": [
      "C:\\ProgramData\\Anaconda3\\lib\\site-packages\\sklearn\\linear_model\\_sag.py:328: ConvergenceWarning: The max_iter was reached which means the coef_ did not converge\n",
      "  warnings.warn(\"The max_iter was reached which means \"\n"
     ]
    },
    {
     "name": "stdout",
     "output_type": "stream",
     "text": [
      "[CV] END C=0.01, class_weight={1: 8.33}, max_iter=100, penalty=l2, solver=saga; total time=   0.1s\n"
     ]
    },
    {
     "name": "stderr",
     "output_type": "stream",
     "text": [
      "C:\\ProgramData\\Anaconda3\\lib\\site-packages\\sklearn\\linear_model\\_sag.py:328: ConvergenceWarning: The max_iter was reached which means the coef_ did not converge\n",
      "  warnings.warn(\"The max_iter was reached which means \"\n"
     ]
    },
    {
     "name": "stdout",
     "output_type": "stream",
     "text": [
      "[CV] END C=0.01, class_weight={1: 8.33}, max_iter=100, penalty=l2, solver=saga; total time=   0.1s\n"
     ]
    },
    {
     "name": "stderr",
     "output_type": "stream",
     "text": [
      "C:\\ProgramData\\Anaconda3\\lib\\site-packages\\sklearn\\linear_model\\_sag.py:328: ConvergenceWarning: The max_iter was reached which means the coef_ did not converge\n",
      "  warnings.warn(\"The max_iter was reached which means \"\n"
     ]
    },
    {
     "name": "stdout",
     "output_type": "stream",
     "text": [
      "[CV] END C=0.01, class_weight={1: 8.33}, max_iter=100, penalty=l2, solver=saga; total time=   0.1s\n"
     ]
    },
    {
     "name": "stderr",
     "output_type": "stream",
     "text": [
      "C:\\ProgramData\\Anaconda3\\lib\\site-packages\\sklearn\\linear_model\\_sag.py:328: ConvergenceWarning: The max_iter was reached which means the coef_ did not converge\n",
      "  warnings.warn(\"The max_iter was reached which means \"\n"
     ]
    },
    {
     "name": "stdout",
     "output_type": "stream",
     "text": [
      "[CV] END C=0.01, class_weight={1: 8.33}, max_iter=100, penalty=l2, solver=saga; total time=   0.1s\n"
     ]
    },
    {
     "name": "stderr",
     "output_type": "stream",
     "text": [
      "C:\\ProgramData\\Anaconda3\\lib\\site-packages\\sklearn\\linear_model\\_sag.py:328: ConvergenceWarning: The max_iter was reached which means the coef_ did not converge\n",
      "  warnings.warn(\"The max_iter was reached which means \"\n"
     ]
    },
    {
     "name": "stdout",
     "output_type": "stream",
     "text": [
      "[CV] END C=0.01, class_weight={1: 8.33}, max_iter=100, penalty=l2, solver=saga; total time=   0.1s\n"
     ]
    },
    {
     "name": "stderr",
     "output_type": "stream",
     "text": [
      "C:\\ProgramData\\Anaconda3\\lib\\site-packages\\sklearn\\linear_model\\_sag.py:328: ConvergenceWarning: The max_iter was reached which means the coef_ did not converge\n",
      "  warnings.warn(\"The max_iter was reached which means \"\n"
     ]
    },
    {
     "name": "stdout",
     "output_type": "stream",
     "text": [
      "[CV] END C=0.01, class_weight={1: 8.33}, max_iter=100, penalty=l2, solver=saga; total time=   0.1s\n"
     ]
    },
    {
     "name": "stderr",
     "output_type": "stream",
     "text": [
      "C:\\ProgramData\\Anaconda3\\lib\\site-packages\\sklearn\\linear_model\\_sag.py:328: ConvergenceWarning: The max_iter was reached which means the coef_ did not converge\n",
      "  warnings.warn(\"The max_iter was reached which means \"\n"
     ]
    },
    {
     "name": "stdout",
     "output_type": "stream",
     "text": [
      "[CV] END C=0.01, class_weight={1: 8.33}, max_iter=100, penalty=l2, solver=saga; total time=   0.1s\n",
      "[CV] END C=0.01, class_weight={1: 8.33}, max_iter=100, penalty=l2, solver=saga; total time=   0.0s\n"
     ]
    },
    {
     "name": "stderr",
     "output_type": "stream",
     "text": [
      "C:\\ProgramData\\Anaconda3\\lib\\site-packages\\sklearn\\linear_model\\_sag.py:328: ConvergenceWarning: The max_iter was reached which means the coef_ did not converge\n",
      "  warnings.warn(\"The max_iter was reached which means \"\n"
     ]
    },
    {
     "name": "stdout",
     "output_type": "stream",
     "text": [
      "[CV] END C=0.01, class_weight={1: 8.33}, max_iter=100, penalty=l2, solver=saga; total time=   0.1s\n"
     ]
    },
    {
     "name": "stderr",
     "output_type": "stream",
     "text": [
      "C:\\ProgramData\\Anaconda3\\lib\\site-packages\\sklearn\\linear_model\\_sag.py:328: ConvergenceWarning: The max_iter was reached which means the coef_ did not converge\n",
      "  warnings.warn(\"The max_iter was reached which means \"\n"
     ]
    },
    {
     "name": "stdout",
     "output_type": "stream",
     "text": [
      "[CV] END C=0.01, class_weight={1: 8.33}, max_iter=100, penalty=l2, solver=saga; total time=   0.1s\n",
      "[CV] END C=0.01, class_weight={1: 8.33}, max_iter=1000, penalty=l1, solver=liblinear; total time=   0.0s\n",
      "[CV] END C=0.01, class_weight={1: 8.33}, max_iter=1000, penalty=l1, solver=liblinear; total time=   0.0s\n",
      "[CV] END C=0.01, class_weight={1: 8.33}, max_iter=1000, penalty=l1, solver=liblinear; total time=   0.0s\n",
      "[CV] END C=0.01, class_weight={1: 8.33}, max_iter=1000, penalty=l1, solver=liblinear; total time=   0.0s\n",
      "[CV] END C=0.01, class_weight={1: 8.33}, max_iter=1000, penalty=l1, solver=liblinear; total time=   0.0s\n",
      "[CV] END C=0.01, class_weight={1: 8.33}, max_iter=1000, penalty=l1, solver=liblinear; total time=   0.0s\n",
      "[CV] END C=0.01, class_weight={1: 8.33}, max_iter=1000, penalty=l1, solver=liblinear; total time=   0.0s\n",
      "[CV] END C=0.01, class_weight={1: 8.33}, max_iter=1000, penalty=l1, solver=liblinear; total time=   0.0s\n",
      "[CV] END C=0.01, class_weight={1: 8.33}, max_iter=1000, penalty=l1, solver=liblinear; total time=   0.0s\n",
      "[CV] END C=0.01, class_weight={1: 8.33}, max_iter=1000, penalty=l1, solver=liblinear; total time=   0.0s"
     ]
    },
    {
     "name": "stderr",
     "output_type": "stream",
     "text": [
      "C:\\ProgramData\\Anaconda3\\lib\\site-packages\\sklearn\\linear_model\\_sag.py:328: ConvergenceWarning: The max_iter was reached which means the coef_ did not converge\n",
      "  warnings.warn(\"The max_iter was reached which means \"\n"
     ]
    },
    {
     "name": "stdout",
     "output_type": "stream",
     "text": [
      "\n",
      "[CV] END C=0.01, class_weight={1: 8.33}, max_iter=1000, penalty=l1, solver=saga; total time=   2.5s\n"
     ]
    },
    {
     "name": "stderr",
     "output_type": "stream",
     "text": [
      "C:\\ProgramData\\Anaconda3\\lib\\site-packages\\sklearn\\linear_model\\_sag.py:328: ConvergenceWarning: The max_iter was reached which means the coef_ did not converge\n",
      "  warnings.warn(\"The max_iter was reached which means \"\n"
     ]
    },
    {
     "name": "stdout",
     "output_type": "stream",
     "text": [
      "[CV] END C=0.01, class_weight={1: 8.33}, max_iter=1000, penalty=l1, solver=saga; total time=   2.6s\n"
     ]
    },
    {
     "name": "stderr",
     "output_type": "stream",
     "text": [
      "C:\\ProgramData\\Anaconda3\\lib\\site-packages\\sklearn\\linear_model\\_sag.py:328: ConvergenceWarning: The max_iter was reached which means the coef_ did not converge\n",
      "  warnings.warn(\"The max_iter was reached which means \"\n"
     ]
    },
    {
     "name": "stdout",
     "output_type": "stream",
     "text": [
      "[CV] END C=0.01, class_weight={1: 8.33}, max_iter=1000, penalty=l1, solver=saga; total time=   2.6s\n"
     ]
    },
    {
     "name": "stderr",
     "output_type": "stream",
     "text": [
      "C:\\ProgramData\\Anaconda3\\lib\\site-packages\\sklearn\\linear_model\\_sag.py:328: ConvergenceWarning: The max_iter was reached which means the coef_ did not converge\n",
      "  warnings.warn(\"The max_iter was reached which means \"\n"
     ]
    },
    {
     "name": "stdout",
     "output_type": "stream",
     "text": [
      "[CV] END C=0.01, class_weight={1: 8.33}, max_iter=1000, penalty=l1, solver=saga; total time=   2.6s\n"
     ]
    },
    {
     "name": "stderr",
     "output_type": "stream",
     "text": [
      "C:\\ProgramData\\Anaconda3\\lib\\site-packages\\sklearn\\linear_model\\_sag.py:328: ConvergenceWarning: The max_iter was reached which means the coef_ did not converge\n",
      "  warnings.warn(\"The max_iter was reached which means \"\n"
     ]
    },
    {
     "name": "stdout",
     "output_type": "stream",
     "text": [
      "[CV] END C=0.01, class_weight={1: 8.33}, max_iter=1000, penalty=l1, solver=saga; total time=   2.5s\n"
     ]
    },
    {
     "name": "stderr",
     "output_type": "stream",
     "text": [
      "C:\\ProgramData\\Anaconda3\\lib\\site-packages\\sklearn\\linear_model\\_sag.py:328: ConvergenceWarning: The max_iter was reached which means the coef_ did not converge\n",
      "  warnings.warn(\"The max_iter was reached which means \"\n"
     ]
    },
    {
     "name": "stdout",
     "output_type": "stream",
     "text": [
      "[CV] END C=0.01, class_weight={1: 8.33}, max_iter=1000, penalty=l1, solver=saga; total time=   2.7s\n"
     ]
    },
    {
     "name": "stderr",
     "output_type": "stream",
     "text": [
      "C:\\ProgramData\\Anaconda3\\lib\\site-packages\\sklearn\\linear_model\\_sag.py:328: ConvergenceWarning: The max_iter was reached which means the coef_ did not converge\n",
      "  warnings.warn(\"The max_iter was reached which means \"\n"
     ]
    },
    {
     "name": "stdout",
     "output_type": "stream",
     "text": [
      "[CV] END C=0.01, class_weight={1: 8.33}, max_iter=1000, penalty=l1, solver=saga; total time=   2.6s\n"
     ]
    },
    {
     "name": "stderr",
     "output_type": "stream",
     "text": [
      "C:\\ProgramData\\Anaconda3\\lib\\site-packages\\sklearn\\linear_model\\_sag.py:328: ConvergenceWarning: The max_iter was reached which means the coef_ did not converge\n",
      "  warnings.warn(\"The max_iter was reached which means \"\n"
     ]
    },
    {
     "name": "stdout",
     "output_type": "stream",
     "text": [
      "[CV] END C=0.01, class_weight={1: 8.33}, max_iter=1000, penalty=l1, solver=saga; total time=   2.5s\n"
     ]
    },
    {
     "name": "stderr",
     "output_type": "stream",
     "text": [
      "C:\\ProgramData\\Anaconda3\\lib\\site-packages\\sklearn\\linear_model\\_sag.py:328: ConvergenceWarning: The max_iter was reached which means the coef_ did not converge\n",
      "  warnings.warn(\"The max_iter was reached which means \"\n"
     ]
    },
    {
     "name": "stdout",
     "output_type": "stream",
     "text": [
      "[CV] END C=0.01, class_weight={1: 8.33}, max_iter=1000, penalty=l1, solver=saga; total time=   2.6s\n"
     ]
    },
    {
     "name": "stderr",
     "output_type": "stream",
     "text": [
      "C:\\ProgramData\\Anaconda3\\lib\\site-packages\\sklearn\\linear_model\\_sag.py:328: ConvergenceWarning: The max_iter was reached which means the coef_ did not converge\n",
      "  warnings.warn(\"The max_iter was reached which means \"\n"
     ]
    },
    {
     "name": "stdout",
     "output_type": "stream",
     "text": [
      "[CV] END C=0.01, class_weight={1: 8.33}, max_iter=1000, penalty=l1, solver=saga; total time=   2.6s\n",
      "[CV] END C=0.01, class_weight={1: 8.33}, max_iter=1000, penalty=l2, solver=liblinear; total time=   0.0s\n",
      "[CV] END C=0.01, class_weight={1: 8.33}, max_iter=1000, penalty=l2, solver=liblinear; total time=   0.0s\n",
      "[CV] END C=0.01, class_weight={1: 8.33}, max_iter=1000, penalty=l2, solver=liblinear; total time=   0.0s\n",
      "[CV] END C=0.01, class_weight={1: 8.33}, max_iter=1000, penalty=l2, solver=liblinear; total time=   0.0s\n",
      "[CV] END C=0.01, class_weight={1: 8.33}, max_iter=1000, penalty=l2, solver=liblinear; total time=   0.0s\n",
      "[CV] END C=0.01, class_weight={1: 8.33}, max_iter=1000, penalty=l2, solver=liblinear; total time=   0.0s\n",
      "[CV] END C=0.01, class_weight={1: 8.33}, max_iter=1000, penalty=l2, solver=liblinear; total time=   0.0s\n",
      "[CV] END C=0.01, class_weight={1: 8.33}, max_iter=1000, penalty=l2, solver=liblinear; total time=   0.0s\n",
      "[CV] END C=0.01, class_weight={1: 8.33}, max_iter=1000, penalty=l2, solver=liblinear; total time=   0.0s\n",
      "[CV] END C=0.01, class_weight={1: 8.33}, max_iter=1000, penalty=l2, solver=liblinear; total time=   0.0s\n"
     ]
    },
    {
     "name": "stderr",
     "output_type": "stream",
     "text": [
      "C:\\ProgramData\\Anaconda3\\lib\\site-packages\\sklearn\\linear_model\\_sag.py:328: ConvergenceWarning: The max_iter was reached which means the coef_ did not converge\n",
      "  warnings.warn(\"The max_iter was reached which means \"\n"
     ]
    },
    {
     "name": "stdout",
     "output_type": "stream",
     "text": [
      "[CV] END C=0.01, class_weight={1: 8.33}, max_iter=1000, penalty=l2, solver=saga; total time=   2.0s\n"
     ]
    },
    {
     "name": "stderr",
     "output_type": "stream",
     "text": [
      "C:\\ProgramData\\Anaconda3\\lib\\site-packages\\sklearn\\linear_model\\_sag.py:328: ConvergenceWarning: The max_iter was reached which means the coef_ did not converge\n",
      "  warnings.warn(\"The max_iter was reached which means \"\n"
     ]
    },
    {
     "name": "stdout",
     "output_type": "stream",
     "text": [
      "[CV] END C=0.01, class_weight={1: 8.33}, max_iter=1000, penalty=l2, solver=saga; total time=   2.0s\n"
     ]
    },
    {
     "name": "stderr",
     "output_type": "stream",
     "text": [
      "C:\\ProgramData\\Anaconda3\\lib\\site-packages\\sklearn\\linear_model\\_sag.py:328: ConvergenceWarning: The max_iter was reached which means the coef_ did not converge\n",
      "  warnings.warn(\"The max_iter was reached which means \"\n"
     ]
    },
    {
     "name": "stdout",
     "output_type": "stream",
     "text": [
      "[CV] END C=0.01, class_weight={1: 8.33}, max_iter=1000, penalty=l2, solver=saga; total time=   2.0s\n"
     ]
    },
    {
     "name": "stderr",
     "output_type": "stream",
     "text": [
      "C:\\ProgramData\\Anaconda3\\lib\\site-packages\\sklearn\\linear_model\\_sag.py:328: ConvergenceWarning: The max_iter was reached which means the coef_ did not converge\n",
      "  warnings.warn(\"The max_iter was reached which means \"\n"
     ]
    },
    {
     "name": "stdout",
     "output_type": "stream",
     "text": [
      "[CV] END C=0.01, class_weight={1: 8.33}, max_iter=1000, penalty=l2, solver=saga; total time=   2.0s\n"
     ]
    },
    {
     "name": "stderr",
     "output_type": "stream",
     "text": [
      "C:\\ProgramData\\Anaconda3\\lib\\site-packages\\sklearn\\linear_model\\_sag.py:328: ConvergenceWarning: The max_iter was reached which means the coef_ did not converge\n",
      "  warnings.warn(\"The max_iter was reached which means \"\n"
     ]
    },
    {
     "name": "stdout",
     "output_type": "stream",
     "text": [
      "[CV] END C=0.01, class_weight={1: 8.33}, max_iter=1000, penalty=l2, solver=saga; total time=   2.0s\n"
     ]
    },
    {
     "name": "stderr",
     "output_type": "stream",
     "text": [
      "C:\\ProgramData\\Anaconda3\\lib\\site-packages\\sklearn\\linear_model\\_sag.py:328: ConvergenceWarning: The max_iter was reached which means the coef_ did not converge\n",
      "  warnings.warn(\"The max_iter was reached which means \"\n"
     ]
    },
    {
     "name": "stdout",
     "output_type": "stream",
     "text": [
      "[CV] END C=0.01, class_weight={1: 8.33}, max_iter=1000, penalty=l2, solver=saga; total time=   2.0s\n"
     ]
    },
    {
     "name": "stderr",
     "output_type": "stream",
     "text": [
      "C:\\ProgramData\\Anaconda3\\lib\\site-packages\\sklearn\\linear_model\\_sag.py:328: ConvergenceWarning: The max_iter was reached which means the coef_ did not converge\n",
      "  warnings.warn(\"The max_iter was reached which means \"\n"
     ]
    },
    {
     "name": "stdout",
     "output_type": "stream",
     "text": [
      "[CV] END C=0.01, class_weight={1: 8.33}, max_iter=1000, penalty=l2, solver=saga; total time=   2.0s\n",
      "[CV] END C=0.01, class_weight={1: 8.33}, max_iter=1000, penalty=l2, solver=saga; total time=   0.0s\n"
     ]
    },
    {
     "name": "stderr",
     "output_type": "stream",
     "text": [
      "C:\\ProgramData\\Anaconda3\\lib\\site-packages\\sklearn\\linear_model\\_sag.py:328: ConvergenceWarning: The max_iter was reached which means the coef_ did not converge\n",
      "  warnings.warn(\"The max_iter was reached which means \"\n"
     ]
    },
    {
     "name": "stdout",
     "output_type": "stream",
     "text": [
      "[CV] END C=0.01, class_weight={1: 8.33}, max_iter=1000, penalty=l2, solver=saga; total time=   2.1s\n",
      "[CV] END C=0.01, class_weight={1: 8.33}, max_iter=1000, penalty=l2, solver=saga; total time=   2.1s\n"
     ]
    },
    {
     "name": "stderr",
     "output_type": "stream",
     "text": [
      "C:\\ProgramData\\Anaconda3\\lib\\site-packages\\sklearn\\linear_model\\_sag.py:328: ConvergenceWarning: The max_iter was reached which means the coef_ did not converge\n",
      "  warnings.warn(\"The max_iter was reached which means \"\n"
     ]
    }
   ],
   "source": [
    "results = {\n",
    "    'target' : [],\n",
    "    'best_cv_scores' : [],\n",
    "    'best_params' : [],\n",
    "    'AUC_train_score' : [],\n",
    "    'AUC_test_score' : [],\n",
    "    'train_f1_scores' : [],\n",
    "    'test_f1_scores' : [],\n",
    "    'train_precision_scores' : [], \n",
    "    'test_precision_scores' : [],\n",
    "    'train_recall_scores' : [],\n",
    "    'test_recall_scores' : []\n",
    "}\n",
    "\n",
    "scoring = {'AUC': 'roc_auc', 'Accuracy': make_scorer(accuracy_score)}\n",
    "\n",
    "\n",
    "#targets = ['crowddispersal','beatings', 'shootings', 'killings','violent_response']  \n",
    "targets = ['arrests']  \n",
    "\n",
    "features = gov_response.drop(columns=['id', 'country', 'ccode', 'region', 'location','protesteridentity', 'sources',\n",
    "       'notes', 'protester_id_type', 'protest_size_category', 'start_date', 'notes_clean', 'neg', 'neu', 'pos', 'compound',\n",
    "       'end_date', 'target', 'arrests', 'accomodation', 'beatings', 'protest_duration', 'pop_male', 'pop_female',\n",
    "       'crowddispersal', 'ignore', 'killings', 'shootings', 'violent_response','partipants_number'])\n",
    "\n",
    "\n",
    "for target in targets: \n",
    "\n",
    "    X = features\n",
    "    y = gov_response[target]\n",
    "    \n",
    "    logreg = LogisticRegression()\n",
    "\n",
    "    X_train, X_test, y_train, y_test = train_test_split(X, y, test_size=0.2, random_state=48)\n",
    "\n",
    "    ss = StandardScaler()\n",
    "    X_train_sc = ss.fit_transform(X_train)\n",
    "    X_test_sc = ss.transform(X_test)\n",
    "    \n",
    "    params = {\n",
    "    'penalty' : ['l1','l2'], \n",
    "    'C' : [.001, .01],\n",
    "    'solver' : ['liblinear', 'saga'],\n",
    "    'max_iter' : [100, 1000],\n",
    "    'class_weight' : [{1:0, 1:3.3}, {1:0, 1:5}, {1:0, 1:1}, {1:0,1:8.33}]\n",
    "    }\n",
    "\n",
    "    grid = GridSearchCV(\n",
    "        logreg, param_grid=params, cv=10, verbose=2, \n",
    "        scoring = {'AUC': 'roc_auc', 'Accuracy': make_scorer(accuracy_score)},\n",
    "        refit='AUC', \n",
    "        return_train_score=True\n",
    "    )\n",
    "\n",
    "    # fit grids\n",
    "    grid.fit(X_train_sc, y_train)\n",
    "    \n",
    "        \n",
    "    # save the model to disk\n",
    "    model_file = f'./models/04_no_ignore_{target}.pickle'\n",
    "    pickle.dump(grid, open(model_file, 'wb'))\n",
    "    \n",
    "    results['target'].append(target)\n",
    "\n",
    "    # append important grid results\n",
    "    results['best_params'].append(grid.best_params_)\n",
    "    results['best_cv_scores'].append(grid.best_score_)\n",
    "\n",
    "    # make predictions \n",
    "    train_preds = grid.predict(X_train_sc)\n",
    "    test_preds = grid.predict(X_test_sc)\n",
    "\n",
    "    # various classification metrics\n",
    "    # AUC scores \n",
    "    results['AUC_train_score'].append(roc_auc_score(y_train, train_preds))\n",
    "    results['AUC_test_score'].append(roc_auc_score(y_test, test_preds))\n",
    "\n",
    "    # f1 scores\n",
    "    results['train_f1_scores'].append(f1_score(y_train, train_preds))\n",
    "    results['test_f1_scores'].append(f1_score(y_test, test_preds))\n",
    "\n",
    "    # precision scores \n",
    "    results['train_precision_scores'].append(precision_score(y_train, train_preds))\n",
    "    results['test_precision_scores'].append(precision_score(y_test, test_preds))\n",
    "\n",
    "    # recall scores\n",
    "    results['train_recall_scores'].append(recall_score(y_train, train_preds))\n",
    "    results['test_recall_scores'].append(recall_score(y_test, test_preds))"
   ]
  },
  {
   "cell_type": "code",
   "execution_count": 19,
   "metadata": {
    "scrolled": true
   },
   "outputs": [
    {
     "data": {
      "text/html": [
       "<div>\n",
       "<style scoped>\n",
       "    .dataframe tbody tr th:only-of-type {\n",
       "        vertical-align: middle;\n",
       "    }\n",
       "\n",
       "    .dataframe tbody tr th {\n",
       "        vertical-align: top;\n",
       "    }\n",
       "\n",
       "    .dataframe thead th {\n",
       "        text-align: right;\n",
       "    }\n",
       "</style>\n",
       "<table border=\"1\" class=\"dataframe\">\n",
       "  <thead>\n",
       "    <tr style=\"text-align: right;\">\n",
       "      <th></th>\n",
       "      <th>target</th>\n",
       "      <th>best_cv_scores</th>\n",
       "      <th>best_params</th>\n",
       "      <th>AUC_train_score</th>\n",
       "      <th>AUC_test_score</th>\n",
       "      <th>train_f1_scores</th>\n",
       "      <th>test_f1_scores</th>\n",
       "      <th>train_precision_scores</th>\n",
       "      <th>test_precision_scores</th>\n",
       "      <th>train_recall_scores</th>\n",
       "      <th>test_recall_scores</th>\n",
       "    </tr>\n",
       "  </thead>\n",
       "  <tbody>\n",
       "    <tr>\n",
       "      <th>0</th>\n",
       "      <td>accomodation</td>\n",
       "      <td>0.725600</td>\n",
       "      <td>{'C': 0.01, 'class_weight': {1: 3.3}, 'max_ite...</td>\n",
       "      <td>0.667702</td>\n",
       "      <td>0.656146</td>\n",
       "      <td>0.447378</td>\n",
       "      <td>0.417740</td>\n",
       "      <td>0.363689</td>\n",
       "      <td>0.327354</td>\n",
       "      <td>0.581094</td>\n",
       "      <td>0.577075</td>\n",
       "    </tr>\n",
       "    <tr>\n",
       "      <th>1</th>\n",
       "      <td>crowddispersal</td>\n",
       "      <td>0.726764</td>\n",
       "      <td>{'C': 0.01, 'class_weight': {1: 1}, 'max_iter'...</td>\n",
       "      <td>0.610382</td>\n",
       "      <td>0.600093</td>\n",
       "      <td>0.804345</td>\n",
       "      <td>0.800578</td>\n",
       "      <td>0.727352</td>\n",
       "      <td>0.731514</td>\n",
       "      <td>0.899568</td>\n",
       "      <td>0.884043</td>\n",
       "    </tr>\n",
       "    <tr>\n",
       "      <th>2</th>\n",
       "      <td>beatings</td>\n",
       "      <td>0.684020</td>\n",
       "      <td>{'C': 0.01, 'class_weight': {1: 8.33}, 'max_it...</td>\n",
       "      <td>0.653017</td>\n",
       "      <td>0.624321</td>\n",
       "      <td>0.287923</td>\n",
       "      <td>0.268068</td>\n",
       "      <td>0.179952</td>\n",
       "      <td>0.168317</td>\n",
       "      <td>0.719807</td>\n",
       "      <td>0.658065</td>\n",
       "    </tr>\n",
       "    <tr>\n",
       "      <th>3</th>\n",
       "      <td>shootings</td>\n",
       "      <td>0.792876</td>\n",
       "      <td>{'C': 0.01, 'class_weight': {1: 8.33}, 'max_it...</td>\n",
       "      <td>0.723344</td>\n",
       "      <td>0.685700</td>\n",
       "      <td>0.376891</td>\n",
       "      <td>0.344486</td>\n",
       "      <td>0.241942</td>\n",
       "      <td>0.221338</td>\n",
       "      <td>0.852257</td>\n",
       "      <td>0.776536</td>\n",
       "    </tr>\n",
       "    <tr>\n",
       "      <th>4</th>\n",
       "      <td>killings</td>\n",
       "      <td>0.779378</td>\n",
       "      <td>{'C': 0.01, 'class_weight': {1: 8.33}, 'max_it...</td>\n",
       "      <td>0.720181</td>\n",
       "      <td>0.691660</td>\n",
       "      <td>0.350052</td>\n",
       "      <td>0.345781</td>\n",
       "      <td>0.224291</td>\n",
       "      <td>0.226040</td>\n",
       "      <td>0.796850</td>\n",
       "      <td>0.735294</td>\n",
       "    </tr>\n",
       "  </tbody>\n",
       "</table>\n",
       "</div>"
      ],
      "text/plain": [
       "           target  best_cv_scores  \\\n",
       "0    accomodation        0.725600   \n",
       "1  crowddispersal        0.726764   \n",
       "2        beatings        0.684020   \n",
       "3       shootings        0.792876   \n",
       "4        killings        0.779378   \n",
       "\n",
       "                                         best_params  AUC_train_score  \\\n",
       "0  {'C': 0.01, 'class_weight': {1: 3.3}, 'max_ite...         0.667702   \n",
       "1  {'C': 0.01, 'class_weight': {1: 1}, 'max_iter'...         0.610382   \n",
       "2  {'C': 0.01, 'class_weight': {1: 8.33}, 'max_it...         0.653017   \n",
       "3  {'C': 0.01, 'class_weight': {1: 8.33}, 'max_it...         0.723344   \n",
       "4  {'C': 0.01, 'class_weight': {1: 8.33}, 'max_it...         0.720181   \n",
       "\n",
       "   AUC_test_score  train_f1_scores  test_f1_scores  train_precision_scores  \\\n",
       "0        0.656146         0.447378        0.417740                0.363689   \n",
       "1        0.600093         0.804345        0.800578                0.727352   \n",
       "2        0.624321         0.287923        0.268068                0.179952   \n",
       "3        0.685700         0.376891        0.344486                0.241942   \n",
       "4        0.691660         0.350052        0.345781                0.224291   \n",
       "\n",
       "   test_precision_scores  train_recall_scores  test_recall_scores  \n",
       "0               0.327354             0.581094            0.577075  \n",
       "1               0.731514             0.899568            0.884043  \n",
       "2               0.168317             0.719807            0.658065  \n",
       "3               0.221338             0.852257            0.776536  \n",
       "4               0.226040             0.796850            0.735294  "
      ]
     },
     "execution_count": 19,
     "metadata": {},
     "output_type": "execute_result"
    }
   ],
   "source": [
    "results_df = pd.DataFrame(results)\n",
    "results_df"
   ]
  },
  {
   "cell_type": "code",
   "execution_count": 20,
   "metadata": {
    "scrolled": true
   },
   "outputs": [
    {
     "data": {
      "text/plain": [
       "[{'C': 0.01,\n",
       "  'class_weight': {1: 3.3},\n",
       "  'max_iter': 100,\n",
       "  'penalty': 'l2',\n",
       "  'solver': 'liblinear'},\n",
       " {'C': 0.01,\n",
       "  'class_weight': {1: 1},\n",
       "  'max_iter': 100,\n",
       "  'penalty': 'l2',\n",
       "  'solver': 'saga'},\n",
       " {'C': 0.01,\n",
       "  'class_weight': {1: 8.33},\n",
       "  'max_iter': 100,\n",
       "  'penalty': 'l2',\n",
       "  'solver': 'saga'},\n",
       " {'C': 0.01,\n",
       "  'class_weight': {1: 8.33},\n",
       "  'max_iter': 100,\n",
       "  'penalty': 'l1',\n",
       "  'solver': 'liblinear'},\n",
       " {'C': 0.01,\n",
       "  'class_weight': {1: 8.33},\n",
       "  'max_iter': 100,\n",
       "  'penalty': 'l2',\n",
       "  'solver': 'liblinear'}]"
      ]
     },
     "execution_count": 20,
     "metadata": {},
     "output_type": "execute_result"
    }
   ],
   "source": [
    "# best hyperparams\n",
    "results['best_params']"
   ]
  },
  {
   "cell_type": "markdown",
   "metadata": {},
   "source": [
    "## Results and Evaluation"
   ]
  },
  {
   "cell_type": "code",
   "execution_count": null,
   "metadata": {},
   "outputs": [],
   "source": []
  },
  {
   "cell_type": "code",
   "execution_count": null,
   "metadata": {},
   "outputs": [],
   "source": []
  },
  {
   "cell_type": "code",
   "execution_count": null,
   "metadata": {},
   "outputs": [],
   "source": []
  },
  {
   "cell_type": "code",
   "execution_count": null,
   "metadata": {},
   "outputs": [],
   "source": []
  },
  {
   "cell_type": "code",
   "execution_count": null,
   "metadata": {},
   "outputs": [],
   "source": []
  },
  {
   "cell_type": "code",
   "execution_count": null,
   "metadata": {},
   "outputs": [],
   "source": []
  },
  {
   "cell_type": "code",
   "execution_count": null,
   "metadata": {},
   "outputs": [],
   "source": []
  },
  {
   "cell_type": "code",
   "execution_count": null,
   "metadata": {},
   "outputs": [],
   "source": []
  },
  {
   "cell_type": "code",
   "execution_count": null,
   "metadata": {},
   "outputs": [],
   "source": []
  },
  {
   "cell_type": "code",
   "execution_count": null,
   "metadata": {},
   "outputs": [],
   "source": []
  }
 ],
 "metadata": {
  "kernelspec": {
   "display_name": "Python 3",
   "language": "python",
   "name": "python3"
  },
  "language_info": {
   "codemirror_mode": {
    "name": "ipython",
    "version": 3
   },
   "file_extension": ".py",
   "mimetype": "text/x-python",
   "name": "python",
   "nbconvert_exporter": "python",
   "pygments_lexer": "ipython3",
   "version": "3.8.3"
  }
 },
 "nbformat": 4,
 "nbformat_minor": 4
}
