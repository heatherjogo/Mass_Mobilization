{
 "cells": [
  {
   "cell_type": "markdown",
   "metadata": {},
   "source": [
    "# Mass Mobilization Project\n",
    "<img style=\"float: right;\" src=\"../images/man_with_hammer.png\" />\n",
    "\n",
    "### 02. Collecting external data, add Prosperity Index data\n",
    "\n",
    "The Legatum Institute is a London-based think-tank... who worked with more than 100 academics and experts around the world with particular expertise in each of the pillars of prosperity to develop an appropriate taxonomy of discrete elements and supporting indicators which, when combined, accurately capture prosperity in the world.\n",
    "- https://www.prosperity.com/about/methodology\n",
    "\n",
    "The 12 pillars created by the Legatum Institute to measure each country are:\n",
    " * Safety and Security\n",
    " * Personal Freedom\n",
    " * Governance\n",
    " * Social Capital\n",
    " * Investment Environment\n",
    " * Enterprise Conditions\n",
    " * Market Access & Infrastructure\n",
    " * Economic Quality\n",
    " * Living Conditions\n",
    " * Health\n",
    " * Education\n",
    " * Natural Environment\n",
    " \n",
    "A lot of work in this notebook is renaming country names in the downloaded Prosperity file to match the names of the protest rows in the Mass Protest data.\n",
    "\n",
    "Once that is completed, merge the data."
   ]
  },
  {
   "cell_type": "code",
   "execution_count": 1,
   "metadata": {},
   "outputs": [],
   "source": [
    "import pandas as pd\n",
    "import numpy as np\n",
    "\n",
    "import pickle"
   ]
  },
  {
   "cell_type": "code",
   "execution_count": 2,
   "metadata": {},
   "outputs": [
    {
     "data": {
      "text/html": [
       "<div>\n",
       "<style scoped>\n",
       "    .dataframe tbody tr th:only-of-type {\n",
       "        vertical-align: middle;\n",
       "    }\n",
       "\n",
       "    .dataframe tbody tr th {\n",
       "        vertical-align: top;\n",
       "    }\n",
       "\n",
       "    .dataframe thead th {\n",
       "        text-align: right;\n",
       "    }\n",
       "</style>\n",
       "<table border=\"1\" class=\"dataframe\">\n",
       "  <thead>\n",
       "    <tr style=\"text-align: right;\">\n",
       "      <th></th>\n",
       "      <th>id</th>\n",
       "      <th>country</th>\n",
       "      <th>ccode</th>\n",
       "      <th>year</th>\n",
       "      <th>region</th>\n",
       "      <th>protestnumber</th>\n",
       "      <th>startday</th>\n",
       "      <th>startmonth</th>\n",
       "      <th>startyear</th>\n",
       "      <th>endday</th>\n",
       "      <th>...</th>\n",
       "      <th>stateresponse7</th>\n",
       "      <th>sources</th>\n",
       "      <th>notes</th>\n",
       "      <th>protester_id_type</th>\n",
       "      <th>partipants_number</th>\n",
       "      <th>protest_size_category</th>\n",
       "      <th>PopMale</th>\n",
       "      <th>PopFemale</th>\n",
       "      <th>PopTotal</th>\n",
       "      <th>PopDensity</th>\n",
       "    </tr>\n",
       "  </thead>\n",
       "  <tbody>\n",
       "    <tr>\n",
       "      <th>0</th>\n",
       "      <td>201990001</td>\n",
       "      <td>Canada</td>\n",
       "      <td>20</td>\n",
       "      <td>1990</td>\n",
       "      <td>North America</td>\n",
       "      <td>1</td>\n",
       "      <td>15.0</td>\n",
       "      <td>1.0</td>\n",
       "      <td>1990.0</td>\n",
       "      <td>15.0</td>\n",
       "      <td>...</td>\n",
       "      <td>NaN</td>\n",
       "      <td>1. great canadian train journeys into history;...</td>\n",
       "      <td>canada s railway passenger system was finally ...</td>\n",
       "      <td>workers_unions</td>\n",
       "      <td>1000</td>\n",
       "      <td>1,000-4,999</td>\n",
       "      <td>13656.649</td>\n",
       "      <td>13884.674</td>\n",
       "      <td>27541.323</td>\n",
       "      <td>3.029</td>\n",
       "    </tr>\n",
       "    <tr>\n",
       "      <th>1</th>\n",
       "      <td>201990002</td>\n",
       "      <td>Canada</td>\n",
       "      <td>20</td>\n",
       "      <td>1990</td>\n",
       "      <td>North America</td>\n",
       "      <td>2</td>\n",
       "      <td>25.0</td>\n",
       "      <td>6.0</td>\n",
       "      <td>1990.0</td>\n",
       "      <td>25.0</td>\n",
       "      <td>...</td>\n",
       "      <td>NaN</td>\n",
       "      <td>1. autonomy s cry revived in quebec the new yo...</td>\n",
       "      <td>protestors were only identified as young peopl...</td>\n",
       "      <td>students_youth</td>\n",
       "      <td>1000</td>\n",
       "      <td>1,000-4,999</td>\n",
       "      <td>13656.649</td>\n",
       "      <td>13884.674</td>\n",
       "      <td>27541.323</td>\n",
       "      <td>3.029</td>\n",
       "    </tr>\n",
       "  </tbody>\n",
       "</table>\n",
       "<p>2 rows × 35 columns</p>\n",
       "</div>"
      ],
      "text/plain": [
       "          id country  ccode  year         region  protestnumber  startday  \\\n",
       "0  201990001  Canada     20  1990  North America              1      15.0   \n",
       "1  201990002  Canada     20  1990  North America              2      25.0   \n",
       "\n",
       "   startmonth  startyear  endday  ...  stateresponse7  \\\n",
       "0         1.0     1990.0    15.0  ...             NaN   \n",
       "1         6.0     1990.0    25.0  ...             NaN   \n",
       "\n",
       "                                             sources  \\\n",
       "0  1. great canadian train journeys into history;...   \n",
       "1  1. autonomy s cry revived in quebec the new yo...   \n",
       "\n",
       "                                               notes protester_id_type  \\\n",
       "0  canada s railway passenger system was finally ...    workers_unions   \n",
       "1  protestors were only identified as young peopl...    students_youth   \n",
       "\n",
       "  partipants_number protest_size_category    PopMale  PopFemale   PopTotal  \\\n",
       "0              1000           1,000-4,999  13656.649  13884.674  27541.323   \n",
       "1              1000           1,000-4,999  13656.649  13884.674  27541.323   \n",
       "\n",
       "  PopDensity  \n",
       "0      3.029  \n",
       "1      3.029  \n",
       "\n",
       "[2 rows x 35 columns]"
      ]
     },
     "execution_count": 2,
     "metadata": {},
     "output_type": "execute_result"
    }
   ],
   "source": [
    "mass =pd.read_pickle('../data/02a_added_population.pickle')\n",
    "\n",
    "mass.head(2)"
   ]
  },
  {
   "cell_type": "code",
   "execution_count": 3,
   "metadata": {},
   "outputs": [
    {
     "name": "stdout",
     "output_type": "stream",
     "text": [
      "There are 166 countries in the mass protest dataframe.\n"
     ]
    }
   ],
   "source": [
    "print (f'There are { len(set(list(mass[\"country\"]))) } countries in the mass protest dataframe.')"
   ]
  },
  {
   "cell_type": "markdown",
   "metadata": {},
   "source": [
    "---\n",
    "Load Prosperity Index data from first sheet of Prosperity Excel file."
   ]
  },
  {
   "cell_type": "code",
   "execution_count": 4,
   "metadata": {},
   "outputs": [],
   "source": [
    "country_PI_df = pd.read_excel('../source/Legatum_Prosperity_Index_Full_2020_Data_Set.xlsx', sheet_name=0)"
   ]
  },
  {
   "cell_type": "code",
   "execution_count": 5,
   "metadata": {},
   "outputs": [
    {
     "name": "stdout",
     "output_type": "stream",
     "text": [
      "The Prosperity Index contains scores on 167 countries.\n"
     ]
    }
   ],
   "source": [
    "print (f'The Prosperity Index contains scores on {country_PI_df.shape[0]} countries.')"
   ]
  },
  {
   "cell_type": "code",
   "execution_count": 6,
   "metadata": {},
   "outputs": [
    {
     "data": {
      "text/html": [
       "<div>\n",
       "<style scoped>\n",
       "    .dataframe tbody tr th:only-of-type {\n",
       "        vertical-align: middle;\n",
       "    }\n",
       "\n",
       "    .dataframe tbody tr th {\n",
       "        vertical-align: top;\n",
       "    }\n",
       "\n",
       "    .dataframe thead th {\n",
       "        text-align: right;\n",
       "    }\n",
       "</style>\n",
       "<table border=\"1\" class=\"dataframe\">\n",
       "  <thead>\n",
       "    <tr style=\"text-align: right;\">\n",
       "      <th></th>\n",
       "      <th>area_name</th>\n",
       "      <th>area_code</th>\n",
       "      <th>area_group</th>\n",
       "      <th>rank_2007</th>\n",
       "      <th>rank_2008</th>\n",
       "      <th>rank_2009</th>\n",
       "      <th>rank_2010</th>\n",
       "      <th>rank_2011</th>\n",
       "      <th>rank_2012</th>\n",
       "      <th>rank_2013</th>\n",
       "      <th>...</th>\n",
       "      <th>score_2011</th>\n",
       "      <th>score_2012</th>\n",
       "      <th>score_2013</th>\n",
       "      <th>score_2014</th>\n",
       "      <th>score_2015</th>\n",
       "      <th>score_2016</th>\n",
       "      <th>score_2017</th>\n",
       "      <th>score_2018</th>\n",
       "      <th>score_2019</th>\n",
       "      <th>score_2020</th>\n",
       "    </tr>\n",
       "  </thead>\n",
       "  <tbody>\n",
       "    <tr>\n",
       "      <th>0</th>\n",
       "      <td>Afghanistan</td>\n",
       "      <td>AFG</td>\n",
       "      <td>Asia-Pacific</td>\n",
       "      <td>163</td>\n",
       "      <td>163</td>\n",
       "      <td>162</td>\n",
       "      <td>161</td>\n",
       "      <td>162</td>\n",
       "      <td>161</td>\n",
       "      <td>160</td>\n",
       "      <td>...</td>\n",
       "      <td>34.018804</td>\n",
       "      <td>33.529762</td>\n",
       "      <td>34.848416</td>\n",
       "      <td>35.455467</td>\n",
       "      <td>33.878693</td>\n",
       "      <td>34.122529</td>\n",
       "      <td>34.704901</td>\n",
       "      <td>33.234143</td>\n",
       "      <td>33.607822</td>\n",
       "      <td>34.350055</td>\n",
       "    </tr>\n",
       "    <tr>\n",
       "      <th>1</th>\n",
       "      <td>Albania</td>\n",
       "      <td>ALB</td>\n",
       "      <td>Eastern Europe</td>\n",
       "      <td>74</td>\n",
       "      <td>75</td>\n",
       "      <td>76</td>\n",
       "      <td>67</td>\n",
       "      <td>66</td>\n",
       "      <td>65</td>\n",
       "      <td>66</td>\n",
       "      <td>...</td>\n",
       "      <td>57.100940</td>\n",
       "      <td>57.345438</td>\n",
       "      <td>57.155699</td>\n",
       "      <td>57.095382</td>\n",
       "      <td>57.409473</td>\n",
       "      <td>57.699371</td>\n",
       "      <td>57.855046</td>\n",
       "      <td>59.182053</td>\n",
       "      <td>60.132551</td>\n",
       "      <td>59.573636</td>\n",
       "    </tr>\n",
       "    <tr>\n",
       "      <th>2</th>\n",
       "      <td>Algeria</td>\n",
       "      <td>DZA</td>\n",
       "      <td>Middle East and North Africa</td>\n",
       "      <td>107</td>\n",
       "      <td>109</td>\n",
       "      <td>107</td>\n",
       "      <td>107</td>\n",
       "      <td>103</td>\n",
       "      <td>110</td>\n",
       "      <td>111</td>\n",
       "      <td>...</td>\n",
       "      <td>50.207155</td>\n",
       "      <td>48.905687</td>\n",
       "      <td>48.401319</td>\n",
       "      <td>49.657271</td>\n",
       "      <td>49.944818</td>\n",
       "      <td>50.026566</td>\n",
       "      <td>49.876850</td>\n",
       "      <td>50.919671</td>\n",
       "      <td>51.913637</td>\n",
       "      <td>51.869120</td>\n",
       "    </tr>\n",
       "  </tbody>\n",
       "</table>\n",
       "<p>3 rows × 31 columns</p>\n",
       "</div>"
      ],
      "text/plain": [
       "     area_name area_code                    area_group  rank_2007  rank_2008  \\\n",
       "0  Afghanistan       AFG                  Asia-Pacific        163        163   \n",
       "1      Albania       ALB                Eastern Europe         74         75   \n",
       "2      Algeria       DZA  Middle East and North Africa        107        109   \n",
       "\n",
       "   rank_2009  rank_2010  rank_2011  rank_2012  rank_2013  ...  score_2011  \\\n",
       "0        162        161        162        161        160  ...   34.018804   \n",
       "1         76         67         66         65         66  ...   57.100940   \n",
       "2        107        107        103        110        111  ...   50.207155   \n",
       "\n",
       "   score_2012  score_2013  score_2014  score_2015  score_2016  score_2017  \\\n",
       "0   33.529762   34.848416   35.455467   33.878693   34.122529   34.704901   \n",
       "1   57.345438   57.155699   57.095382   57.409473   57.699371   57.855046   \n",
       "2   48.905687   48.401319   49.657271   49.944818   50.026566   49.876850   \n",
       "\n",
       "   score_2018  score_2019  score_2020  \n",
       "0   33.234143   33.607822   34.350055  \n",
       "1   59.182053   60.132551   59.573636  \n",
       "2   50.919671   51.913637   51.869120  \n",
       "\n",
       "[3 rows x 31 columns]"
      ]
     },
     "execution_count": 6,
     "metadata": {},
     "output_type": "execute_result"
    }
   ],
   "source": [
    "country_PI_df.head(3)"
   ]
  },
  {
   "cell_type": "markdown",
   "metadata": {},
   "source": [
    "Change dataframe to only contain country name, and the overall Prosperity Index score from 2016 (the most recently calculated score.)"
   ]
  },
  {
   "cell_type": "code",
   "execution_count": 7,
   "metadata": {},
   "outputs": [],
   "source": [
    "country_PI_df = country_PI_df[['area_name','score_2020']]\n",
    "country_PI_df.columns = ['country', 'prosperity_2020']"
   ]
  },
  {
   "cell_type": "code",
   "execution_count": 9,
   "metadata": {},
   "outputs": [
    {
     "data": {
      "text/html": [
       "<div>\n",
       "<style scoped>\n",
       "    .dataframe tbody tr th:only-of-type {\n",
       "        vertical-align: middle;\n",
       "    }\n",
       "\n",
       "    .dataframe tbody tr th {\n",
       "        vertical-align: top;\n",
       "    }\n",
       "\n",
       "    .dataframe thead th {\n",
       "        text-align: right;\n",
       "    }\n",
       "</style>\n",
       "<table border=\"1\" class=\"dataframe\">\n",
       "  <thead>\n",
       "    <tr style=\"text-align: right;\">\n",
       "      <th></th>\n",
       "      <th>prosperity_2020</th>\n",
       "    </tr>\n",
       "  </thead>\n",
       "  <tbody>\n",
       "    <tr>\n",
       "      <th>count</th>\n",
       "      <td>167.000000</td>\n",
       "    </tr>\n",
       "    <tr>\n",
       "      <th>mean</th>\n",
       "      <td>57.507638</td>\n",
       "    </tr>\n",
       "    <tr>\n",
       "      <th>std</th>\n",
       "      <td>13.455106</td>\n",
       "    </tr>\n",
       "    <tr>\n",
       "      <th>min</th>\n",
       "      <td>27.888813</td>\n",
       "    </tr>\n",
       "    <tr>\n",
       "      <th>25%</th>\n",
       "      <td>46.866471</td>\n",
       "    </tr>\n",
       "    <tr>\n",
       "      <th>50%</th>\n",
       "      <td>56.881807</td>\n",
       "    </tr>\n",
       "    <tr>\n",
       "      <th>75%</th>\n",
       "      <td>66.859066</td>\n",
       "    </tr>\n",
       "    <tr>\n",
       "      <th>max</th>\n",
       "      <td>84.368117</td>\n",
       "    </tr>\n",
       "  </tbody>\n",
       "</table>\n",
       "</div>"
      ],
      "text/plain": [
       "       prosperity_2020\n",
       "count       167.000000\n",
       "mean         57.507638\n",
       "std          13.455106\n",
       "min          27.888813\n",
       "25%          46.866471\n",
       "50%          56.881807\n",
       "75%          66.859066\n",
       "max          84.368117"
      ]
     },
     "execution_count": 9,
     "metadata": {},
     "output_type": "execute_result"
    }
   ],
   "source": [
    "country_PI_df.describe()\n"
   ]
  },
  {
   "cell_type": "markdown",
   "metadata": {},
   "source": [
    "### Compare country name in Prosperity Index to Mass Protest data\n",
    "\n",
    "The country names in the Prosperity Index does not all match the 166 countries in the larger mass protest dataframe.\n",
    "\n",
    "Loop through both dataframes to identify any discrepancies."
   ]
  },
  {
   "cell_type": "code",
   "execution_count": 92,
   "metadata": {},
   "outputs": [
    {
     "data": {
      "text/plain": [
       "['Bhutan',\n",
       " 'Bosnia',\n",
       " 'Cape Verde',\n",
       " 'Congo Brazzaville',\n",
       " 'Congo Kinshasa',\n",
       " 'Czech Republic',\n",
       " 'Czechoslovakia',\n",
       " 'Gambia',\n",
       " 'Germany East',\n",
       " 'Germany West',\n",
       " 'Ivory Coast',\n",
       " 'Kosovo',\n",
       " 'Macedonia',\n",
       " 'North Korea',\n",
       " 'Serbia and Montenegro',\n",
       " 'Slovak Republic',\n",
       " 'Swaziland',\n",
       " 'Taiwan',\n",
       " 'Timor Leste',\n",
       " 'USSR',\n",
       " 'United Arab Emirate',\n",
       " 'Yugoslavia']"
      ]
     },
     "execution_count": 92,
     "metadata": {},
     "output_type": "execute_result"
    }
   ],
   "source": [
    "prosperity_countries = sorted(list(country_PI_df['country']))\n",
    "mass_countries = sorted(list(mass['country'].value_counts().index))\n",
    "\n",
    "mass_not_prosperity = []\n",
    "prosperity_not_in_mass = []\n",
    "\n",
    "for country in mass_countries:\n",
    "    if country not in prosperity_countries:\n",
    "        mass_not_prosperity.append(country)\n",
    "        \n",
    "for country in prosperity_countries:\n",
    "    if country not in mass_countries:\n",
    "        prosperity_not_in_mass.append(country)\n",
    "        \n",
    "mass_not_prosperity"
   ]
  },
  {
   "cell_type": "code",
   "execution_count": 93,
   "metadata": {},
   "outputs": [
    {
     "data": {
      "text/plain": [
       "['Australia',\n",
       " 'Belize',\n",
       " 'Bosnia and Herzegovina',\n",
       " 'Cabo Verde',\n",
       " 'Congo',\n",
       " 'Czechia',\n",
       " \"Côte d'Ivoire\",\n",
       " 'Democratic Republic of Congo',\n",
       " 'Eswatini',\n",
       " 'Hong Kong',\n",
       " 'Iceland',\n",
       " 'Israel',\n",
       " 'Malta',\n",
       " 'New Zealand',\n",
       " 'North Macedonia',\n",
       " 'Seychelles',\n",
       " 'Slovakia',\n",
       " 'São Tomé and Príncipe',\n",
       " 'Taiwan, China',\n",
       " 'The Gambia',\n",
       " 'Trinidad and Tobago',\n",
       " 'United Arab Emirates',\n",
       " 'United States']"
      ]
     },
     "execution_count": 93,
     "metadata": {},
     "output_type": "execute_result"
    }
   ],
   "source": [
    "prosperity_not_in_mass"
   ]
  },
  {
   "cell_type": "markdown",
   "metadata": {},
   "source": [
    "---\n",
    "**Bhutan**\n",
    "\n",
    "Bhutan is not included in the Prosperity Index.\n",
    "\n",
    "From the Legatum Institute [FAQ](https://www.prosperity.com/about/faqs) \n",
    "\n",
    ">For some countries in the world there is a lack of available credible data and we have covered over 99% of the world’s population in the Index. To maintain a high level of quality, we only include countries that have data available for at least 50% of our indicators. \n",
    "\n",
    "Bhutan has 19 blank protest rows, and only two rows with actual protest data. We could assign the same Prosperity score as Nepal since they are neighboring countries, or just drop."
   ]
  },
  {
   "cell_type": "code",
   "execution_count": 94,
   "metadata": {},
   "outputs": [
    {
     "data": {
      "text/plain": [
       "84     1\n",
       "100    1\n",
       "Name: partipants_number, dtype: int64"
      ]
     },
     "execution_count": 94,
     "metadata": {},
     "output_type": "execute_result"
    }
   ],
   "source": [
    "mass[mass['country']=='Bhutan']['partipants_number'].value_counts()"
   ]
  },
  {
   "cell_type": "code",
   "execution_count": 95,
   "metadata": {},
   "outputs": [
    {
     "data": {
      "text/plain": [
       "Index(['id', 'country', 'ccode', 'year', 'region', 'protestnumber', 'startday',\n",
       "       'startmonth', 'startyear', 'endday', 'endmonth', 'endyear',\n",
       "       'protesterviolence', 'location', 'protesteridentity',\n",
       "       'protesterdemand1', 'protesterdemand2', 'protesterdemand3',\n",
       "       'protesterdemand4', 'stateresponse1', 'stateresponse2',\n",
       "       'stateresponse3', 'stateresponse4', 'stateresponse5', 'stateresponse6',\n",
       "       'stateresponse7', 'sources', 'notes', 'protester_id_type',\n",
       "       'partipants_number', 'protest_size_category', 'PopMale', 'PopFemale',\n",
       "       'PopTotal', 'PopDensity'],\n",
       "      dtype='object')"
      ]
     },
     "execution_count": 95,
     "metadata": {},
     "output_type": "execute_result"
    }
   ],
   "source": [
    "mass.columns"
   ]
  },
  {
   "cell_type": "markdown",
   "metadata": {},
   "source": [
    "Rename Bosnia and Herzegovina to just **Bosnia** to match mass protest dataframe."
   ]
  },
  {
   "cell_type": "code",
   "execution_count": 96,
   "metadata": {},
   "outputs": [
    {
     "data": {
      "text/html": [
       "<div>\n",
       "<style scoped>\n",
       "    .dataframe tbody tr th:only-of-type {\n",
       "        vertical-align: middle;\n",
       "    }\n",
       "\n",
       "    .dataframe tbody tr th {\n",
       "        vertical-align: top;\n",
       "    }\n",
       "\n",
       "    .dataframe thead th {\n",
       "        text-align: right;\n",
       "    }\n",
       "</style>\n",
       "<table border=\"1\" class=\"dataframe\">\n",
       "  <thead>\n",
       "    <tr style=\"text-align: right;\">\n",
       "      <th></th>\n",
       "      <th>country</th>\n",
       "      <th>prosperity_2020</th>\n",
       "    </tr>\n",
       "  </thead>\n",
       "  <tbody>\n",
       "    <tr>\n",
       "      <th>16</th>\n",
       "      <td>Bosnia and Herzegovina</td>\n",
       "      <td>57.998273</td>\n",
       "    </tr>\n",
       "  </tbody>\n",
       "</table>\n",
       "</div>"
      ],
      "text/plain": [
       "                   country  prosperity_2020\n",
       "16  Bosnia and Herzegovina        57.998273"
      ]
     },
     "execution_count": 96,
     "metadata": {},
     "output_type": "execute_result"
    }
   ],
   "source": [
    "country_PI_df[country_PI_df['country']=='Bosnia and Herzegovina']"
   ]
  },
  {
   "cell_type": "code",
   "execution_count": 97,
   "metadata": {},
   "outputs": [],
   "source": [
    "country_PI_df['country'] = country_PI_df['country'].str.replace('Bosnia and Herzegovina', 'Bosnia')"
   ]
  },
  {
   "cell_type": "markdown",
   "metadata": {},
   "source": [
    "**Cape Verde** is also known as Cabo Verde. The mass dataframe contains Cape Verde"
   ]
  },
  {
   "cell_type": "code",
   "execution_count": 98,
   "metadata": {},
   "outputs": [],
   "source": [
    "country_PI_df['country'] = country_PI_df['country'].str.replace('Cabo Verde', 'Cape Verde')"
   ]
  },
  {
   "cell_type": "markdown",
   "metadata": {},
   "source": [
    "**Congo**\n",
    "\n",
    "Mass protest dataframe contains both:\n",
    "* Congo Brazzaville\n",
    "* Congo Kinshasa\n",
    "\n",
    "The Prosperity Index contains values for:\n",
    "* Congo\n",
    "* Democratic Republic of the Congo\n",
    "\n",
    "Since Kinshasa is the capital of the Democratic Republic of the Congo, rename the Prosperity Index label as Congo Kinshasa.\n",
    "\n",
    "Brazzaville is the capital of the Republic of the Congo, so rename the Prosperity Index label to Congo Brazzaville"
   ]
  },
  {
   "cell_type": "code",
   "execution_count": 99,
   "metadata": {},
   "outputs": [],
   "source": [
    "country_PI_df.loc[country_PI_df['country'] == 'Congo' , 'country'] = 'Congo Brazzaville'\n",
    "                \n",
    "country_PI_df['country'] = country_PI_df['country'].str.replace('Democratic Republic of Congo', 'Congo Kinshasa')"
   ]
  },
  {
   "cell_type": "markdown",
   "metadata": {},
   "source": [
    "**Czechia**\n",
    "\n",
    "Mass protest dataframe contains both:\n",
    "\n",
    "* Czech Republic\n",
    "* Czechoslovakia\n",
    "while Prosperity contains a single **Czechia** score.\n",
    "\n",
    "Perform same operations as to the Congo score.\n",
    "Assign the single Czechia score to Czech Republic, then create a new row with the same Prosperity score as Czechoslovakia."
   ]
  },
  {
   "cell_type": "code",
   "execution_count": 100,
   "metadata": {},
   "outputs": [],
   "source": [
    "country_PI_df['country'] = country_PI_df['country'].str.replace('Czechia', 'Czech Republic')\n",
    "\n",
    "#Create new row for Czechoslovakia\n",
    "country_PI_df.loc[country_PI_df.shape[0]] = ['Czechoslovakia' , country_PI_df[country_PI_df['country']=='Czech Republic']['prosperity_2020'].item() ]"
   ]
  },
  {
   "cell_type": "code",
   "execution_count": 101,
   "metadata": {},
   "outputs": [
    {
     "data": {
      "text/html": [
       "<div>\n",
       "<style scoped>\n",
       "    .dataframe tbody tr th:only-of-type {\n",
       "        vertical-align: middle;\n",
       "    }\n",
       "\n",
       "    .dataframe tbody tr th {\n",
       "        vertical-align: top;\n",
       "    }\n",
       "\n",
       "    .dataframe thead th {\n",
       "        text-align: right;\n",
       "    }\n",
       "</style>\n",
       "<table border=\"1\" class=\"dataframe\">\n",
       "  <thead>\n",
       "    <tr style=\"text-align: right;\">\n",
       "      <th></th>\n",
       "      <th>country</th>\n",
       "      <th>prosperity_2020</th>\n",
       "    </tr>\n",
       "  </thead>\n",
       "  <tbody>\n",
       "    <tr>\n",
       "      <th>165</th>\n",
       "      <td>Zambia</td>\n",
       "      <td>47.509684</td>\n",
       "    </tr>\n",
       "    <tr>\n",
       "      <th>166</th>\n",
       "      <td>Zimbabwe</td>\n",
       "      <td>42.977587</td>\n",
       "    </tr>\n",
       "    <tr>\n",
       "      <th>167</th>\n",
       "      <td>Czechoslovakia</td>\n",
       "      <td>73.124612</td>\n",
       "    </tr>\n",
       "  </tbody>\n",
       "</table>\n",
       "</div>"
      ],
      "text/plain": [
       "            country  prosperity_2020\n",
       "165          Zambia        47.509684\n",
       "166        Zimbabwe        42.977587\n",
       "167  Czechoslovakia        73.124612"
      ]
     },
     "execution_count": 101,
     "metadata": {},
     "output_type": "execute_result"
    }
   ],
   "source": [
    "country_PI_df.tail(3)"
   ]
  },
  {
   "cell_type": "markdown",
   "metadata": {},
   "source": [
    "**Gambia** is identified as The Gambia in the Prosperity Index. Rename to simply Gandia to merge correctly with the mass protest dataframe."
   ]
  },
  {
   "cell_type": "code",
   "execution_count": 102,
   "metadata": {},
   "outputs": [],
   "source": [
    "country_PI_df['country'] = country_PI_df['country'].str.replace('The Gambia', 'Gambia')"
   ]
  },
  {
   "cell_type": "markdown",
   "metadata": {},
   "source": [
    "Mass protest dataframe contains protest data for:\n",
    "* Germany East\n",
    "* Germany West\n",
    "* Germany\n",
    "\n",
    "while Prosperity contains a single **Germany** score.\n",
    "\n",
    "Create records for East and West Germany scores for a clean merge operation later."
   ]
  },
  {
   "cell_type": "code",
   "execution_count": 103,
   "metadata": {},
   "outputs": [],
   "source": [
    "#Create new row for Germany East\n",
    "country_PI_df.loc[country_PI_df.shape[0]] = ['Germany East' , country_PI_df[country_PI_df['country']=='Germany']['prosperity_2020'].item() ]\n",
    "\n",
    "#Create new row for Germany West\n",
    "country_PI_df.loc[country_PI_df.shape[0]] = ['Germany West' , country_PI_df[country_PI_df['country']=='Germany']['prosperity_2020'].item() ]"
   ]
  },
  {
   "cell_type": "markdown",
   "metadata": {},
   "source": [
    "**Ivory Coast** is identified as Côte d'Ivoire in the Prosperity Index. Rename to merge correctly with the mass protest dataframe."
   ]
  },
  {
   "cell_type": "code",
   "execution_count": 104,
   "metadata": {},
   "outputs": [],
   "source": [
    "country_PI_df['country'] = country_PI_df['country'].str.replace(\"Côte d'Ivoire\", 'Ivory Coast')"
   ]
  },
  {
   "cell_type": "markdown",
   "metadata": {},
   "source": [
    "**Kosovo** is in Mass protest data but has no Prosperity score.\n",
    "\n",
    "[Independence of Kosovo](https://en.wikipedia.org/wiki/International_recognition_of_Kosovo) is disputed, but it declared independence from Serbia's in 2008.\n",
    "\n",
    "\n",
    "\n",
    "Assign Serbia's Prosperity score."
   ]
  },
  {
   "cell_type": "code",
   "execution_count": 105,
   "metadata": {},
   "outputs": [],
   "source": [
    "#Create new row for Kosovo by copying the score for Serbia.\n",
    "country_PI_df.loc[country_PI_df.shape[0]] = ['Kosovo' , country_PI_df[country_PI_df['country']=='Serbia']['prosperity_2020'].item() ]"
   ]
  },
  {
   "cell_type": "markdown",
   "metadata": {},
   "source": [
    "**North Macedonia** was known as Macedonia until February 2019.  Rename North Macedonia in Prosperity Index to Macedonia to match with mass protest dataframe.\n",
    "https://en.wikipedia.org/wiki/North_Macedonia"
   ]
  },
  {
   "cell_type": "code",
   "execution_count": 106,
   "metadata": {},
   "outputs": [],
   "source": [
    "country_PI_df['country'] = country_PI_df['country'].str.replace('North Macedonia', 'Macedonia')"
   ]
  },
  {
   "cell_type": "markdown",
   "metadata": {},
   "source": [
    "**North Korea** does not have a Prosperity score.  From the 2017 Foreward:\n",
    "'..because of conflict or oppression we do not have the data to report on them.\n",
    "These include Myanmar, North Korea and Syria'\n",
    "\n",
    "https://prosperitysite.s3-accelerate.amazonaws.com/3515/1187/1128/Legatum_Prosperity_Index_2017.pdf\n",
    "\n",
    "Create a score with that is one standard deviation below the mean. Assuming normal distribution this would be approx to 34%"
   ]
  },
  {
   "cell_type": "code",
   "execution_count": 107,
   "metadata": {},
   "outputs": [
    {
     "data": {
      "text/plain": [
       "50       4\n",
       "200      2\n",
       "100      1\n",
       "30000    1\n",
       "Name: partipants_number, dtype: int64"
      ]
     },
     "execution_count": 107,
     "metadata": {},
     "output_type": "execute_result"
    }
   ],
   "source": [
    "mass[mass['country']=='North Korea']['partipants_number'].value_counts()"
   ]
  },
  {
   "cell_type": "markdown",
   "metadata": {},
   "source": [
    "North Korea has 8 rows with valid protest data."
   ]
  },
  {
   "cell_type": "code",
   "execution_count": 108,
   "metadata": {},
   "outputs": [
    {
     "data": {
      "text/html": [
       "<div>\n",
       "<style scoped>\n",
       "    .dataframe tbody tr th:only-of-type {\n",
       "        vertical-align: middle;\n",
       "    }\n",
       "\n",
       "    .dataframe tbody tr th {\n",
       "        vertical-align: top;\n",
       "    }\n",
       "\n",
       "    .dataframe thead th {\n",
       "        text-align: right;\n",
       "    }\n",
       "</style>\n",
       "<table border=\"1\" class=\"dataframe\">\n",
       "  <thead>\n",
       "    <tr style=\"text-align: right;\">\n",
       "      <th></th>\n",
       "      <th>prosperity_2020</th>\n",
       "    </tr>\n",
       "  </thead>\n",
       "  <tbody>\n",
       "    <tr>\n",
       "      <th>count</th>\n",
       "      <td>171.000000</td>\n",
       "    </tr>\n",
       "    <tr>\n",
       "      <th>mean</th>\n",
       "      <td>57.903588</td>\n",
       "    </tr>\n",
       "    <tr>\n",
       "      <th>std</th>\n",
       "      <td>13.591698</td>\n",
       "    </tr>\n",
       "    <tr>\n",
       "      <th>min</th>\n",
       "      <td>27.888813</td>\n",
       "    </tr>\n",
       "    <tr>\n",
       "      <th>25%</th>\n",
       "      <td>47.111662</td>\n",
       "    </tr>\n",
       "    <tr>\n",
       "      <th>50%</th>\n",
       "      <td>57.093573</td>\n",
       "    </tr>\n",
       "    <tr>\n",
       "      <th>75%</th>\n",
       "      <td>67.408141</td>\n",
       "    </tr>\n",
       "    <tr>\n",
       "      <th>max</th>\n",
       "      <td>84.368117</td>\n",
       "    </tr>\n",
       "  </tbody>\n",
       "</table>\n",
       "</div>"
      ],
      "text/plain": [
       "       prosperity_2020\n",
       "count       171.000000\n",
       "mean         57.903588\n",
       "std          13.591698\n",
       "min          27.888813\n",
       "25%          47.111662\n",
       "50%          57.093573\n",
       "75%          67.408141\n",
       "max          84.368117"
      ]
     },
     "execution_count": 108,
     "metadata": {},
     "output_type": "execute_result"
    }
   ],
   "source": [
    "country_PI_df.describe()"
   ]
  },
  {
   "cell_type": "code",
   "execution_count": 109,
   "metadata": {},
   "outputs": [],
   "source": [
    "#Create new row for North Korea\n",
    "country_PI_df.loc[country_PI_df.shape[0]] = ['North Korea' , country_PI_df['prosperity_2020'].mean() - np.std(country_PI_df['prosperity_2020']) ]"
   ]
  },
  {
   "cell_type": "markdown",
   "metadata": {},
   "source": [
    "**Serbia and Montenegro**\n",
    "\n",
    "Mass protest contains protest data for the following:\n",
    "* Serbia\n",
    "* Montenegro\n",
    "* Serbia and Montenegro\n",
    "\n",
    "The Prosperity Index only contains two scores, one for Serbia and one for Montenegro.  Both values are similar, but create an average of the two for a composite score."
   ]
  },
  {
   "cell_type": "code",
   "execution_count": 110,
   "metadata": {},
   "outputs": [
    {
     "data": {
      "text/plain": [
       "63.07364108225"
      ]
     },
     "execution_count": 110,
     "metadata": {},
     "output_type": "execute_result"
    }
   ],
   "source": [
    "serbia_score = country_PI_df[country_PI_df['country']=='Serbia']['prosperity_2020'].item()\n",
    "montenegro_score = country_PI_df[country_PI_df['country']=='Montenegro']['prosperity_2020'].item()\n",
    "avg_prosperity_serb_mont = (serbia_score + montenegro_score) / 2\n",
    "avg_prosperity_serb_mont"
   ]
  },
  {
   "cell_type": "code",
   "execution_count": 111,
   "metadata": {},
   "outputs": [],
   "source": [
    "#Create new row forSerbia and Montenegro\n",
    "country_PI_df.loc[country_PI_df.shape[0]] = ['Serbia and Montenegro' , avg_prosperity_serb_mont ]"
   ]
  },
  {
   "cell_type": "markdown",
   "metadata": {},
   "source": [
    "The mass protest dataframe contains values under **'Slovak Republic'** vs 'Slovakia' in the Prosperity Index"
   ]
  },
  {
   "cell_type": "code",
   "execution_count": 112,
   "metadata": {},
   "outputs": [],
   "source": [
    "country_PI_df['country'] = country_PI_df['country'].str.replace('Slovakia', 'Slovak Republic')"
   ]
  },
  {
   "cell_type": "markdown",
   "metadata": {},
   "source": [
    "The mass protest dataframe values for **'Swaziland'** are identified as 'Eswatini' in the Prosperity Index"
   ]
  },
  {
   "cell_type": "code",
   "execution_count": 113,
   "metadata": {},
   "outputs": [],
   "source": [
    "country_PI_df['country'] = country_PI_df['country'].str.replace('Eswatini', 'Swaziland')"
   ]
  },
  {
   "cell_type": "markdown",
   "metadata": {},
   "source": [
    "Rename Taiwan, China to simply Taiwan"
   ]
  },
  {
   "cell_type": "code",
   "execution_count": 114,
   "metadata": {},
   "outputs": [],
   "source": [
    "country_PI_df['country'] = country_PI_df['country'].str.replace('Taiwan, China', 'Taiwan')"
   ]
  },
  {
   "cell_type": "markdown",
   "metadata": {},
   "source": [
    "There is no Prosperity Index for **Timor-Leste**, also known as East Timor. Became a sovereign state in 2002 after being under Indonesian rule. Accounts for 0.02% of world's population.  22 rows in mass protest data, 7 of which are nan. We could drop or just assign the same score as Indonesia."
   ]
  },
  {
   "cell_type": "code",
   "execution_count": 115,
   "metadata": {},
   "outputs": [
    {
     "data": {
      "text/plain": [
       "(12, 35)"
      ]
     },
     "execution_count": 115,
     "metadata": {},
     "output_type": "execute_result"
    }
   ],
   "source": [
    "mass[mass['country']=='Timor Leste'].shape"
   ]
  },
  {
   "cell_type": "code",
   "execution_count": 116,
   "metadata": {},
   "outputs": [],
   "source": [
    "#Create new row for Timor Leste\n",
    "country_PI_df.loc[country_PI_df.shape[0]] = ['Timor Leste' , country_PI_df[country_PI_df['country']=='Indonesia']['prosperity_2020'].item() ]"
   ]
  },
  {
   "cell_type": "code",
   "execution_count": 117,
   "metadata": {},
   "outputs": [
    {
     "data": {
      "text/plain": [
       "(15227, 35)"
      ]
     },
     "execution_count": 117,
     "metadata": {},
     "output_type": "execute_result"
    }
   ],
   "source": [
    "mass.shape"
   ]
  },
  {
   "cell_type": "markdown",
   "metadata": {},
   "source": [
    "Use same Prosperity score for USSR as Russia."
   ]
  },
  {
   "cell_type": "code",
   "execution_count": 118,
   "metadata": {},
   "outputs": [],
   "source": [
    "#Create new row for USSR\n",
    "country_PI_df.loc[country_PI_df.shape[0]] = ['USSR' , country_PI_df[country_PI_df['country']=='Russia']['prosperity_2020'].item() ]"
   ]
  },
  {
   "cell_type": "markdown",
   "metadata": {},
   "source": [
    "The mass protest dataframe values for 'United Arab Emirate' are identified as 'United Arab Emirates' in the Prosperity Index"
   ]
  },
  {
   "cell_type": "code",
   "execution_count": 119,
   "metadata": {},
   "outputs": [],
   "source": [
    "country_PI_df['country'] = country_PI_df['country'].str.replace('United Arab Emirates', 'United Arab Emirate')"
   ]
  },
  {
   "cell_type": "markdown",
   "metadata": {},
   "source": [
    "**Yugoslavia** has no current Prosperity score, but could be determined by former countries that made up [Yugoslavia](https://en.wikipedia.org/wiki/Yugoslavia)\n",
    "\n",
    "* Bosnia\n",
    "* Croatia\n",
    "* Macedonia\n",
    "* Montenegro\n",
    "* Serbia\n",
    "* Slovenia"
   ]
  },
  {
   "cell_type": "code",
   "execution_count": 120,
   "metadata": {},
   "outputs": [
    {
     "data": {
      "text/html": [
       "<div>\n",
       "<style scoped>\n",
       "    .dataframe tbody tr th:only-of-type {\n",
       "        vertical-align: middle;\n",
       "    }\n",
       "\n",
       "    .dataframe tbody tr th {\n",
       "        vertical-align: top;\n",
       "    }\n",
       "\n",
       "    .dataframe thead th {\n",
       "        text-align: right;\n",
       "    }\n",
       "</style>\n",
       "<table border=\"1\" class=\"dataframe\">\n",
       "  <thead>\n",
       "    <tr style=\"text-align: right;\">\n",
       "      <th></th>\n",
       "      <th>country</th>\n",
       "      <th>prosperity_2020</th>\n",
       "    </tr>\n",
       "  </thead>\n",
       "  <tbody>\n",
       "    <tr>\n",
       "      <th>131</th>\n",
       "      <td>Slovak Republic</td>\n",
       "      <td>69.625246</td>\n",
       "    </tr>\n",
       "    <tr>\n",
       "      <th>132</th>\n",
       "      <td>Slovenia</td>\n",
       "      <td>74.563150</td>\n",
       "    </tr>\n",
       "  </tbody>\n",
       "</table>\n",
       "</div>"
      ],
      "text/plain": [
       "             country  prosperity_2020\n",
       "131  Slovak Republic        69.625246\n",
       "132         Slovenia        74.563150"
      ]
     },
     "execution_count": 120,
     "metadata": {},
     "output_type": "execute_result"
    }
   ],
   "source": [
    "country_PI_df[country_PI_df['country'].str.startswith('Sl')]"
   ]
  },
  {
   "cell_type": "code",
   "execution_count": 121,
   "metadata": {},
   "outputs": [
    {
     "data": {
      "text/plain": [
       "64.38861633025"
      ]
     },
     "execution_count": 121,
     "metadata": {},
     "output_type": "execute_result"
    }
   ],
   "source": [
    "yugo_countries = ['Bosnia', 'Croatia', 'Macedonia', 'Montenegro', 'Serbia', 'Slovenia']\n",
    "yugo_mean = np.mean([country_PI_df[country_PI_df['country']==country]['prosperity_2020'].item() for country in yugo_countries])\n",
    "yugo_mean"
   ]
  },
  {
   "cell_type": "code",
   "execution_count": 122,
   "metadata": {},
   "outputs": [],
   "source": [
    "#Create new row for Yugoslavia\n",
    "country_PI_df.loc[country_PI_df.shape[0]] = ['Yugoslavia' , yugo_mean ]"
   ]
  },
  {
   "cell_type": "markdown",
   "metadata": {},
   "source": [
    "---\n",
    "Double check that there aren't any countries in the mass protest dataframe that do not have a matching Prosperity Index score"
   ]
  },
  {
   "cell_type": "code",
   "execution_count": 123,
   "metadata": {},
   "outputs": [
    {
     "data": {
      "text/plain": [
       "['Bhutan']"
      ]
     },
     "execution_count": 123,
     "metadata": {},
     "output_type": "execute_result"
    }
   ],
   "source": [
    "prosperity_countries = sorted(list(country_PI_df['country']))\n",
    "mass_countries = sorted(list(mass['country'].value_counts().index))\n",
    "\n",
    "mass_not_prosperity = []\n",
    "prosperity_not_in_mass = []\n",
    "\n",
    "for country in mass_countries:\n",
    "    if country not in prosperity_countries:\n",
    "        mass_not_prosperity.append(country)\n",
    "        \n",
    "for country in prosperity_countries:\n",
    "    if country not in mass_countries:\n",
    "        prosperity_not_in_mass.append(country)\n",
    "        \n",
    "mass_not_prosperity"
   ]
  },
  {
   "cell_type": "code",
   "execution_count": 124,
   "metadata": {},
   "outputs": [
    {
     "data": {
      "text/plain": [
       "['Australia',\n",
       " 'Belize',\n",
       " 'Hong Kong',\n",
       " 'Iceland',\n",
       " 'Israel',\n",
       " 'Malta',\n",
       " 'New Zealand',\n",
       " 'Seychelles',\n",
       " 'São Tomé and Príncipe',\n",
       " 'Trinidad and Tobago',\n",
       " 'United States']"
      ]
     },
     "execution_count": 124,
     "metadata": {},
     "output_type": "execute_result"
    }
   ],
   "source": [
    "prosperity_not_in_mass"
   ]
  },
  {
   "cell_type": "markdown",
   "metadata": {},
   "source": [
    "Drop all rows from Prosperity Index that are not in the mass protest dataframe."
   ]
  },
  {
   "cell_type": "code",
   "execution_count": 125,
   "metadata": {},
   "outputs": [],
   "source": [
    "#sorted(list(country_PI_df['country']))"
   ]
  },
  {
   "cell_type": "code",
   "execution_count": 126,
   "metadata": {},
   "outputs": [],
   "source": [
    "for country_to_drop in prosperity_not_in_mass:\n",
    "    country_PI_df.drop( country_PI_df[country_PI_df['country'] == country_to_drop].index, inplace=True)\n"
   ]
  },
  {
   "cell_type": "code",
   "execution_count": 127,
   "metadata": {},
   "outputs": [
    {
     "data": {
      "text/plain": [
       "165"
      ]
     },
     "execution_count": 127,
     "metadata": {},
     "output_type": "execute_result"
    }
   ],
   "source": [
    "len(list(country_PI_df['country']))"
   ]
  },
  {
   "cell_type": "code",
   "execution_count": 128,
   "metadata": {},
   "outputs": [
    {
     "data": {
      "text/plain": [
       "166"
      ]
     },
     "execution_count": 128,
     "metadata": {},
     "output_type": "execute_result"
    }
   ],
   "source": [
    "len(set(list(mass['country'])))"
   ]
  },
  {
   "cell_type": "code",
   "execution_count": 129,
   "metadata": {},
   "outputs": [],
   "source": [
    "### Save Prosperity Index data as csv for merging into other notebook"
   ]
  },
  {
   "cell_type": "code",
   "execution_count": 130,
   "metadata": {},
   "outputs": [],
   "source": [
    "# country_PI_df.to_csv('../data/prosperity_clean.csv')"
   ]
  },
  {
   "cell_type": "markdown",
   "metadata": {},
   "source": [
    "**Bhutan** has 31 rows in Mass protest, but only two that are not all NaN.\n",
    "Use merge that will drop the Bhutan columns"
   ]
  },
  {
   "cell_type": "code",
   "execution_count": 131,
   "metadata": {},
   "outputs": [
    {
     "data": {
      "text/plain": [
       "(2, 35)"
      ]
     },
     "execution_count": 131,
     "metadata": {},
     "output_type": "execute_result"
    }
   ],
   "source": [
    "mass[mass['country']=='Bhutan'].shape"
   ]
  },
  {
   "cell_type": "code",
   "execution_count": 132,
   "metadata": {},
   "outputs": [],
   "source": [
    "# Used to spot check out a country's mass protest data\n",
    "#mass[mass['country']=='Bhutan'][['partipants_number','startyear','endmonth','endyear','protesterdemand1','stateresponse1']]"
   ]
  },
  {
   "cell_type": "markdown",
   "metadata": {},
   "source": [
    "**Merge** into larger mass protest dataframe."
   ]
  },
  {
   "cell_type": "code",
   "execution_count": 133,
   "metadata": {},
   "outputs": [],
   "source": [
    "# Doing a merge with the defaults will drop rows in mass that do not have a prosperity score (31 rows of Bhutan) \n",
    "mass = mass.merge(country_PI_df)"
   ]
  },
  {
   "cell_type": "markdown",
   "metadata": {},
   "source": [
    "### Save updated Mass Protest dataframe to pickle object to hand off to next stage."
   ]
  },
  {
   "cell_type": "code",
   "execution_count": 134,
   "metadata": {},
   "outputs": [],
   "source": [
    "mass.to_pickle('../data/02b_added_prosperity.pickle')"
   ]
  },
  {
   "cell_type": "markdown",
   "metadata": {},
   "source": [
    "---"
   ]
  },
  {
   "cell_type": "code",
   "execution_count": 135,
   "metadata": {},
   "outputs": [],
   "source": [
    "# Doing a merge with this command will keep Bhutan and insert a NaN in its prosperity_2020 column\n",
    "# mass = mass.merge(country_PI_df, how='left', \n",
    "#                         left_on='country', \n",
    "#                         right_on='country')\n",
    "# mass.head(2)"
   ]
  },
  {
   "cell_type": "code",
   "execution_count": 136,
   "metadata": {},
   "outputs": [
    {
     "data": {
      "text/plain": [
       "Index(['id', 'country', 'ccode', 'year', 'region', 'protestnumber', 'startday',\n",
       "       'startmonth', 'startyear', 'endday', 'endmonth', 'endyear',\n",
       "       'protesterviolence', 'location', 'protesteridentity',\n",
       "       'protesterdemand1', 'protesterdemand2', 'protesterdemand3',\n",
       "       'protesterdemand4', 'stateresponse1', 'stateresponse2',\n",
       "       'stateresponse3', 'stateresponse4', 'stateresponse5', 'stateresponse6',\n",
       "       'stateresponse7', 'sources', 'notes', 'protester_id_type',\n",
       "       'partipants_number', 'protest_size_category', 'PopMale', 'PopFemale',\n",
       "       'PopTotal', 'PopDensity', 'prosperity_2020'],\n",
       "      dtype='object')"
      ]
     },
     "execution_count": 136,
     "metadata": {},
     "output_type": "execute_result"
    }
   ],
   "source": [
    "mass.columns"
   ]
  },
  {
   "cell_type": "code",
   "execution_count": null,
   "metadata": {},
   "outputs": [],
   "source": []
  }
 ],
 "metadata": {
  "kernelspec": {
   "display_name": "Python 3",
   "language": "python",
   "name": "python3"
  },
  "language_info": {
   "codemirror_mode": {
    "name": "ipython",
    "version": 3
   },
   "file_extension": ".py",
   "mimetype": "text/x-python",
   "name": "python",
   "nbconvert_exporter": "python",
   "pygments_lexer": "ipython3",
   "version": "3.8.5"
  }
 },
 "nbformat": 4,
 "nbformat_minor": 4
}
