{
 "cells": [
  {
   "cell_type": "markdown",
   "metadata": {},
   "source": [
    "# Mass Mobilization Project\n",
    "<img style=\"float: right;\" src=\"../images/man_with_hammer.png\">\n",
    "\n",
    "#### 05. Create Multilabel Classifier model\n",
    "\n",
    "Use MultiOutputClassifier to do labeling with a RandomForestClassifier.\n",
    "\n",
    "A RandomizedSearchCV search performs a large number of modeling using many different combinations of hyperparameters."
    "This model uses a RandomForestClassifier for each of the seven target variables in the dataset:\n",
    " * arrests\n",
    " * accomodation\n",
    " * beatings\n",
    " * crowddispersal\n",
    " * ignore\n",
    " * killings\n",
    " * shootings\n",
    " \n",
    " After fitting the model, it is saved as a pickle file, which is then loaded into the model predictions notebook."

   ]
  },
  {
   "cell_type": "code",
   "execution_count": 2,
   "metadata": {},
   "outputs": [],
   "source": [
    "import numpy as np\n",
    "import pandas as pd\n",
    "import matplotlib.pyplot as plt \n",
    "import seaborn as sns\n",
    "import pickle\n",
    "import gzip\n",
    "\n",
    "from sklearn.model_selection import train_test_split, RandomizedSearchCV\n",
    "\n",
    "from sklearn.ensemble import RandomForestClassifier, GradientBoostingClassifier\n",
    "from sklearn.multioutput import MultiOutputClassifier\n",
    "\n",
    "from sklearn.metrics import (accuracy_score, \n",
    "                            multilabel_confusion_matrix,\n",
    "                            classification_report,\n",
    "                            f1_score,\n",
    "                            precision_score,\n",
    "                            recall_score,\n",
    "                            roc_auc_score, \n",
    "                            make_scorer)"
   ]
  },
  {
   "cell_type": "code",
   "execution_count": 2,
   "metadata": {},
   "outputs": [],
   "source": [
    "# Uncomment when using in Google Colab\n",
    "# from google.colab import files\n",
    "# uploaded = files.upload()"
   ]
  },
  {
   "cell_type": "code",
   "execution_count": 3,
   "metadata": {},
   "outputs": [],
   "source": [
    "# Uncomment when using in Google Colab\n",
    "# import io\n",
    "# mass = pd.read_csv(io.BytesIO(uploaded['mass_mobile.csv']))\n"
   ]
  },
  {
   "cell_type": "markdown",
   "metadata": {},
   "source": [
    "### Load cleaned data from a csv file"
   ]
  },
  {
   "cell_type": "code",
   "execution_count": 2,
   "metadata": {},
   "outputs": [],
   "source": [
    "mass = pd.read_csv('../data/03_mass_no_country.csv')"
   ]
  },
  {
   "cell_type": "code",
   "execution_count": 3,
   "metadata": {},
   "outputs": [
    {
     "data": {
      "text/html": [
       "<div>\n",
       "<style scoped>\n",
       "    .dataframe tbody tr th:only-of-type {\n",
       "        vertical-align: middle;\n",
       "    }\n",
       "\n",
       "    .dataframe tbody tr th {\n",
       "        vertical-align: top;\n",
       "    }\n",
       "\n",
       "    .dataframe thead th {\n",
       "        text-align: right;\n",
       "    }\n",
       "</style>\n",
       "<table border=\"1\" class=\"dataframe\">\n",
       "  <thead>\n",
       "    <tr style=\"text-align: right;\">\n",
       "      <th></th>\n",
       "      <th>id</th>\n",
       "      <th>country</th>\n",
       "      <th>ccode</th>\n",
       "      <th>region</th>\n",
       "      <th>protestnumber</th>\n",
       "      <th>protesterviolence</th>\n",
       "      <th>location</th>\n",
       "      <th>protesteridentity</th>\n",
       "      <th>sources</th>\n",
       "      <th>notes</th>\n",
       "      <th>...</th>\n",
       "      <th>end_date</th>\n",
       "      <th>target</th>\n",
       "      <th>notes_clean</th>\n",
       "      <th>neg</th>\n",
       "      <th>neu</th>\n",
       "      <th>pos</th>\n",
       "      <th>compound</th>\n",
       "      <th>protest_duration</th>\n",
       "      <th>violent_response</th>\n",
       "      <th>violent_count</th>\n",
       "    </tr>\n",
       "  </thead>\n",
       "  <tbody>\n",
       "    <tr>\n",
       "      <th>0</th>\n",
       "      <td>201990001</td>\n",
       "      <td>Canada</td>\n",
       "      <td>20</td>\n",
       "      <td>North America</td>\n",
       "      <td>1</td>\n",
       "      <td>0.0</td>\n",
       "      <td>national</td>\n",
       "      <td>unspecified</td>\n",
       "      <td>1. great canadian train journeys into history;...</td>\n",
       "      <td>canada s railway passenger system was finally ...</td>\n",
       "      <td>...</td>\n",
       "      <td>1990-01-15</td>\n",
       "      <td>[0, 0, 0, 0, 1, 0, 0]</td>\n",
       "      <td>canada s railway passenger system was finally ...</td>\n",
       "      <td>0.087</td>\n",
       "      <td>0.913</td>\n",
       "      <td>0.000</td>\n",
       "      <td>-0.8176</td>\n",
       "      <td>1</td>\n",
       "      <td>0</td>\n",
       "      <td>0</td>\n",
       "    </tr>\n",
       "    <tr>\n",
       "      <th>1</th>\n",
       "      <td>201990002</td>\n",
       "      <td>Canada</td>\n",
       "      <td>20</td>\n",
       "      <td>North America</td>\n",
       "      <td>2</td>\n",
       "      <td>0.0</td>\n",
       "      <td>Montreal, Quebec</td>\n",
       "      <td>unspecified</td>\n",
       "      <td>1. autonomy s cry revived in quebec the new yo...</td>\n",
       "      <td>protestors were only identified as young peopl...</td>\n",
       "      <td>...</td>\n",
       "      <td>1990-06-25</td>\n",
       "      <td>[0, 0, 0, 0, 1, 0, 0]</td>\n",
       "      <td>protestors were only identified as young peopl...</td>\n",
       "      <td>0.000</td>\n",
       "      <td>1.000</td>\n",
       "      <td>0.000</td>\n",
       "      <td>0.0000</td>\n",
       "      <td>1</td>\n",
       "      <td>0</td>\n",
       "      <td>0</td>\n",
       "    </tr>\n",
       "    <tr>\n",
       "      <th>2</th>\n",
       "      <td>201990003</td>\n",
       "      <td>Canada</td>\n",
       "      <td>20</td>\n",
       "      <td>North America</td>\n",
       "      <td>3</td>\n",
       "      <td>0.0</td>\n",
       "      <td>Montreal, Quebec</td>\n",
       "      <td>separatist parti quebecois</td>\n",
       "      <td>1. quebec protest after queen calls for unity ...</td>\n",
       "      <td>the queen, after calling on canadians to remai...</td>\n",
       "      <td>...</td>\n",
       "      <td>1990-07-01</td>\n",
       "      <td>[0, 0, 0, 0, 1, 0, 0]</td>\n",
       "      <td>the queen, after calling on canadians to remai...</td>\n",
       "      <td>0.060</td>\n",
       "      <td>0.830</td>\n",
       "      <td>0.109</td>\n",
       "      <td>0.7003</td>\n",
       "      <td>1</td>\n",
       "      <td>0</td>\n",
       "      <td>0</td>\n",
       "    </tr>\n",
       "  </tbody>\n",
       "</table>\n",
       "<p>3 rows × 71 columns</p>\n",
       "</div>"
      ],
      "text/plain": [
       "          id country  ccode         region  protestnumber  protesterviolence  \\\n",
       "0  201990001  Canada     20  North America              1                0.0   \n",
       "1  201990002  Canada     20  North America              2                0.0   \n",
       "2  201990003  Canada     20  North America              3                0.0   \n",
       "\n",
       "           location           protesteridentity  \\\n",
       "0          national                 unspecified   \n",
       "1  Montreal, Quebec                 unspecified   \n",
       "2  Montreal, Quebec  separatist parti quebecois   \n",
       "\n",
       "                                             sources  \\\n",
       "0  1. great canadian train journeys into history;...   \n",
       "1  1. autonomy s cry revived in quebec the new yo...   \n",
       "2  1. quebec protest after queen calls for unity ...   \n",
       "\n",
       "                                               notes  ...    end_date  \\\n",
       "0  canada s railway passenger system was finally ...  ...  1990-01-15   \n",
       "1  protestors were only identified as young peopl...  ...  1990-06-25   \n",
       "2  the queen, after calling on canadians to remai...  ...  1990-07-01   \n",
       "\n",
       "                  target                                        notes_clean  \\\n",
       "0  [0, 0, 0, 0, 1, 0, 0]  canada s railway passenger system was finally ...   \n",
       "1  [0, 0, 0, 0, 1, 0, 0]  protestors were only identified as young peopl...   \n",
       "2  [0, 0, 0, 0, 1, 0, 0]  the queen, after calling on canadians to remai...   \n",
       "\n",
       "     neg    neu    pos  compound  protest_duration  violent_response  \\\n",
       "0  0.087  0.913  0.000   -0.8176                 1                 0   \n",
       "1  0.000  1.000  0.000    0.0000                 1                 0   \n",
       "2  0.060  0.830  0.109    0.7003                 1                 0   \n",
       "\n",
       "   violent_count  \n",
       "0              0  \n",
       "1              0  \n",
       "2              0  \n",
       "\n",
       "[3 rows x 71 columns]"
      ]
     },
     "execution_count": 3,
     "metadata": {},
     "output_type": "execute_result"
    }
   ],
   "source": [
    "mass.head(3)"
   ]
  },
  {
   "cell_type": "code",
   "execution_count": 6,
   "metadata": {},
   "outputs": [
    {
     "name": "stdout",
     "output_type": "stream",
     "text": [
      "X will be set to use 40 features.\n"
     ]
    }
   ],
   "source": [
    "# User dataframe of almost all features.\n",
    "\n",
    "features = mass.drop(columns=['id', 'country', 'ccode', 'region', 'location','protesteridentity', 'sources',\n",
    "           'notes', 'protester_id_type', 'protest_size_category', 'start_date', 'notes_clean', 'neg', 'neu', 'pos', 'compound',\n",
    "           'end_date', 'target', 'arrests', 'accomodation', 'beatings', 'crowddispersal', 'ignore', 'killings', 'shootings', \n",
    "           'partipants_number','pop_male', 'pop_female', 'violent_response', 'violent_count', 'protest_duration'])\n",
    "\n",
    "\n",
    "print(f'X will be set to use {features.shape[1]} features.')"
   ]
  },
  {
   "cell_type": "code",
   "execution_count": 7,
   "metadata": {},
   "outputs": [],
   "source": [
    "#country_list - this code applies to when using a different csv file that DID included a dummied column for each country\n",
    "#country_column_names = list(features_1.columns[9:174])\n",
    "#features = features_1.drop(country_column_names, axis=1)"
   ]
  },
  {
   "cell_type": "code",
   "execution_count": 8,
   "metadata": {},
   "outputs": [
    {
     "data": {
      "text/plain": [
       "array([[0, 0, 0, ..., 1, 0, 0],\n",
       "       [0, 0, 0, ..., 1, 0, 0],\n",
       "       [0, 0, 0, ..., 1, 0, 0],\n",
       "       ...,\n",
       "       [0, 1, 0, ..., 0, 0, 0],\n",
       "       [0, 0, 0, ..., 0, 0, 0],\n",
       "       [0, 0, 0, ..., 1, 0, 0]], dtype=int64)"
      ]
     },
     "execution_count": 8,
     "metadata": {},
     "output_type": "execute_result"
    }
   ],
   "source": [
    "\n",
    "# This code was initially used to define a small set of features just to get a small model going.\n",
    "# features = ['pop_density', 'prosperity_2020','partipants_number','compound','region_Europe','region_Central America','region_Africa',\n",
    "# 'region_MENA', 'region_North America', 'region_Oceania', 'region_South America']\n",
    "#X = mass[features]\n",
    "\n",
    "X = features\n",
    "y = np.array(mass[['arrests', 'accomodation', 'beatings',\n",
    "       'crowddispersal', 'ignore', 'killings', 'shootings']])\n",
    "\n",
    "y"
   ]
  },
  {
   "cell_type": "code",
   "execution_count": 9,
   "metadata": {},
   "outputs": [
    {
     "data": {
      "text/plain": [
       "15179"
      ]
     },
     "execution_count": 9,
     "metadata": {},
     "output_type": "execute_result"
    }
   ],
   "source": [
    "len(X)"
   ]
  },
  {
   "cell_type": "code",
   "execution_count": 10,
   "metadata": {},
   "outputs": [],
   "source": [
    "X_train, X_test, y_train, y_test = train_test_split(X, y, random_state=42)"
   ]
  },
  {
   "cell_type": "markdown",
   "metadata": {},
   "source": [
    "#### To use a Gridsearch with the MultiOutputClassifer, uncomment the cell below."
   ]
  },
  {
   "cell_type": "code",
   "execution_count": 11,
   "metadata": {},
   "outputs": [],
   "source": [
    "# set up MultiOutputClassifier\n",
    "#model_grad_booster = MultiOutputClassifier(GradientBoostingClassifier())\n",
    "\n",
    "# Set up hyperparameters\n",
    "# hyperparameters_grad = dict(estimator__learning_rate=[ 0.2, 0.5], \n",
    "#                      estimator__n_estimators=[20, 50, 100],\n",
    "#                      estimator__min_samples_split=[2, 4, 7, 10],\n",
    "#                      estimator__max_depth=[5, 20, 30], \n",
    "#                      estimator__min_samples_leaf=[ 5, 8, 10],\n",
    "#                      estimator__min_impurity_decrease=[0.2, 0.6, 0.8],\n",
    "#                      estimator__max_leaf_nodes=[5, 20, 100])\n",
    "\n",
    "# Execute Grid Search\n",
    "# grid_search = GridSearchCV(model_grad_booster, hyperparameters_grad,n_jobs=-1, cv=5, verbose=True,\n",
    "#                                        pre_dispatch='2*n_jobs', error_score='raise', return_train_score=True)\n",
    "\n",
    "# Fit the model\n",
    "#hyperparameters_tuning = grid_search.fit(X_train, y_train)"
   ]
  },
  {
   "cell_type": "markdown",
   "metadata": {},
   "source": [
    "#### Current model uses a Randomized CV Search, MultiOutputClassifier of a Random Forest"
   ]
  },
  {
   "cell_type": "code",
   "execution_count": 12,
   "metadata": {},
   "outputs": [
    {
     "name": "stdout",
     "output_type": "stream",
     "text": [
      "Fitting 5 folds for each of 30 candidates, totalling 150 fits\n",
      "Best Parameters = {'estimator__n_estimators': 20, 'estimator__min_samples_split': 10, 'estimator__min_samples_leaf': 5, 'estimator__min_impurity_decrease': 0, 'estimator__max_leaf_nodes': 100, 'estimator__max_depth': 30}\n"
     ]
    }
   ],
   "source": [
    "\n",
    "# set up MultiOutputClassifier\n",
    "model_random_forest = MultiOutputClassifier(RandomForestClassifier())  \n",
    "\n",
    "# Set up hyperparameters\n",
    "hyperparameters_forest = dict(estimator__n_estimators=[20, 50, 100, 200, 300, 500, 1000],\n",
    "                       estimator__min_samples_split=[2, 4, 7, 10],\n",
    "                       estimator__max_depth=[3, 5, 10, 15, 20, 30],\n",
    "                       estimator__min_samples_leaf=[1, 2, 3, 5, 8, 10],\n",
    "                       estimator__min_impurity_decrease=[0, 0.2, 0.4, 0.6, 0.8],\n",
    "                       estimator__max_leaf_nodes=[5, 10, 20, 30, 50, 100, 300])\n",
    "\n",
    "# n_iter   int, default=10 - might want to increase?\n",
    "\n",
    "# Set up Random Search criteria\n",
    "\n",
    "# Without adding scoring AUC feature\n",
    "# randomized_search = RandomizedSearchCV(model_random_forest, hyperparameters_forest,\n",
    "#                                        n_jobs=-1, cv=5, verbose=1, n_iter=30,\n",
    "#                                        error_score='raise')\n",
    "\n",
    "\n",
    "\n",
    "randomized_search = RandomizedSearchCV(model_random_forest, hyperparameters_forest,\n",
    "                                       n_jobs=-1, cv=5, verbose=1, n_iter=30,\n",
    "                                       error_score='raise',\n",
    "                                       scoring = {'AUC': 'roc_auc', 'Accuracy': make_scorer(accuracy_score)},\n",
    "                                       refit='AUC',\n",
    "                                       return_train_score=True)\n",
    "\n",
    "\n",
    "# Fit the model\n",
    "hyperparameters_tuning = randomized_search.fit(X_train, y_train)\n",
    "\n",
    "print('Best Parameters = {}'.format(hyperparameters_tuning.best_params_))\n",
    "\n",
    "# Set model variable to be the best performing estimator\n",
    "tuned_model = hyperparameters_tuning.best_estimator_"
   ]
  },
  {
   "cell_type": "markdown",
   "metadata": {},
   "source": [
    "Print best score when using AUC as scoring method."
   ]
  },
  {
   "cell_type": "code",
   "execution_count": 13,
   "metadata": {},
   "outputs": [
    {
     "data": {
      "text/plain": [
       "0.8118295835447119"
      ]
     },
     "execution_count": 13,
     "metadata": {},
     "output_type": "execute_result"
    }
   ],
   "source": [
    "hyperparameters_tuning.best_score_"
   ]
  },
  {
   "cell_type": "code",
   "execution_count": null,
   "metadata": {},
   "outputs": [],
   "source": []
  },
  {
   "cell_type": "markdown",
   "metadata": {},
   "source": [
    "#### Get predictions using `X_test` "
   ]
  },
  {
   "cell_type": "code",
   "execution_count": 14,
   "metadata": {},
   "outputs": [],
   "source": [
    "y_preds = tuned_model.predict(X_test)"
   ]
  },
  {
   "cell_type": "code",
   "execution_count": null,
   "metadata": {},
   "outputs": [],
   "source": []
  },
  {
   "cell_type": "code",
   "execution_count": 15,
   "metadata": {},
   "outputs": [
    {
     "data": {
      "text/plain": [
       "0.559205903021785"
      ]
     },
     "execution_count": 15,
     "metadata": {},
     "output_type": "execute_result"
    }
   ],
   "source": [
    "tuned_model.score(X_train, y_train )"
   ]
  },
  {
   "cell_type": "code",
   "execution_count": 16,
   "metadata": {},
   "outputs": [
    {
     "data": {
      "text/plain": [
       "0.5425559947299078"
      ]
     },
     "execution_count": 16,
     "metadata": {},
     "output_type": "execute_result"
    }
   ],
   "source": [
    "tuned_model.score(X_test, y_test)"
   ]
  },
  {
   "cell_type": "markdown",
   "metadata": {},
   "source": [
    "#### Save four rows of features so we can run a test of using the model after loading its pickle file in another notebook"
   ]
  },
  {
   "cell_type": "code",
   "execution_count": 17,
   "metadata": {},
   "outputs": [],
   "source": [
    "X_test.iloc[0:4].to_csv('../data/x_sample.csv', index=False)"
   ]
  },
  {
   "cell_type": "code",
   "execution_count": null,
   "metadata": {},
   "outputs": [],
   "source": []
  },
  {
   "cell_type": "markdown",
   "metadata": {},
   "source": [
    "#### Export tuned model to use as pickle for predictions in another notebook."
   ]
  },
  {
   "cell_type": "code",
   "execution_count": 18,
   "metadata": {},
   "outputs": [],
   "source": [
    "# Save the model as a zipped pickle file\n",
    "\n",
    "# For some reason this model became 90MB, which was over the 50MB git push limit, \n",
    "# so use compression to get the pickle file down to around 20MB\n",
    "\n",
    "f = gzip.open('../models/01_multi_label_forest_smaller.pickle_zip','wb')\n",
    "pickle.dump(tuned_model,f)\n",
    "f.close()"
   ]
  },
  {
   "cell_type": "markdown",
   "metadata": {},
   "source": [
    "---"
   ]
  },
  {
   "cell_type": "code",
   "execution_count": 19,
   "metadata": {},
   "outputs": [
    {
     "name": "stdout",
     "output_type": "stream",
     "text": [
      "Accuracy =  0.5425559947299078\n",
      "Precision: 0.7370, Recall: 0.5083, F1-measure: 0.6017\n"
     ]
    }
   ],
   "source": [
    "# Hat tip to this blog post:\n",
    "# https://medium.com/@saugata.paul1010/a-detailed-case-study-on-multi-label-classification-with-machine-learning-algorithms-and-72031742c9aa\n",
    "\n",
    "print(\"Accuracy = \", accuracy_score(y_test,y_preds))\n",
    "\n",
    "precision = precision_score(y_test, y_preds, average='micro')\n",
    "recall = recall_score(y_test, y_preds, average='micro')\n",
    "f1 = f1_score(y_test, y_preds, average='micro')\n",
    " \n",
    "print(\"Precision: {:.4f}, Recall: {:.4f}, F1-measure: {:.4f}\".format(precision, recall, f1))"
   ]
  },
  {
   "cell_type": "markdown",
   "metadata": {},
   "source": [
    "#### Baseline model"
   ]
  },
  {
   "cell_type": "code",
   "execution_count": 20,
   "metadata": {},
   "outputs": [
    {
     "data": {
      "text/plain": [
       "array([[0, 0, 0, ..., 1, 0, 0],\n",
       "       [0, 0, 0, ..., 0, 0, 1],\n",
       "       [0, 0, 0, ..., 1, 0, 0],\n",
       "       ...,\n",
       "       [0, 0, 0, ..., 1, 0, 0],\n",
       "       [0, 0, 0, ..., 1, 0, 0],\n",
       "       [1, 0, 0, ..., 0, 0, 0]], dtype=int64)"
      ]
     },
     "execution_count": 20,
     "metadata": {},
     "output_type": "execute_result"
    }
   ],
   "source": [
    "y_train"
   ]
  },
  {
   "cell_type": "code",
   "execution_count": 21,
   "metadata": {},
   "outputs": [
    {
     "data": {
      "text/html": [
       "<div>\n",
       "<style scoped>\n",
       "    .dataframe tbody tr th:only-of-type {\n",
       "        vertical-align: middle;\n",
       "    }\n",
       "\n",
       "    .dataframe tbody tr th {\n",
       "        vertical-align: top;\n",
       "    }\n",
       "\n",
       "    .dataframe thead th {\n",
       "        text-align: right;\n",
       "    }\n",
       "</style>\n",
       "<table border=\"1\" class=\"dataframe\">\n",
       "  <thead>\n",
       "    <tr style=\"text-align: right;\">\n",
       "      <th></th>\n",
       "      <th>arrests</th>\n",
       "      <th>accomodation</th>\n",
       "      <th>beatings</th>\n",
       "      <th>crowddispersal</th>\n",
       "      <th>ignore</th>\n",
       "      <th>killings</th>\n",
       "      <th>shootings</th>\n",
       "    </tr>\n",
       "  </thead>\n",
       "  <tbody>\n",
       "    <tr>\n",
       "      <th>0</th>\n",
       "      <td>0</td>\n",
       "      <td>0</td>\n",
       "      <td>0</td>\n",
       "      <td>0</td>\n",
       "      <td>1</td>\n",
       "      <td>0</td>\n",
       "      <td>0</td>\n",
       "    </tr>\n",
       "    <tr>\n",
       "      <th>1</th>\n",
       "      <td>0</td>\n",
       "      <td>0</td>\n",
       "      <td>0</td>\n",
       "      <td>0</td>\n",
       "      <td>1</td>\n",
       "      <td>0</td>\n",
       "      <td>0</td>\n",
       "    </tr>\n",
       "    <tr>\n",
       "      <th>2</th>\n",
       "      <td>0</td>\n",
       "      <td>0</td>\n",
       "      <td>0</td>\n",
       "      <td>0</td>\n",
       "      <td>1</td>\n",
       "      <td>0</td>\n",
       "      <td>0</td>\n",
       "    </tr>\n",
       "  </tbody>\n",
       "</table>\n",
       "</div>"
      ],
      "text/plain": [
       "   arrests  accomodation  beatings  crowddispersal  ignore  killings  \\\n",
       "0        0             0         0               0       1         0   \n",
       "1        0             0         0               0       1         0   \n",
       "2        0             0         0               0       1         0   \n",
       "\n",
       "   shootings  \n",
       "0          0  \n",
       "1          0  \n",
       "2          0  "
      ]
     },
     "execution_count": 21,
     "metadata": {},
     "output_type": "execute_result"
    }
   ],
   "source": [
    "y_df = pd.DataFrame(data=y, columns=['arrests', 'accomodation', 'beatings',\n",
    "       'crowddispersal', 'ignore', 'killings', 'shootings'])\n",
    "y_df[0:3]"
   ]
  },
  {
   "cell_type": "code",
   "execution_count": 22,
   "metadata": {},
   "outputs": [
    {
     "data": {
      "text/html": [
       "<div>\n",
       "<style scoped>\n",
       "    .dataframe tbody tr th:only-of-type {\n",
       "        vertical-align: middle;\n",
       "    }\n",
       "\n",
       "    .dataframe tbody tr th {\n",
       "        vertical-align: top;\n",
       "    }\n",
       "\n",
       "    .dataframe thead th {\n",
       "        text-align: right;\n",
       "    }\n",
       "</style>\n",
       "<table border=\"1\" class=\"dataframe\">\n",
       "  <thead>\n",
       "    <tr style=\"text-align: right;\">\n",
       "      <th></th>\n",
       "      <th>arrests</th>\n",
       "      <th>accomodation</th>\n",
       "      <th>beatings</th>\n",
       "      <th>crowddispersal</th>\n",
       "      <th>ignore</th>\n",
       "      <th>killings</th>\n",
       "      <th>shootings</th>\n",
       "    </tr>\n",
       "  </thead>\n",
       "  <tbody>\n",
       "    <tr>\n",
       "      <th>0</th>\n",
       "      <td>0.141182</td>\n",
       "      <td>0.100204</td>\n",
       "      <td>0.052704</td>\n",
       "      <td>0.313459</td>\n",
       "      <td>0.543448</td>\n",
       "      <td>0.054286</td>\n",
       "      <td>0.061335</td>\n",
       "    </tr>\n",
       "  </tbody>\n",
       "</table>\n",
       "</div>"
      ],
      "text/plain": [
       "    arrests  accomodation  beatings  crowddispersal    ignore  killings  \\\n",
       "0  0.141182      0.100204  0.052704        0.313459  0.543448  0.054286   \n",
       "\n",
       "   shootings  \n",
       "0   0.061335  "
      ]
     },
     "execution_count": 22,
     "metadata": {},
     "output_type": "execute_result"
    }
   ],
   "source": [
    "# Sum of all 1's in all columns, divided by the number of rows in the train dataset\n",
    "pd.DataFrame(y_df.sum() / y_df.shape[0]).T"
   ]
  },
  {
   "cell_type": "code",
   "execution_count": 23,
   "metadata": {},
   "outputs": [
    {
     "data": {
      "text/plain": [
       "(15179, 7)"
      ]
     },
     "execution_count": 23,
     "metadata": {},
     "output_type": "execute_result"
    }
   ],
   "source": [
    "y.shape"
   ]
  },
  {
   "cell_type": "code",
   "execution_count": 24,
   "metadata": {},
   "outputs": [
    {
     "data": {
      "text/plain": [
       "1    12270\n",
       "2     1963\n",
       "3      689\n",
       "4      185\n",
       "5       35\n",
       "0       29\n",
       "6        8\n",
       "dtype: int64"
      ]
     },
     "execution_count": 24,
     "metadata": {},
     "output_type": "execute_result"
    }
   ],
   "source": [
    "y_df.sum(axis=1).value_counts()"
   ]
  },
  {
   "cell_type": "markdown",
   "metadata": {},
   "source": [
    "### Print confusion matrix for all target variables (state responses)"
   ]
  },
  {
   "cell_type": "markdown",
   "metadata": {},
   "source": [
    "The multilabel_confusion_matrix function returns an array of seven confusion matrices (on for each target variable).\n",
    "\n",
    "Each Seaborn heatmap loads one of the matrices from the array (called `cm_array`)"
   ]
  },
  {
   "cell_type": "code",
   "execution_count": 25,
   "metadata": {},
   "outputs": [
    {
     "data": {
      "text/plain": [
       "array([[3259,    2],\n",
       "       [ 516,   18]], dtype=int64)"
      ]
     },
     "execution_count": 25,
     "metadata": {},
     "output_type": "execute_result"
    }
   ],
   "source": [
    "cm_array = multilabel_confusion_matrix(y_test, y_preds)  # this returns an array of confusion matrices\n",
    "cm_array[0]"
   ]
  },
  {
   "cell_type": "code",
   "execution_count": 26,
   "metadata": {},
   "outputs": [
    {
     "data": {
      "image/png": "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\n",
      "text/plain": [
       "<Figure size 432x288 with 2 Axes>"
      ]
     },
     "metadata": {
      "needs_background": "light"
     },
     "output_type": "display_data"
    },
    {
     "data": {
      "image/png": "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\n",
      "text/plain": [
       "<Figure size 432x288 with 2 Axes>"
      ]
     },
     "metadata": {
      "needs_background": "light"
     },
     "output_type": "display_data"
    },
    {
     "data": {
      "image/png": "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\n",
      "text/plain": [
       "<Figure size 432x288 with 2 Axes>"
      ]
     },
     "metadata": {
      "needs_background": "light"
     },
     "output_type": "display_data"
    },
    {
     "data": {
      "image/png": "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\n",
      "text/plain": [
       "<Figure size 432x288 with 2 Axes>"
      ]
     },
     "metadata": {
      "needs_background": "light"
     },
     "output_type": "display_data"
    },
    {
     "data": {
      "image/png": "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\n",
      "text/plain": [
       "<Figure size 432x288 with 2 Axes>"
      ]
     },
     "metadata": {
      "needs_background": "light"
     },
     "output_type": "display_data"
    },
    {
     "data": {
      "image/png": "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\n",
      "text/plain": [
       "<Figure size 432x288 with 2 Axes>"
      ]
     },
     "metadata": {
      "needs_background": "light"
     },
     "output_type": "display_data"
    },
    {
     "data": {
      "image/png": "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\n",
      "text/plain": [
       "<Figure size 432x288 with 2 Axes>"
      ]
     },
     "metadata": {
      "needs_background": "light"
     },
     "output_type": "display_data"
    }
   ],
   "source": [
    "cm_array = multilabel_confusion_matrix(y_test, y_preds)\n",
    "responses =[('Arrests', 0, 'PuBuGn'), ('Accomodation', 1, 'Blues'), ('Beatings',2, 'Oranges'),\n",
    "       ('Crowd Dispersal', 3, 'Purples'), ('Ignore', 4, 'Greens'), ('Killings', 5, 'Reds'), ('Shootings', 6, 'PuRd')]\n",
    "for response, resp_num, cmap in responses:\n",
    "    fig,ax1 = plt.subplots(1,1, figsize=(6,4))\n",
    "    plt.subplots_adjust(wspace=0.8)\n",
    "    sns.heatmap(cm_array[resp_num].astype(int), annot=True, ax = ax1, cmap=cmap, fmt='d'); #annot=True to annotate cells\n",
    "    plt.title(f'{response} Confusion Matrix')\n",
    "    plt.xlabel('Predicted State Response')\n",
    "    ax1.set_ylabel('Actual State Response')\n",
    "    ax1.xaxis.set_ticklabels([f'No {response}', response])\n",
    "    ax1.yaxis.set_ticklabels([f'No {response}', response], va='center')\n",
    "    plt.show();"
   ]
  },
  {
   "cell_type": "code",
   "execution_count": null,
   "metadata": {},
   "outputs": [],
   "source": []
  },
  {
   "cell_type": "markdown",
   "metadata": {},
   "source": [
    "**Print summary report**"
   ]
  },
  {
   "cell_type": "code",
   "execution_count": 27,
   "metadata": {},
   "outputs": [
    {
     "name": "stdout",
     "output_type": "stream",
     "text": [
      "              precision    recall  f1-score   support\n",
      "\n",
      "           0       0.90      0.03      0.06       534\n",
      "           1       1.00      0.04      0.08       391\n",
      "           2       0.82      0.07      0.12       207\n",
      "           3       0.77      0.49      0.59      1198\n",
      "           4       0.72      0.88      0.80      2031\n",
      "           5       0.86      0.03      0.06       210\n",
      "           6       0.78      0.03      0.06       231\n",
      "\n",
      "   micro avg       0.74      0.51      0.60      4802\n",
      "   macro avg       0.84      0.22      0.25      4802\n",
      "weighted avg       0.79      0.51      0.51      4802\n",
      " samples avg       0.63      0.59      0.60      4802\n",
      "\n"
     ]
    },
    {
     "name": "stderr",
     "output_type": "stream",
     "text": [
      "C:\\ProgramData\\Anaconda3\\lib\\site-packages\\sklearn\\metrics\\_classification.py:1245: UndefinedMetricWarning: Precision and F-score are ill-defined and being set to 0.0 in samples with no predicted labels. Use `zero_division` parameter to control this behavior.\n",
      "  _warn_prf(average, modifier, msg_start, len(result))\n",
      "C:\\ProgramData\\Anaconda3\\lib\\site-packages\\sklearn\\metrics\\_classification.py:1245: UndefinedMetricWarning: Recall and F-score are ill-defined and being set to 0.0 in samples with no true labels. Use `zero_division` parameter to control this behavior.\n",
      "  _warn_prf(average, modifier, msg_start, len(result))\n"
     ]
    }
   ],
   "source": [
    "print( classification_report(y_test,y_preds))"
   ]
  },
  {
   "cell_type": "code",
   "execution_count": null,
   "metadata": {},
   "outputs": [],
   "source": []
  },
  {
   "cell_type": "code",
   "execution_count": null,
   "metadata": {},
   "outputs": [],
   "source": []
  }
 ],
 "metadata": {
  "kernelspec": {
   "display_name": "Python 3",
   "language": "python",
   "name": "python3"
  },
  "language_info": {
   "codemirror_mode": {
    "name": "ipython",
    "version": 3
   },
   "file_extension": ".py",
   "mimetype": "text/x-python",
   "name": "python",
   "nbconvert_exporter": "python",
   "pygments_lexer": "ipython3",
   "version": "3.8.3"
  }
 },
 "nbformat": 4,
 "nbformat_minor": 4
}
